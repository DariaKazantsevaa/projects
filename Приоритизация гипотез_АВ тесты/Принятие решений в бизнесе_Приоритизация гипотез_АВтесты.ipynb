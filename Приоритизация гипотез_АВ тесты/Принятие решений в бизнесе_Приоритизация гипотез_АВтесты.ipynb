{
 "cells": [
  {
   "cell_type": "markdown",
   "metadata": {},
   "source": [
    "## Описание проекта"
   ]
  },
  {
   "cell_type": "markdown",
   "metadata": {},
   "source": [
    "Вы — аналитик крупного интернет-магазина. Вместе с отделом маркетинга вы подготовили список гипотез для увеличения выручки.\n",
    "Приоритизируйте гипотезы, запустите A/B-тест и проанализируйте результаты"
   ]
  },
  {
   "cell_type": "markdown",
   "metadata": {},
   "source": [
    "## Подготовка данных"
   ]
  },
  {
   "cell_type": "code",
   "execution_count": 1,
   "metadata": {},
   "outputs": [],
   "source": [
    "import pandas as pd\n",
    "import matplotlib.pyplot as plt\n",
    "import seaborn as sns\n",
    "import numpy as np\n",
    "from scipy import stats as st\n",
    "import datetime as dt\n",
    "import scipy.stats as stats"
   ]
  },
  {
   "cell_type": "code",
   "execution_count": 2,
   "metadata": {},
   "outputs": [
    {
     "data": {
      "text/html": [
       "<div>\n",
       "<style scoped>\n",
       "    .dataframe tbody tr th:only-of-type {\n",
       "        vertical-align: middle;\n",
       "    }\n",
       "\n",
       "    .dataframe tbody tr th {\n",
       "        vertical-align: top;\n",
       "    }\n",
       "\n",
       "    .dataframe thead th {\n",
       "        text-align: right;\n",
       "    }\n",
       "</style>\n",
       "<table border=\"1\" class=\"dataframe\">\n",
       "  <thead>\n",
       "    <tr style=\"text-align: right;\">\n",
       "      <th></th>\n",
       "      <th>Hypothesis</th>\n",
       "      <th>Reach</th>\n",
       "      <th>Impact</th>\n",
       "      <th>Confidence</th>\n",
       "      <th>Efforts</th>\n",
       "    </tr>\n",
       "  </thead>\n",
       "  <tbody>\n",
       "    <tr>\n",
       "      <th>0</th>\n",
       "      <td>Добавить два новых канала привлечения трафика,...</td>\n",
       "      <td>3</td>\n",
       "      <td>10</td>\n",
       "      <td>8</td>\n",
       "      <td>6</td>\n",
       "    </tr>\n",
       "    <tr>\n",
       "      <th>1</th>\n",
       "      <td>Запустить собственную службу доставки, что сок...</td>\n",
       "      <td>2</td>\n",
       "      <td>5</td>\n",
       "      <td>4</td>\n",
       "      <td>10</td>\n",
       "    </tr>\n",
       "    <tr>\n",
       "      <th>2</th>\n",
       "      <td>Добавить блоки рекомендаций товаров на сайт ин...</td>\n",
       "      <td>8</td>\n",
       "      <td>3</td>\n",
       "      <td>7</td>\n",
       "      <td>3</td>\n",
       "    </tr>\n",
       "    <tr>\n",
       "      <th>3</th>\n",
       "      <td>Изменить структура категорий, что увеличит кон...</td>\n",
       "      <td>8</td>\n",
       "      <td>3</td>\n",
       "      <td>3</td>\n",
       "      <td>8</td>\n",
       "    </tr>\n",
       "    <tr>\n",
       "      <th>4</th>\n",
       "      <td>Изменить цвет фона главной страницы, чтобы уве...</td>\n",
       "      <td>3</td>\n",
       "      <td>1</td>\n",
       "      <td>1</td>\n",
       "      <td>1</td>\n",
       "    </tr>\n",
       "  </tbody>\n",
       "</table>\n",
       "</div>"
      ],
      "text/plain": [
       "                                          Hypothesis  Reach  Impact  \\\n",
       "0  Добавить два новых канала привлечения трафика,...      3      10   \n",
       "1  Запустить собственную службу доставки, что сок...      2       5   \n",
       "2  Добавить блоки рекомендаций товаров на сайт ин...      8       3   \n",
       "3  Изменить структура категорий, что увеличит кон...      8       3   \n",
       "4  Изменить цвет фона главной страницы, чтобы уве...      3       1   \n",
       "\n",
       "   Confidence  Efforts  \n",
       "0           8        6  \n",
       "1           4       10  \n",
       "2           7        3  \n",
       "3           3        8  \n",
       "4           1        1  "
      ]
     },
     "execution_count": 2,
     "metadata": {},
     "output_type": "execute_result"
    }
   ],
   "source": [
    "hypothesis = pd.read_csv('/datasets/hypothesis.csv')\n",
    "orders = pd.read_csv('/datasets/orders.csv')\n",
    "visitors = pd.read_csv('/datasets/visitors.csv')\n",
    "hypothesis.head()"
   ]
  },
  {
   "cell_type": "code",
   "execution_count": 3,
   "metadata": {},
   "outputs": [],
   "source": [
    "# для удобства работы все названия столбцов в таблице с гипотезами сделаем со строчной буквы\n",
    "hypothesis.columns = hypothesis.columns.str.lower()"
   ]
  },
  {
   "cell_type": "code",
   "execution_count": 4,
   "metadata": {},
   "outputs": [
    {
     "data": {
      "text/html": [
       "<div>\n",
       "<style scoped>\n",
       "    .dataframe tbody tr th:only-of-type {\n",
       "        vertical-align: middle;\n",
       "    }\n",
       "\n",
       "    .dataframe tbody tr th {\n",
       "        vertical-align: top;\n",
       "    }\n",
       "\n",
       "    .dataframe thead th {\n",
       "        text-align: right;\n",
       "    }\n",
       "</style>\n",
       "<table border=\"1\" class=\"dataframe\">\n",
       "  <thead>\n",
       "    <tr style=\"text-align: right;\">\n",
       "      <th></th>\n",
       "      <th>transactionId</th>\n",
       "      <th>visitorId</th>\n",
       "      <th>date</th>\n",
       "      <th>revenue</th>\n",
       "      <th>group</th>\n",
       "    </tr>\n",
       "  </thead>\n",
       "  <tbody>\n",
       "    <tr>\n",
       "      <th>0</th>\n",
       "      <td>3667963787</td>\n",
       "      <td>3312258926</td>\n",
       "      <td>2019-08-15</td>\n",
       "      <td>1650</td>\n",
       "      <td>B</td>\n",
       "    </tr>\n",
       "    <tr>\n",
       "      <th>1</th>\n",
       "      <td>2804400009</td>\n",
       "      <td>3642806036</td>\n",
       "      <td>2019-08-15</td>\n",
       "      <td>730</td>\n",
       "      <td>B</td>\n",
       "    </tr>\n",
       "    <tr>\n",
       "      <th>2</th>\n",
       "      <td>2961555356</td>\n",
       "      <td>4069496402</td>\n",
       "      <td>2019-08-15</td>\n",
       "      <td>400</td>\n",
       "      <td>A</td>\n",
       "    </tr>\n",
       "    <tr>\n",
       "      <th>3</th>\n",
       "      <td>3797467345</td>\n",
       "      <td>1196621759</td>\n",
       "      <td>2019-08-15</td>\n",
       "      <td>9759</td>\n",
       "      <td>B</td>\n",
       "    </tr>\n",
       "    <tr>\n",
       "      <th>4</th>\n",
       "      <td>2282983706</td>\n",
       "      <td>2322279887</td>\n",
       "      <td>2019-08-15</td>\n",
       "      <td>2308</td>\n",
       "      <td>B</td>\n",
       "    </tr>\n",
       "  </tbody>\n",
       "</table>\n",
       "</div>"
      ],
      "text/plain": [
       "   transactionId   visitorId        date  revenue group\n",
       "0     3667963787  3312258926  2019-08-15     1650     B\n",
       "1     2804400009  3642806036  2019-08-15      730     B\n",
       "2     2961555356  4069496402  2019-08-15      400     A\n",
       "3     3797467345  1196621759  2019-08-15     9759     B\n",
       "4     2282983706  2322279887  2019-08-15     2308     B"
      ]
     },
     "execution_count": 4,
     "metadata": {},
     "output_type": "execute_result"
    }
   ],
   "source": [
    "orders.head()"
   ]
  },
  {
   "cell_type": "code",
   "execution_count": 5,
   "metadata": {},
   "outputs": [
    {
     "name": "stdout",
     "output_type": "stream",
     "text": [
      "<class 'pandas.core.frame.DataFrame'>\n",
      "RangeIndex: 1197 entries, 0 to 1196\n",
      "Data columns (total 5 columns):\n",
      " #   Column         Non-Null Count  Dtype \n",
      "---  ------         --------------  ----- \n",
      " 0   transactionId  1197 non-null   int64 \n",
      " 1   visitorId      1197 non-null   int64 \n",
      " 2   date           1197 non-null   object\n",
      " 3   revenue        1197 non-null   int64 \n",
      " 4   group          1197 non-null   object\n",
      "dtypes: int64(3), object(2)\n",
      "memory usage: 46.9+ KB\n"
     ]
    }
   ],
   "source": [
    "orders.info()"
   ]
  },
  {
   "cell_type": "code",
   "execution_count": 6,
   "metadata": {},
   "outputs": [
    {
     "data": {
      "text/html": [
       "<div>\n",
       "<style scoped>\n",
       "    .dataframe tbody tr th:only-of-type {\n",
       "        vertical-align: middle;\n",
       "    }\n",
       "\n",
       "    .dataframe tbody tr th {\n",
       "        vertical-align: top;\n",
       "    }\n",
       "\n",
       "    .dataframe thead th {\n",
       "        text-align: right;\n",
       "    }\n",
       "</style>\n",
       "<table border=\"1\" class=\"dataframe\">\n",
       "  <thead>\n",
       "    <tr style=\"text-align: right;\">\n",
       "      <th></th>\n",
       "      <th>date</th>\n",
       "      <th>group</th>\n",
       "      <th>visitors</th>\n",
       "    </tr>\n",
       "  </thead>\n",
       "  <tbody>\n",
       "    <tr>\n",
       "      <th>0</th>\n",
       "      <td>2019-08-01</td>\n",
       "      <td>A</td>\n",
       "      <td>719</td>\n",
       "    </tr>\n",
       "    <tr>\n",
       "      <th>1</th>\n",
       "      <td>2019-08-02</td>\n",
       "      <td>A</td>\n",
       "      <td>619</td>\n",
       "    </tr>\n",
       "    <tr>\n",
       "      <th>2</th>\n",
       "      <td>2019-08-03</td>\n",
       "      <td>A</td>\n",
       "      <td>507</td>\n",
       "    </tr>\n",
       "    <tr>\n",
       "      <th>3</th>\n",
       "      <td>2019-08-04</td>\n",
       "      <td>A</td>\n",
       "      <td>717</td>\n",
       "    </tr>\n",
       "    <tr>\n",
       "      <th>4</th>\n",
       "      <td>2019-08-05</td>\n",
       "      <td>A</td>\n",
       "      <td>756</td>\n",
       "    </tr>\n",
       "  </tbody>\n",
       "</table>\n",
       "</div>"
      ],
      "text/plain": [
       "         date group  visitors\n",
       "0  2019-08-01     A       719\n",
       "1  2019-08-02     A       619\n",
       "2  2019-08-03     A       507\n",
       "3  2019-08-04     A       717\n",
       "4  2019-08-05     A       756"
      ]
     },
     "execution_count": 6,
     "metadata": {},
     "output_type": "execute_result"
    }
   ],
   "source": [
    "visitors.head()"
   ]
  },
  {
   "cell_type": "code",
   "execution_count": 7,
   "metadata": {},
   "outputs": [
    {
     "name": "stdout",
     "output_type": "stream",
     "text": [
      "<class 'pandas.core.frame.DataFrame'>\n",
      "RangeIndex: 62 entries, 0 to 61\n",
      "Data columns (total 3 columns):\n",
      " #   Column    Non-Null Count  Dtype \n",
      "---  ------    --------------  ----- \n",
      " 0   date      62 non-null     object\n",
      " 1   group     62 non-null     object\n",
      " 2   visitors  62 non-null     int64 \n",
      "dtypes: int64(1), object(2)\n",
      "memory usage: 1.6+ KB\n"
     ]
    }
   ],
   "source": [
    "visitors.info()"
   ]
  },
  {
   "cell_type": "markdown",
   "metadata": {},
   "source": [
    "## Приоритизация гипотез"
   ]
  },
  {
   "cell_type": "markdown",
   "metadata": {},
   "source": [
    "### Фреймворк ICE"
   ]
  },
  {
   "cell_type": "code",
   "execution_count": 8,
   "metadata": {},
   "outputs": [],
   "source": [
    "hypothesis['ICE'] = hypothesis['impact'] * hypothesis['confidence'] / hypothesis['efforts']"
   ]
  },
  {
   "cell_type": "code",
   "execution_count": 9,
   "metadata": {},
   "outputs": [
    {
     "data": {
      "text/html": [
       "<div>\n",
       "<style scoped>\n",
       "    .dataframe tbody tr th:only-of-type {\n",
       "        vertical-align: middle;\n",
       "    }\n",
       "\n",
       "    .dataframe tbody tr th {\n",
       "        vertical-align: top;\n",
       "    }\n",
       "\n",
       "    .dataframe thead th {\n",
       "        text-align: right;\n",
       "    }\n",
       "</style>\n",
       "<table border=\"1\" class=\"dataframe\">\n",
       "  <thead>\n",
       "    <tr style=\"text-align: right;\">\n",
       "      <th></th>\n",
       "      <th>hypothesis</th>\n",
       "      <th>ICE</th>\n",
       "    </tr>\n",
       "  </thead>\n",
       "  <tbody>\n",
       "    <tr>\n",
       "      <th>8</th>\n",
       "      <td>Запустить акцию, дающую скидку на товар в день...</td>\n",
       "      <td>16.200000</td>\n",
       "    </tr>\n",
       "    <tr>\n",
       "      <th>0</th>\n",
       "      <td>Добавить два новых канала привлечения трафика,...</td>\n",
       "      <td>13.333333</td>\n",
       "    </tr>\n",
       "    <tr>\n",
       "      <th>7</th>\n",
       "      <td>Добавить форму подписки на все основные страни...</td>\n",
       "      <td>11.200000</td>\n",
       "    </tr>\n",
       "    <tr>\n",
       "      <th>6</th>\n",
       "      <td>Показать на главной странице баннеры с актуаль...</td>\n",
       "      <td>8.000000</td>\n",
       "    </tr>\n",
       "    <tr>\n",
       "      <th>2</th>\n",
       "      <td>Добавить блоки рекомендаций товаров на сайт ин...</td>\n",
       "      <td>7.000000</td>\n",
       "    </tr>\n",
       "    <tr>\n",
       "      <th>1</th>\n",
       "      <td>Запустить собственную службу доставки, что сок...</td>\n",
       "      <td>2.000000</td>\n",
       "    </tr>\n",
       "    <tr>\n",
       "      <th>5</th>\n",
       "      <td>Добавить страницу отзывов клиентов о магазине,...</td>\n",
       "      <td>1.333333</td>\n",
       "    </tr>\n",
       "    <tr>\n",
       "      <th>3</th>\n",
       "      <td>Изменить структура категорий, что увеличит кон...</td>\n",
       "      <td>1.125000</td>\n",
       "    </tr>\n",
       "    <tr>\n",
       "      <th>4</th>\n",
       "      <td>Изменить цвет фона главной страницы, чтобы уве...</td>\n",
       "      <td>1.000000</td>\n",
       "    </tr>\n",
       "  </tbody>\n",
       "</table>\n",
       "</div>"
      ],
      "text/plain": [
       "                                          hypothesis        ICE\n",
       "8  Запустить акцию, дающую скидку на товар в день...  16.200000\n",
       "0  Добавить два новых канала привлечения трафика,...  13.333333\n",
       "7  Добавить форму подписки на все основные страни...  11.200000\n",
       "6  Показать на главной странице баннеры с актуаль...   8.000000\n",
       "2  Добавить блоки рекомендаций товаров на сайт ин...   7.000000\n",
       "1  Запустить собственную службу доставки, что сок...   2.000000\n",
       "5  Добавить страницу отзывов клиентов о магазине,...   1.333333\n",
       "3  Изменить структура категорий, что увеличит кон...   1.125000\n",
       "4  Изменить цвет фона главной страницы, чтобы уве...   1.000000"
      ]
     },
     "execution_count": 9,
     "metadata": {},
     "output_type": "execute_result"
    }
   ],
   "source": [
    "hypothesis.sort_values(by='ICE',ascending=False,)[['hypothesis','ICE']]"
   ]
  },
  {
   "cell_type": "markdown",
   "metadata": {},
   "source": [
    "### Фреймворк RICE"
   ]
  },
  {
   "cell_type": "code",
   "execution_count": 10,
   "metadata": {},
   "outputs": [],
   "source": [
    "hypothesis['RICE'] = hypothesis['reach'] * hypothesis['impact'] * hypothesis['confidence'] / hypothesis['efforts']"
   ]
  },
  {
   "cell_type": "code",
   "execution_count": 11,
   "metadata": {},
   "outputs": [
    {
     "data": {
      "text/html": [
       "<div>\n",
       "<style scoped>\n",
       "    .dataframe tbody tr th:only-of-type {\n",
       "        vertical-align: middle;\n",
       "    }\n",
       "\n",
       "    .dataframe tbody tr th {\n",
       "        vertical-align: top;\n",
       "    }\n",
       "\n",
       "    .dataframe thead th {\n",
       "        text-align: right;\n",
       "    }\n",
       "</style>\n",
       "<table border=\"1\" class=\"dataframe\">\n",
       "  <thead>\n",
       "    <tr style=\"text-align: right;\">\n",
       "      <th></th>\n",
       "      <th>hypothesis</th>\n",
       "      <th>RICE</th>\n",
       "    </tr>\n",
       "  </thead>\n",
       "  <tbody>\n",
       "    <tr>\n",
       "      <th>7</th>\n",
       "      <td>Добавить форму подписки на все основные страни...</td>\n",
       "      <td>112.0</td>\n",
       "    </tr>\n",
       "    <tr>\n",
       "      <th>2</th>\n",
       "      <td>Добавить блоки рекомендаций товаров на сайт ин...</td>\n",
       "      <td>56.0</td>\n",
       "    </tr>\n",
       "    <tr>\n",
       "      <th>0</th>\n",
       "      <td>Добавить два новых канала привлечения трафика,...</td>\n",
       "      <td>40.0</td>\n",
       "    </tr>\n",
       "    <tr>\n",
       "      <th>6</th>\n",
       "      <td>Показать на главной странице баннеры с актуаль...</td>\n",
       "      <td>40.0</td>\n",
       "    </tr>\n",
       "    <tr>\n",
       "      <th>8</th>\n",
       "      <td>Запустить акцию, дающую скидку на товар в день...</td>\n",
       "      <td>16.2</td>\n",
       "    </tr>\n",
       "    <tr>\n",
       "      <th>3</th>\n",
       "      <td>Изменить структура категорий, что увеличит кон...</td>\n",
       "      <td>9.0</td>\n",
       "    </tr>\n",
       "    <tr>\n",
       "      <th>1</th>\n",
       "      <td>Запустить собственную службу доставки, что сок...</td>\n",
       "      <td>4.0</td>\n",
       "    </tr>\n",
       "    <tr>\n",
       "      <th>5</th>\n",
       "      <td>Добавить страницу отзывов клиентов о магазине,...</td>\n",
       "      <td>4.0</td>\n",
       "    </tr>\n",
       "    <tr>\n",
       "      <th>4</th>\n",
       "      <td>Изменить цвет фона главной страницы, чтобы уве...</td>\n",
       "      <td>3.0</td>\n",
       "    </tr>\n",
       "  </tbody>\n",
       "</table>\n",
       "</div>"
      ],
      "text/plain": [
       "                                          hypothesis   RICE\n",
       "7  Добавить форму подписки на все основные страни...  112.0\n",
       "2  Добавить блоки рекомендаций товаров на сайт ин...   56.0\n",
       "0  Добавить два новых канала привлечения трафика,...   40.0\n",
       "6  Показать на главной странице баннеры с актуаль...   40.0\n",
       "8  Запустить акцию, дающую скидку на товар в день...   16.2\n",
       "3  Изменить структура категорий, что увеличит кон...    9.0\n",
       "1  Запустить собственную службу доставки, что сок...    4.0\n",
       "5  Добавить страницу отзывов клиентов о магазине,...    4.0\n",
       "4  Изменить цвет фона главной страницы, чтобы уве...    3.0"
      ]
     },
     "execution_count": 11,
     "metadata": {},
     "output_type": "execute_result"
    }
   ],
   "source": [
    "hypothesis.sort_values(by='RICE',ascending=False,)[['hypothesis','RICE']]"
   ]
  },
  {
   "cell_type": "markdown",
   "metadata": {},
   "source": [
    "### Выводы"
   ]
  },
  {
   "cell_type": "markdown",
   "metadata": {},
   "source": [
    "Для фреймворка ICE самые приоритетные гипотезы - 8, 0 и 7. После приоритизации по RICE на второе место вышла гипотеза 2, а на первом стала 7. На изменение приоритетных гипотех веротяно повлиял параметр **REACH** - количество пользователей, которых затронет изменение. ТАк как этот параметр достаточно важен, приоритетными оставим гипотезы 7, 2 и 0."
   ]
  },
  {
   "cell_type": "markdown",
   "metadata": {},
   "source": [
    "## Анализ А/В теста"
   ]
  },
  {
   "cell_type": "markdown",
   "metadata": {},
   "source": [
    "### график кумулятивной выручки по группам"
   ]
  },
  {
   "cell_type": "code",
   "execution_count": 12,
   "metadata": {},
   "outputs": [],
   "source": [
    "orders['date'] = orders['date'].map(lambda x: dt.datetime.strptime(x, '%Y-%m-%d'))"
   ]
  },
  {
   "cell_type": "code",
   "execution_count": 13,
   "metadata": {},
   "outputs": [],
   "source": [
    "visitors['date'] = visitors['date'].map(lambda x: dt.datetime.strptime(x, '%Y-%m-%d'))"
   ]
  },
  {
   "cell_type": "code",
   "execution_count": 14,
   "metadata": {},
   "outputs": [],
   "source": [
    "datesGroups = orders[['date', 'group']].drop_duplicates()\n",
    "\n",
    "ordersAggregated = datesGroups.apply(\n",
    "    lambda x: orders[np.logical_and(orders['date'] <= x['date'], orders['group'] == x['group'])]\\\n",
    ".agg({'date' : 'max', 'group' : 'max', 'transactionId' : 'nunique', 'visitorId' : 'nunique', 'revenue' : 'sum'}), axis=1)\\\n",
    ".sort_values(by=['date','group'])\n",
    "\n",
    "visitorsAggregated = datesGroups.apply(\n",
    "    lambda x: visitors[np.logical_and(visitors['date'] <= x['date'], visitors['group'] == x['group'])]\\\n",
    "    .agg({'date' : 'max', 'group' : 'max', 'visitors' : 'sum'}), axis=1)\\\n",
    ".sort_values(by=['date','group'])\n",
    "\n",
    "cumulativeData = ordersAggregated.merge(visitorsAggregated, left_on=['date', 'group'], right_on=['date', 'group'])\n",
    "cumulativeData.columns = ['date', 'group', 'orders', 'buyers', 'revenue', 'visitors']"
   ]
  },
  {
   "cell_type": "code",
   "execution_count": 15,
   "metadata": {},
   "outputs": [
    {
     "data": {
      "image/png": "[encoded data removed]",
      "text/plain": [
       "<Figure size 1152x576 with 1 Axes>"
      ]
     },
     "metadata": {
      "needs_background": "light"
     },
     "output_type": "display_data"
    }
   ],
   "source": [
    "cumulativeRevenueA = cumulativeData[cumulativeData['group']=='A'][['date','revenue', 'orders']]\n",
    "\n",
    "cumulativeRevenueB = cumulativeData[cumulativeData['group']=='B'][['date','revenue', 'orders']]\n",
    "\n",
    "\n",
    "plt.figure(figsize=(16,8))\n",
    "plt.plot(cumulativeRevenueA['date'], cumulativeRevenueA['revenue'], label='A');\n",
    "plt.plot(cumulativeRevenueB['date'], cumulativeRevenueB['revenue'], label='B');\n",
    "plt.legend();\n",
    "plt.title('график кумулятивной выручки по группам', pad=25);\n",
    "plt.xlabel(\"дата\")\n",
    "plt.ylabel(\"выручка\");"
   ]
  },
  {
   "cell_type": "markdown",
   "metadata": {},
   "source": [
    "* Судя по графику, кумулятивная выручка группы В стабильно растет. Но есть большой скачок после 17 августа, возможно были какие-то аномально крупные заказы."
   ]
  },
  {
   "cell_type": "markdown",
   "metadata": {},
   "source": [
    "### график кумулятивного среднего чека по группам"
   ]
  },
  {
   "cell_type": "code",
   "execution_count": 16,
   "metadata": {
    "scrolled": false
   },
   "outputs": [
    {
     "data": {
      "image/png": "[encoded data removed]",
      "text/plain": [
       "<Figure size 1152x576 with 1 Axes>"
      ]
     },
     "metadata": {
      "needs_background": "light"
     },
     "output_type": "display_data"
    }
   ],
   "source": [
    "plt.figure(figsize=(16,8))\n",
    "plt.plot(cumulativeRevenueA['date'], cumulativeRevenueA['revenue']/cumulativeRevenueA['orders'], label='A')\n",
    "plt.plot(cumulativeRevenueB['date'], cumulativeRevenueB['revenue']/cumulativeRevenueB['orders'], label='B')\n",
    "plt.legend()\n",
    "plt.xlabel(\"дата\")\n",
    "plt.ylabel(\"средний чек\");\n",
    "plt.title('график кумулятивного среднего чека по группам', pad=25);"
   ]
  },
  {
   "cell_type": "markdown",
   "metadata": {},
   "source": [
    "* средний чек группы В также растет. И также есть резкий скачок среднего чека после 17 августа. В группе А есть небольшой росто после 5 августа, дальше чек почти не меняется."
   ]
  },
  {
   "cell_type": "markdown",
   "metadata": {},
   "source": [
    "### график относительного изменения кумулятивного среднего чека группы B к группе A"
   ]
  },
  {
   "cell_type": "code",
   "execution_count": 17,
   "metadata": {},
   "outputs": [
    {
     "data": {
      "image/png": "[encoded data removed]",
      "text/plain": [
       "<Figure size 1152x576 with 1 Axes>"
      ]
     },
     "metadata": {
      "needs_background": "light"
     },
     "output_type": "display_data"
    }
   ],
   "source": [
    "plt.figure(figsize=(16,8))\n",
    "mergedCumulativeRevenue = cumulativeRevenueA\\\n",
    ".merge(cumulativeRevenueB, left_on='date', right_on='date', how='left', suffixes=['A', 'B'])\n",
    "\n",
    "plt.plot(mergedCumulativeRevenue['date'],\n",
    "         (mergedCumulativeRevenue['revenueB']/mergedCumulativeRevenue['ordersB'])/(mergedCumulativeRevenue['revenueA']\n",
    "                                                                                   /mergedCumulativeRevenue['ordersA'])-1)\n",
    "\n",
    "plt.axhline(y=0, color='black', linestyle='--')\n",
    "plt.xlabel(\"дата\")\n",
    "\n",
    "plt.title('график относительного изменения кумулятивного среднего чека группы B к группе A', pad=25);"
   ]
  },
  {
   "cell_type": "markdown",
   "metadata": {},
   "source": [
    "* Данные по группе В в целом растут, но заметен резкий провал примерно 13 августа, а после 17 опять резкий скачок. Возможно в группе А были крупные заказы или очень много покупок"
   ]
  },
  {
   "cell_type": "markdown",
   "metadata": {},
   "source": [
    "### график кумулятивной конверсии по группам"
   ]
  },
  {
   "cell_type": "code",
   "execution_count": 18,
   "metadata": {},
   "outputs": [
    {
     "data": {
      "image/png": "[encoded data removed]",
      "text/plain": [
       "<Figure size 1152x576 with 1 Axes>"
      ]
     },
     "metadata": {
      "needs_background": "light"
     },
     "output_type": "display_data"
    }
   ],
   "source": [
    "plt.figure(figsize=(16,8))\n",
    "cumulativeData['conversion'] = cumulativeData['orders']/cumulativeData['visitors']\n",
    "\n",
    "cumulativeDataA = cumulativeData[cumulativeData['group']=='A']\n",
    "\n",
    "cumulativeDataB = cumulativeData[cumulativeData['group']=='B']\n",
    "\n",
    "plt.plot(cumulativeDataA['date'], cumulativeDataA['conversion'], label='A')\n",
    "plt.plot(cumulativeDataB['date'], cumulativeDataB['conversion'], label='B')\n",
    "plt.legend()\n",
    "plt.xlabel(\"дата\")\n",
    "plt.ylabel(\"конверсия\");\n",
    "plt.axis([dt.datetime(2019, 8, 1), dt.datetime(2019, 9, 1), 0.015, 0.05])\n",
    "plt.title('график кумулятивной конверсии по группам', pad=25);"
   ]
  },
  {
   "cell_type": "markdown",
   "metadata": {},
   "source": [
    "* В группе В конверсия стабильно растет и становится больше конверсии группы А"
   ]
  },
  {
   "cell_type": "markdown",
   "metadata": {},
   "source": [
    "### график относительного изменения кумулятивной конверсии группы B к группе A"
   ]
  },
  {
   "cell_type": "code",
   "execution_count": 19,
   "metadata": {},
   "outputs": [
    {
     "data": {
      "image/png": "[encoded data removed]",
      "text/plain": [
       "<Figure size 1152x576 with 1 Axes>"
      ]
     },
     "metadata": {
      "needs_background": "light"
     },
     "output_type": "display_data"
    }
   ],
   "source": [
    "plt.figure(figsize=(16,8))\n",
    "mergedCumulativeConversions = cumulativeDataA[['date','conversion']] \\\n",
    ".merge(cumulativeDataB[['date','conversion']], left_on='date', right_on='date', how='left', suffixes=['A', 'B'])\n",
    "\n",
    "plt.plot(mergedCumulativeConversions['date'], \n",
    "         mergedCumulativeConversions['conversionB']/mergedCumulativeConversions['conversionA']-1, label=\"Относительный прирост конверсии группы B относительно группы A\")\n",
    "plt.legend()\n",
    "plt.xlabel(\"дата\")\n",
    "\n",
    "plt.axhline(y=0, color='black', linestyle='--')\n",
    "plt.axhline(y=0.1, color='grey', linestyle='--')\n",
    "plt.axis([dt.datetime(2019, 8, 1), dt.datetime(2019, 9, 1), -0.4, 0.5]);"
   ]
  },
  {
   "cell_type": "markdown",
   "metadata": {},
   "source": [
    "* Относительное значение прироста конверсии группы В к группе А также растет, за исключением провала между 1 и 5 августа. Но к концу наблюдений рост стабильный"
   ]
  },
  {
   "cell_type": "markdown",
   "metadata": {},
   "source": [
    "### точечный график количества заказов по пользователям"
   ]
  },
  {
   "cell_type": "code",
   "execution_count": 20,
   "metadata": {},
   "outputs": [],
   "source": [
    "ordersByUsers = (\n",
    "    orders.groupby('visitorId', as_index=False)\n",
    "    .agg({'transactionId': 'nunique'})\n",
    ")"
   ]
  },
  {
   "cell_type": "code",
   "execution_count": 21,
   "metadata": {},
   "outputs": [],
   "source": [
    "ordersByUsers.columns = ['userId', 'orders']"
   ]
  },
  {
   "cell_type": "code",
   "execution_count": 22,
   "metadata": {},
   "outputs": [
    {
     "data": {
      "image/png": "[encoded data removed]",
      "text/plain": [
       "<Figure size 1152x576 with 1 Axes>"
      ]
     },
     "metadata": {
      "needs_background": "light"
     },
     "output_type": "display_data"
    }
   ],
   "source": [
    "x_values = pd.Series(range(0, len(ordersByUsers)))\n",
    "plt.figure(figsize=(16,8))\n",
    "plt.scatter(x_values, ordersByUsers['orders'])\n",
    "plt.xlabel(\"количество пользователей\")\n",
    "plt.ylabel(\"количество заказов\");\n",
    "plt.title('количество заказов на пользователя', pad=25);"
   ]
  },
  {
   "cell_type": "markdown",
   "metadata": {},
   "source": [
    "* На графике видим, что в основном пользователи совершают 1-2 заказа. НЕмного пользователей делают 3 и больге заказов. Чтобы узнать границы, по которым можно отсеять аномальные заказы и пользователей, найдем 95 и 99 перцентили"
   ]
  },
  {
   "cell_type": "markdown",
   "metadata": {},
   "source": [
    "### 95-й и 99-й перцентили количества заказов на пользователя"
   ]
  },
  {
   "cell_type": "code",
   "execution_count": 23,
   "metadata": {},
   "outputs": [
    {
     "data": {
      "text/plain": [
       "array([2., 4.])"
      ]
     },
     "execution_count": 23,
     "metadata": {},
     "output_type": "execute_result"
    }
   ],
   "source": [
    "np.percentile(ordersByUsers['orders'], [95, 99])"
   ]
  },
  {
   "cell_type": "markdown",
   "metadata": {},
   "source": [
    "* Всего лишь 5% совершают больше 2 заказов, и всего 1% больше 4. Для определения аномальных пользователей возьмем за граничное значение 2 заказа - таким образом остается 95% пользователей."
   ]
  },
  {
   "cell_type": "markdown",
   "metadata": {},
   "source": [
    "### точечный график стоимостей заказов"
   ]
  },
  {
   "cell_type": "code",
   "execution_count": 24,
   "metadata": {},
   "outputs": [
    {
     "data": {
      "image/png": "[encoded data removed]",
      "text/plain": [
       "<Figure size 1152x576 with 1 Axes>"
      ]
     },
     "metadata": {
      "needs_background": "light"
     },
     "output_type": "display_data"
    }
   ],
   "source": [
    "x_values = pd.Series(range(0, len(orders['revenue'])))\n",
    "plt.figure(figsize=(16,8))\n",
    "plt.scatter(x_values, orders['revenue'])\n",
    "plt.title('стоимость заказов на пользователя', pad=25);"
   ]
  },
  {
   "cell_type": "code",
   "execution_count": 25,
   "metadata": {},
   "outputs": [
    {
     "data": {
      "image/png": "[encoded data removed]",
      "text/plain": [
       "<Figure size 1152x576 with 1 Axes>"
      ]
     },
     "metadata": {
      "needs_background": "light"
     },
     "output_type": "display_data"
    }
   ],
   "source": [
    "plt.figure(figsize=(16,8))\n",
    "plt.hist(orders['revenue']);"
   ]
  },
  {
   "cell_type": "markdown",
   "metadata": {},
   "source": [
    "* по графику рассеяния видим, что есть некий аномальный заказ на 1.2 млн, но основная масса по стоимости сгруппирована около нуля. По гистограмме более детально видим, что почти все заказы по стоимости не превышают 100 тыс. Посмотрим теперь на перцентили"
   ]
  },
  {
   "cell_type": "markdown",
   "metadata": {},
   "source": [
    "### 95-й и 99-й перцентили стоимости заказов"
   ]
  },
  {
   "cell_type": "code",
   "execution_count": 26,
   "metadata": {},
   "outputs": [
    {
     "data": {
      "text/plain": [
       "array([28000. , 58233.2])"
      ]
     },
     "execution_count": 26,
     "metadata": {},
     "output_type": "execute_result"
    }
   ],
   "source": [
    "np.percentile(orders['revenue'], [95, 99])"
   ]
  },
  {
   "cell_type": "markdown",
   "metadata": {},
   "source": [
    "* 1% пользователей делают заказы на сумму свыше 58 тыс., а 5% свыше 28 тыс. Возьмем за границу для отфильтровки аномалий 28 тыс. и таким образом оставим в выботке оставшихся 95% пользователей"
   ]
  },
  {
   "cell_type": "markdown",
   "metadata": {},
   "source": [
    "### предварительные таблицы"
   ]
  },
  {
   "cell_type": "code",
   "execution_count": 27,
   "metadata": {},
   "outputs": [],
   "source": [
    "visitorsADaily = visitors[visitors['group'] == 'A'][['date', 'visitors']]\n",
    "visitorsADaily.columns = ['date', 'visitorsPerDateA']\n",
    "\n",
    "visitorsACummulative = visitorsADaily.apply(\n",
    "    lambda x: visitorsADaily[visitorsADaily['date'] <= x['date']].agg(\n",
    "        {'date': 'max', 'visitorsPerDateA': 'sum'}\n",
    "    ),\n",
    "    axis=1,\n",
    ")\n",
    "visitorsACummulative.columns = ['date', 'visitorsCummulativeA']"
   ]
  },
  {
   "cell_type": "code",
   "execution_count": 28,
   "metadata": {},
   "outputs": [],
   "source": [
    "visitorsBDaily = visitors[visitors['group'] == 'B'][['date', 'visitors']]\n",
    "visitorsBDaily.columns = ['date', 'visitorsPerDateB']\n",
    "\n",
    "visitorsBCummulative = visitorsBDaily.apply(\n",
    "    lambda x: visitorsBDaily[visitorsBDaily['date'] <= x['date']].agg(\n",
    "        {'date': 'max', 'visitorsPerDateB': 'sum'}\n",
    "    ),\n",
    "    axis=1,\n",
    ")\n",
    "visitorsBCummulative.columns = ['date', 'visitorsCummulativeB']"
   ]
  },
  {
   "cell_type": "code",
   "execution_count": 29,
   "metadata": {},
   "outputs": [],
   "source": [
    "ordersADaily = (\n",
    "    orders[orders['group'] == 'A'][['date', 'transactionId', 'visitorId', 'revenue']]\n",
    "    .groupby('date', as_index=False)\n",
    "    .agg({'transactionId': pd.Series.nunique, 'revenue': 'sum'})\n",
    ")\n",
    "ordersADaily.columns = ['date', 'ordersPerDateA', 'revenuePerDateA']\n",
    "\n",
    "ordersACummulative = ordersADaily.apply(\n",
    "    lambda x: ordersADaily[ordersADaily['date'] <= x['date']].agg(\n",
    "        {'date': 'max', 'ordersPerDateA': 'sum', 'revenuePerDateA': 'sum'}\n",
    "    ),\n",
    "    axis=1,\n",
    ").sort_values(by=['date'])\n",
    "ordersACummulative.columns = [\n",
    "    'date',\n",
    "    'ordersCummulativeA',\n",
    "    'revenueCummulativeA',\n",
    "]"
   ]
  },
  {
   "cell_type": "code",
   "execution_count": 30,
   "metadata": {},
   "outputs": [],
   "source": [
    "ordersBDaily = (\n",
    "    orders[orders['group'] == 'B'][['date', 'transactionId', 'visitorId', 'revenue']]\n",
    "    .groupby('date', as_index=False)\n",
    "    .agg({'transactionId': pd.Series.nunique, 'revenue': 'sum'})\n",
    ")\n",
    "ordersBDaily.columns = ['date', 'ordersPerDateB', 'revenuePerDateB']\n",
    "\n",
    "ordersBCummulative = ordersBDaily.apply(\n",
    "    lambda x: ordersBDaily[ordersBDaily['date'] <= x['date']].agg(\n",
    "        {'date': 'max', 'ordersPerDateB': 'sum', 'revenuePerDateB': 'sum'}\n",
    "    ),\n",
    "    axis=1,\n",
    ").sort_values(by=['date'])\n",
    "ordersBCummulative.columns = [\n",
    "    'date',\n",
    "    'ordersCummulativeB',\n",
    "    'revenueCummulativeB',\n",
    "]"
   ]
  },
  {
   "cell_type": "code",
   "execution_count": 31,
   "metadata": {},
   "outputs": [],
   "source": [
    "data = (\n",
    "    ordersADaily.merge(\n",
    "        ordersBDaily, left_on='date', right_on='date', how='left'\n",
    "    )\n",
    "    .merge(ordersACummulative, left_on='date', right_on='date', how='left')\n",
    "    .merge(ordersBCummulative, left_on='date', right_on='date', how='left')\n",
    "    .merge(visitorsADaily, left_on='date', right_on='date', how='left')\n",
    "    .merge(visitorsBDaily, left_on='date', right_on='date', how='left')\n",
    "    .merge(visitorsACummulative, left_on='date', right_on='date', how='left')\n",
    "    .merge(visitorsBCummulative, left_on='date', right_on='date', how='left')\n",
    ")"
   ]
  },
  {
   "cell_type": "markdown",
   "metadata": {},
   "source": [
    "### статистическая значимость различий в конверсии между группами по «сырым» данным\n",
    "\n",
    "Для определения статистической значимости зададимся следующими гипотезами:\n",
    "\n",
    "\n",
    "**H0 (нулевая гипотеза) - статистически значимых различий в конверсии между группами по сырым данным нет**\n",
    "\n",
    "**H1 (альтернативная гипотеза) - статистически значимые различия между конверсиями двух групп по сырым данным есть**\n",
    "\n",
    "Установим уровень статистической значимости равным alpha=0.05"
   ]
  },
  {
   "cell_type": "code",
   "execution_count": 32,
   "metadata": {},
   "outputs": [
    {
     "name": "stdout",
     "output_type": "stream",
     "text": [
      "0.01679\n",
      "0.138\n"
     ]
    }
   ],
   "source": [
    "ordersByUsersA = orders[orders['group']=='A'].groupby('visitorId', as_index=False).agg({'transactionId' : pd.Series.nunique})\n",
    "ordersByUsersA.columns = ['visitorId', 'orders']\n",
    " \n",
    "ordersByUsersB = orders[orders['group']=='B'].groupby('visitorId', as_index=False).agg({'transactionId' : pd.Series.nunique})\n",
    "ordersByUsersB.columns = ['visitorId', 'orders']\n",
    " \n",
    "sampleA = pd.concat([ordersByUsersA['orders'],\n",
    "                     pd.Series(0, index=np.arange(visitors[visitors['group']=='A']['visitors']\\\n",
    "                     .sum() - len(ordersByUsersA['orders'])), name='orders')],axis=0)\n",
    "sampleB = pd.concat([ordersByUsersB['orders'],\n",
    "                     pd.Series(0, index=np.arange(visitors[visitors['group']=='B']['visitors']\\\n",
    "                     .sum() - len(ordersByUsersB['orders'])), name='orders')],axis=0)\n",
    " \n",
    "print(\"{0:.5f}\".format(stats.mannwhitneyu(sampleA, sampleB)[1]))\n",
    "print(\"{0:.3f}\".format(sampleB.mean()/sampleA.mean()-1))"
   ]
  },
  {
   "cell_type": "markdown",
   "metadata": {},
   "source": [
    "* Так как p-value получился меньше 0.05, то мы можем отвергнуть нулевую гипотезу, между группами есть статистические различия в конверсии. Также мы видим, что конверсия в группе В превышает конверсию в группе А примерно на 14%"
   ]
  },
  {
   "cell_type": "markdown",
   "metadata": {},
   "source": [
    "### статистическая значимость различий в среднем чеке заказа между группами по «сырым» данным"
   ]
  },
  {
   "cell_type": "markdown",
   "metadata": {},
   "source": [
    "**H0 (нулевая гипотеза) - статистически значимых различий в среднем чеке между группами по сырым данным нет**\n",
    "\n",
    "**H1 (альтернативная гипотеза) - статистически значимые различия в среднем чеке двух групп по сырым данным есть**\n",
    "\n",
    "Уровень статистической значимости равным alpha=0.05"
   ]
  },
  {
   "cell_type": "code",
   "execution_count": 33,
   "metadata": {},
   "outputs": [
    {
     "name": "stdout",
     "output_type": "stream",
     "text": [
      "0.729\n",
      "0.259\n"
     ]
    }
   ],
   "source": [
    "print('{0:.3f}'.format(stats.mannwhitneyu(orders[orders['group']=='A']['revenue'], orders[orders['group']=='B']['revenue'])[1]))\n",
    "print('{0:.3f}'.format(orders[orders['group']=='B']['revenue'].mean()/orders[orders['group']=='A']['revenue'].mean()-1))"
   ]
  },
  {
   "cell_type": "markdown",
   "metadata": {},
   "source": [
    "* p-value значительно превышает 0.05, значит мы не можем отвергнуть нулевую гипотезу, между средними чеками двух групп есть различия. Средний чек группы В на 25% превышает средний чек группы А."
   ]
  },
  {
   "cell_type": "markdown",
   "metadata": {},
   "source": [
    "### статистическая значимость различий в конверсии между группами по «очищенным» данным"
   ]
  },
  {
   "cell_type": "markdown",
   "metadata": {},
   "source": [
    "**H0 (нулевая гипотеза) - статистически значимых различий в конверсии между группами по очищенным данным нет**\n",
    "\n",
    "**H1 (альтернативная гипотеза) - статистически значимые различия в в конверсии двух групп по очищенным данным есть**\n",
    "\n",
    "Уровень статистической значимости равным alpha=0.05"
   ]
  },
  {
   "cell_type": "code",
   "execution_count": 34,
   "metadata": {},
   "outputs": [],
   "source": [
    "usersWithManyOrders = pd.concat(\n",
    "    [\n",
    "        ordersByUsersA[ordersByUsersA['orders'] > 2]['visitorId'],\n",
    "        ordersByUsersB[ordersByUsersB['orders'] > 2]['visitorId'],\n",
    "    ],\n",
    "    axis=0,\n",
    ")\n",
    "usersWithExpensiveOrders = orders[orders['revenue'] > 28000]['visitorId']\n",
    "abnormalUsers = (\n",
    "    pd.concat([usersWithManyOrders, usersWithExpensiveOrders], axis=0)\n",
    "    .drop_duplicates()\n",
    "    .sort_values()\n",
    ")"
   ]
  },
  {
   "cell_type": "code",
   "execution_count": 35,
   "metadata": {},
   "outputs": [],
   "source": [
    "sampleAFiltered = pd.concat(\n",
    "    [\n",
    "        ordersByUsersA[\n",
    "            np.logical_not(ordersByUsersA['visitorId'].isin(abnormalUsers))\n",
    "        ]['orders'],\n",
    "        pd.Series(\n",
    "            0,\n",
    "            index=np.arange(\n",
    "                data['visitorsPerDateA'].sum() - len(ordersByUsersA['orders'])\n",
    "            ),\n",
    "            name='orders',\n",
    "        ),\n",
    "    ],\n",
    "    axis=0,\n",
    ")"
   ]
  },
  {
   "cell_type": "code",
   "execution_count": 36,
   "metadata": {},
   "outputs": [],
   "source": [
    "sampleBFiltered = pd.concat(\n",
    "    [\n",
    "        ordersByUsersB[\n",
    "            np.logical_not(ordersByUsersB['visitorId'].isin(abnormalUsers))\n",
    "        ]['orders'],\n",
    "        pd.Series(\n",
    "            0,\n",
    "            index=np.arange(\n",
    "                data['visitorsPerDateB'].sum() - len(ordersByUsersB['orders'])\n",
    "            ),\n",
    "            name='orders',\n",
    "        ),\n",
    "    ],\n",
    "    axis=0,\n",
    ")"
   ]
  },
  {
   "cell_type": "code",
   "execution_count": 37,
   "metadata": {
    "scrolled": true
   },
   "outputs": [
    {
     "name": "stdout",
     "output_type": "stream",
     "text": [
      "0.01304\n",
      "0.173\n"
     ]
    }
   ],
   "source": [
    "print('{0:.5f}'.format(stats.mannwhitneyu(sampleAFiltered, sampleBFiltered)[1]))\n",
    "print('{0:.3f}'.format(sampleBFiltered.mean()/sampleAFiltered.mean()-1))"
   ]
  },
  {
   "cell_type": "markdown",
   "metadata": {},
   "source": [
    "* Так как p-value получился меньше 0.05, то мы можем отвергнуть нулевую гипотезу, между группами есть статистические различия в конверсии. Также мы видим, что конверсия в группе В превышает конверсию в группе А примерно на 17%. Аномальные пользователи немного повлияли на результат."
   ]
  },
  {
   "cell_type": "markdown",
   "metadata": {},
   "source": [
    "### статистическая значимость различий в среднем чеке заказа между группами по «очищенным» данным"
   ]
  },
  {
   "cell_type": "markdown",
   "metadata": {},
   "source": [
    "**H0 (нулевая гипотеза) - статистически значимых различий в среднем чеке между группами по очищенным данным нет**\n",
    "\n",
    "**H1 (альтернативная гипотеза) - статистически значимые различия в среднем чеке двух групп по очищенным данным есть**\n",
    "\n",
    "Уровень статистической значимости равным alpha=0.05"
   ]
  },
  {
   "cell_type": "code",
   "execution_count": 38,
   "metadata": {},
   "outputs": [
    {
     "name": "stdout",
     "output_type": "stream",
     "text": [
      "0.738\n",
      "-0.020\n"
     ]
    }
   ],
   "source": [
    "print(\n",
    "    '{0:.3f}'.format(\n",
    "        stats.mannwhitneyu(\n",
    "            orders[np.logical_and(orders['group'] == 'A', np.logical_not(orders['visitorId'].isin(abnormalUsers)),\n",
    "                )\n",
    "            ]['revenue'],\n",
    "            orders[np.logical_and(orders['group'] == 'B', np.logical_not(orders['visitorId'].isin(abnormalUsers)),\n",
    "                )\n",
    "            ]['revenue'],\n",
    "        )[1]\n",
    "    )\n",
    ")\n",
    "\n",
    "print(\n",
    "    \"{0:.3f}\".format(\n",
    "        orders[np.logical_and(orders['group'] == 'B', np.logical_not(orders['visitorId'].isin(abnormalUsers)),\n",
    "            )\n",
    "        ]['revenue'].mean()\n",
    "        / orders[np.logical_and(orders['group'] == 'A', np.logical_not(orders['visitorId'].isin(abnormalUsers)),\n",
    "            )\n",
    "        ]['revenue'].mean()\n",
    "        - 1\n",
    "    )\n",
    ")"
   ]
  },
  {
   "cell_type": "markdown",
   "metadata": {},
   "source": [
    "*  p-value снова получился больше 0.05, по очищенным данным также не получается отвергнуть нулевую гипотезу. Но при этом средний чек группы В почти не отличается от группы А, в группе В чек чуть меньше чека группы А, примерно на 2%."
   ]
  },
  {
   "cell_type": "markdown",
   "metadata": {},
   "source": [
    "## Выводы"
   ]
  },
  {
   "cell_type": "markdown",
   "metadata": {},
   "source": [
    "По определению стат.значимости мы выяснили, что между конверсиями групп А и В имеются статистические различия, и конверсия в группе В выше. Также графики кумулятивной выручки и конверсии подтверждают рост этих параметров к концу исследования. А вот статистической разницы между средним чеком групп А и В не удалось подтвердить ни по сырым, ни по очищенным данным. Относительная разница между средними чеками по чистым данным также незначительна - у группы В средний чек чуть меньше. В целом мы можем принять решение о завершении А/В теста и зафиксировать победу группы В - различие конверсии в группах является статистически значимым\n"
   ]
  },
  {
   "cell_type": "code",
   "execution_count": null,
   "metadata": {},
   "outputs": [],
   "source": []
  }
 ],
 "metadata": {
  "ExecuteTimeLog": [
   {
    "duration": 1367,
    "start_time": "2022-09-25T18:14:52.365Z"
   },
   {
    "duration": 83,
    "start_time": "2022-09-25T18:15:13.765Z"
   },
   {
    "duration": 73,
    "start_time": "2022-09-25T18:15:25.970Z"
   },
   {
    "duration": 47,
    "start_time": "2022-09-25T18:15:34.077Z"
   },
   {
    "duration": 183,
    "start_time": "2022-09-25T18:17:09.201Z"
   },
   {
    "duration": 89,
    "start_time": "2022-09-25T18:17:24.370Z"
   },
   {
    "duration": 93,
    "start_time": "2022-09-25T18:17:32.817Z"
   },
   {
    "duration": 19,
    "start_time": "2022-09-25T18:17:44.682Z"
   },
   {
    "duration": 7,
    "start_time": "2022-09-25T18:17:53.257Z"
   },
   {
    "duration": 3,
    "start_time": "2022-09-25T18:22:33.423Z"
   },
   {
    "duration": 7,
    "start_time": "2022-09-25T18:22:45.656Z"
   },
   {
    "duration": 11,
    "start_time": "2022-09-25T18:23:07.748Z"
   },
   {
    "duration": 4,
    "start_time": "2022-09-25T18:26:01.343Z"
   },
   {
    "duration": 11,
    "start_time": "2022-09-25T18:26:40.867Z"
   },
   {
    "duration": 4,
    "start_time": "2022-09-25T18:31:12.437Z"
   },
   {
    "duration": 91,
    "start_time": "2022-09-25T18:32:29.776Z"
   },
   {
    "duration": 101,
    "start_time": "2022-09-25T18:32:40.703Z"
   },
   {
    "duration": 13,
    "start_time": "2022-09-25T18:33:08.340Z"
   },
   {
    "duration": 457,
    "start_time": "2022-09-25T18:33:45.467Z"
   },
   {
    "duration": 334,
    "start_time": "2022-09-25T18:34:00.945Z"
   },
   {
    "duration": 13,
    "start_time": "2022-09-25T18:34:13.366Z"
   },
   {
    "duration": 6,
    "start_time": "2022-09-25T18:34:25.255Z"
   },
   {
    "duration": 1615,
    "start_time": "2022-09-25T18:35:03.684Z"
   },
   {
    "duration": 11,
    "start_time": "2022-09-25T18:35:28.097Z"
   },
   {
    "duration": 578,
    "start_time": "2022-09-25T18:36:17.824Z"
   },
   {
    "duration": 4,
    "start_time": "2022-09-25T18:36:25.778Z"
   },
   {
    "duration": 12,
    "start_time": "2022-09-25T18:36:43.409Z"
   },
   {
    "duration": 10,
    "start_time": "2022-09-25T18:36:48.746Z"
   },
   {
    "duration": 55,
    "start_time": "2022-09-25T18:38:45.425Z"
   },
   {
    "duration": 279,
    "start_time": "2022-09-25T18:39:42.758Z"
   },
   {
    "duration": 276,
    "start_time": "2022-09-25T18:40:37.301Z"
   },
   {
    "duration": 195,
    "start_time": "2022-09-25T18:40:48.441Z"
   },
   {
    "duration": 197,
    "start_time": "2022-09-25T18:40:52.389Z"
   },
   {
    "duration": 188,
    "start_time": "2022-09-25T18:40:55.934Z"
   },
   {
    "duration": 1186,
    "start_time": "2022-09-25T18:41:38.743Z"
   },
   {
    "duration": 93,
    "start_time": "2022-09-25T18:41:39.931Z"
   },
   {
    "duration": 3,
    "start_time": "2022-09-25T18:41:40.025Z"
   },
   {
    "duration": 22,
    "start_time": "2022-09-25T18:41:40.031Z"
   },
   {
    "duration": 23,
    "start_time": "2022-09-25T18:41:40.055Z"
   },
   {
    "duration": 25,
    "start_time": "2022-09-25T18:41:40.080Z"
   },
   {
    "duration": 13,
    "start_time": "2022-09-25T18:41:40.107Z"
   },
   {
    "duration": 8,
    "start_time": "2022-09-25T18:41:40.122Z"
   },
   {
    "duration": 14,
    "start_time": "2022-09-25T18:41:40.132Z"
   },
   {
    "duration": 13,
    "start_time": "2022-09-25T18:41:40.148Z"
   },
   {
    "duration": 12,
    "start_time": "2022-09-25T18:41:40.163Z"
   },
   {
    "duration": 16,
    "start_time": "2022-09-25T18:41:40.196Z"
   },
   {
    "duration": 8,
    "start_time": "2022-09-25T18:41:40.215Z"
   },
   {
    "duration": 302,
    "start_time": "2022-09-25T18:41:40.225Z"
   },
   {
    "duration": 284,
    "start_time": "2022-09-25T18:41:40.529Z"
   },
   {
    "duration": 202,
    "start_time": "2022-09-25T18:44:34.549Z"
   },
   {
    "duration": 202,
    "start_time": "2022-09-25T18:44:47.501Z"
   },
   {
    "duration": 208,
    "start_time": "2022-09-25T18:45:14.281Z"
   },
   {
    "duration": 233,
    "start_time": "2022-09-25T18:45:33.679Z"
   },
   {
    "duration": 212,
    "start_time": "2022-09-25T18:45:42.150Z"
   },
   {
    "duration": 209,
    "start_time": "2022-09-25T18:45:56.714Z"
   },
   {
    "duration": 330,
    "start_time": "2022-09-25T18:46:21.878Z"
   },
   {
    "duration": 207,
    "start_time": "2022-09-25T18:47:30.695Z"
   },
   {
    "duration": 225,
    "start_time": "2022-09-25T18:48:05.008Z"
   },
   {
    "duration": 233,
    "start_time": "2022-09-25T18:48:51.234Z"
   },
   {
    "duration": 46,
    "start_time": "2022-09-27T18:13:52.868Z"
   },
   {
    "duration": 1329,
    "start_time": "2022-09-27T18:14:04.085Z"
   },
   {
    "duration": 223,
    "start_time": "2022-09-27T18:14:05.417Z"
   },
   {
    "duration": 6,
    "start_time": "2022-09-27T18:14:05.642Z"
   },
   {
    "duration": 12,
    "start_time": "2022-09-27T18:14:05.651Z"
   },
   {
    "duration": 17,
    "start_time": "2022-09-27T18:14:05.665Z"
   },
   {
    "duration": 13,
    "start_time": "2022-09-27T18:14:05.683Z"
   },
   {
    "duration": 28,
    "start_time": "2022-09-27T18:14:05.697Z"
   },
   {
    "duration": 11,
    "start_time": "2022-09-27T18:14:05.727Z"
   },
   {
    "duration": 14,
    "start_time": "2022-09-27T18:14:05.739Z"
   },
   {
    "duration": 8,
    "start_time": "2022-09-27T18:14:05.756Z"
   },
   {
    "duration": 17,
    "start_time": "2022-09-27T18:14:05.765Z"
   },
   {
    "duration": 20,
    "start_time": "2022-09-27T18:14:05.784Z"
   },
   {
    "duration": 19,
    "start_time": "2022-09-27T18:14:05.806Z"
   },
   {
    "duration": 334,
    "start_time": "2022-09-27T18:14:05.827Z"
   },
   {
    "duration": 358,
    "start_time": "2022-09-27T18:14:06.164Z"
   },
   {
    "duration": 252,
    "start_time": "2022-09-27T18:14:06.525Z"
   },
   {
    "duration": 384,
    "start_time": "2022-09-27T18:14:06.780Z"
   },
   {
    "duration": 351,
    "start_time": "2022-09-27T18:14:38.877Z"
   },
   {
    "duration": 314,
    "start_time": "2022-09-27T18:15:15.241Z"
   },
   {
    "duration": 326,
    "start_time": "2022-09-27T18:15:52.210Z"
   },
   {
    "duration": 366,
    "start_time": "2022-09-27T18:16:03.396Z"
   },
   {
    "duration": 228,
    "start_time": "2022-09-27T18:18:13.129Z"
   },
   {
    "duration": 194,
    "start_time": "2022-09-27T18:18:36.915Z"
   },
   {
    "duration": 216,
    "start_time": "2022-09-27T18:19:13.164Z"
   },
   {
    "duration": 286,
    "start_time": "2022-09-27T18:19:24.163Z"
   },
   {
    "duration": 322,
    "start_time": "2022-09-27T18:20:29.440Z"
   },
   {
    "duration": 311,
    "start_time": "2022-09-27T18:20:43.411Z"
   },
   {
    "duration": 484,
    "start_time": "2022-09-27T18:22:38.632Z"
   },
   {
    "duration": 351,
    "start_time": "2022-09-27T18:23:04.636Z"
   },
   {
    "duration": 320,
    "start_time": "2022-09-27T18:23:52.334Z"
   },
   {
    "duration": 369,
    "start_time": "2022-09-27T18:24:30.512Z"
   },
   {
    "duration": 342,
    "start_time": "2022-09-27T18:24:42.030Z"
   },
   {
    "duration": 401,
    "start_time": "2022-09-27T18:24:58.769Z"
   },
   {
    "duration": 375,
    "start_time": "2022-09-27T18:25:05.414Z"
   },
   {
    "duration": 339,
    "start_time": "2022-09-27T18:25:21.663Z"
   },
   {
    "duration": 358,
    "start_time": "2022-09-27T18:25:40.849Z"
   },
   {
    "duration": 248,
    "start_time": "2022-09-27T18:30:10.810Z"
   },
   {
    "duration": 70,
    "start_time": "2022-09-27T18:30:27.716Z"
   },
   {
    "duration": 78,
    "start_time": "2022-09-27T18:31:02.552Z"
   },
   {
    "duration": 419,
    "start_time": "2022-09-27T18:31:36.071Z"
   },
   {
    "duration": 8,
    "start_time": "2022-09-27T18:46:50.762Z"
   },
   {
    "duration": 3,
    "start_time": "2022-09-27T18:47:08.956Z"
   },
   {
    "duration": 142,
    "start_time": "2022-09-27T18:47:21.832Z"
   },
   {
    "duration": 224,
    "start_time": "2022-09-27T18:48:42.432Z"
   },
   {
    "duration": 6,
    "start_time": "2022-09-27T18:52:01.981Z"
   },
   {
    "duration": 6,
    "start_time": "2022-09-27T18:52:37.384Z"
   },
   {
    "duration": 142,
    "start_time": "2022-09-27T18:56:35.694Z"
   },
   {
    "duration": 162,
    "start_time": "2022-09-27T18:56:52.857Z"
   },
   {
    "duration": 233,
    "start_time": "2022-09-27T18:57:29.189Z"
   },
   {
    "duration": 5,
    "start_time": "2022-09-27T18:58:11.537Z"
   },
   {
    "duration": 1366,
    "start_time": "2022-09-29T18:38:17.189Z"
   },
   {
    "duration": 214,
    "start_time": "2022-09-29T18:38:18.557Z"
   },
   {
    "duration": 4,
    "start_time": "2022-09-29T18:38:18.772Z"
   },
   {
    "duration": 13,
    "start_time": "2022-09-29T18:38:18.778Z"
   },
   {
    "duration": 15,
    "start_time": "2022-09-29T18:38:18.792Z"
   },
   {
    "duration": 14,
    "start_time": "2022-09-29T18:38:18.808Z"
   },
   {
    "duration": 17,
    "start_time": "2022-09-29T18:38:18.824Z"
   },
   {
    "duration": 22,
    "start_time": "2022-09-29T18:38:18.843Z"
   },
   {
    "duration": 43,
    "start_time": "2022-09-29T18:38:18.868Z"
   },
   {
    "duration": 6,
    "start_time": "2022-09-29T18:38:18.914Z"
   },
   {
    "duration": 18,
    "start_time": "2022-09-29T18:38:18.922Z"
   },
   {
    "duration": 45,
    "start_time": "2022-09-29T18:38:18.942Z"
   },
   {
    "duration": 21,
    "start_time": "2022-09-29T18:38:18.989Z"
   },
   {
    "duration": 329,
    "start_time": "2022-09-29T18:38:19.012Z"
   },
   {
    "duration": 338,
    "start_time": "2022-09-29T18:38:19.343Z"
   },
   {
    "duration": 271,
    "start_time": "2022-09-29T18:38:19.682Z"
   },
   {
    "duration": 389,
    "start_time": "2022-09-29T18:38:19.955Z"
   },
   {
    "duration": 247,
    "start_time": "2022-09-29T18:38:20.346Z"
   },
   {
    "duration": 382,
    "start_time": "2022-09-29T18:38:20.595Z"
   },
   {
    "duration": 7,
    "start_time": "2022-09-29T18:38:20.979Z"
   },
   {
    "duration": 25,
    "start_time": "2022-09-29T18:38:20.988Z"
   },
   {
    "duration": 159,
    "start_time": "2022-09-29T18:38:21.015Z"
   },
   {
    "duration": 5,
    "start_time": "2022-09-29T18:38:21.176Z"
   },
   {
    "duration": 186,
    "start_time": "2022-09-29T18:38:21.183Z"
   },
   {
    "duration": 6,
    "start_time": "2022-09-29T18:38:21.370Z"
   },
   {
    "duration": 12,
    "start_time": "2022-09-29T18:38:21.377Z"
   },
   {
    "duration": 233,
    "start_time": "2022-09-29T18:39:15.262Z"
   },
   {
    "duration": 96,
    "start_time": "2022-09-29T18:39:46.512Z"
   },
   {
    "duration": 76,
    "start_time": "2022-09-29T18:41:34.810Z"
   },
   {
    "duration": 67,
    "start_time": "2022-09-29T18:42:17.719Z"
   },
   {
    "duration": 34,
    "start_time": "2022-09-29T18:42:40.793Z"
   },
   {
    "duration": 13,
    "start_time": "2022-09-29T18:43:18.652Z"
   },
   {
    "duration": 3,
    "start_time": "2022-09-29T18:45:22.148Z"
   },
   {
    "duration": 12,
    "start_time": "2022-09-29T18:45:29.520Z"
   },
   {
    "duration": 184,
    "start_time": "2022-09-29T18:49:20.819Z"
   },
   {
    "duration": 166,
    "start_time": "2022-09-29T18:49:41.107Z"
   },
   {
    "duration": 165,
    "start_time": "2022-09-29T18:50:02.977Z"
   },
   {
    "duration": 170,
    "start_time": "2022-09-29T18:50:23.278Z"
   },
   {
    "duration": 160,
    "start_time": "2022-09-29T18:50:29.537Z"
   },
   {
    "duration": 135,
    "start_time": "2022-09-29T18:56:33.031Z"
   },
   {
    "duration": 10,
    "start_time": "2022-09-29T18:57:15.762Z"
   },
   {
    "duration": 7,
    "start_time": "2022-09-29T18:58:00.527Z"
   },
   {
    "duration": 7,
    "start_time": "2022-09-29T18:58:15.838Z"
   },
   {
    "duration": 25,
    "start_time": "2022-09-29T18:58:36.173Z"
   },
   {
    "duration": 7,
    "start_time": "2022-09-29T18:59:44.945Z"
   },
   {
    "duration": 6,
    "start_time": "2022-09-29T18:59:45.731Z"
   },
   {
    "duration": 7,
    "start_time": "2022-09-29T18:59:46.811Z"
   },
   {
    "duration": 21,
    "start_time": "2022-09-29T18:59:47.791Z"
   },
   {
    "duration": 8,
    "start_time": "2022-09-29T19:00:20.026Z"
   },
   {
    "duration": 5,
    "start_time": "2022-09-29T19:00:20.761Z"
   },
   {
    "duration": 6,
    "start_time": "2022-09-29T19:00:21.168Z"
   },
   {
    "duration": 22,
    "start_time": "2022-09-29T19:00:21.801Z"
   },
   {
    "duration": 5,
    "start_time": "2022-09-29T19:06:08.792Z"
   },
   {
    "duration": 1149,
    "start_time": "2022-09-29T19:06:19.034Z"
   },
   {
    "duration": 90,
    "start_time": "2022-09-29T19:06:20.185Z"
   },
   {
    "duration": 4,
    "start_time": "2022-09-29T19:06:20.276Z"
   },
   {
    "duration": 12,
    "start_time": "2022-09-29T19:06:20.281Z"
   },
   {
    "duration": 14,
    "start_time": "2022-09-29T19:06:20.295Z"
   },
   {
    "duration": 11,
    "start_time": "2022-09-29T19:06:20.311Z"
   },
   {
    "duration": 13,
    "start_time": "2022-09-29T19:06:20.323Z"
   },
   {
    "duration": 13,
    "start_time": "2022-09-29T19:06:20.338Z"
   },
   {
    "duration": 11,
    "start_time": "2022-09-29T19:06:20.352Z"
   },
   {
    "duration": 10,
    "start_time": "2022-09-29T19:06:20.366Z"
   },
   {
    "duration": 15,
    "start_time": "2022-09-29T19:06:20.377Z"
   },
   {
    "duration": 19,
    "start_time": "2022-09-29T19:06:20.394Z"
   },
   {
    "duration": 6,
    "start_time": "2022-09-29T19:06:20.415Z"
   },
   {
    "duration": 347,
    "start_time": "2022-09-29T19:06:20.422Z"
   },
   {
    "duration": 332,
    "start_time": "2022-09-29T19:06:20.771Z"
   },
   {
    "duration": 232,
    "start_time": "2022-09-29T19:06:21.104Z"
   },
   {
    "duration": 330,
    "start_time": "2022-09-29T19:06:21.338Z"
   },
   {
    "duration": 256,
    "start_time": "2022-09-29T19:06:21.670Z"
   },
   {
    "duration": 350,
    "start_time": "2022-09-29T19:06:21.928Z"
   },
   {
    "duration": 8,
    "start_time": "2022-09-29T19:06:22.280Z"
   },
   {
    "duration": 15,
    "start_time": "2022-09-29T19:06:22.290Z"
   },
   {
    "duration": 167,
    "start_time": "2022-09-29T19:06:22.307Z"
   },
   {
    "duration": 6,
    "start_time": "2022-09-29T19:06:22.476Z"
   },
   {
    "duration": 187,
    "start_time": "2022-09-29T19:06:22.484Z"
   },
   {
    "duration": 6,
    "start_time": "2022-09-29T19:06:22.674Z"
   },
   {
    "duration": 267,
    "start_time": "2022-09-29T19:06:22.682Z"
   },
   {
    "duration": 12,
    "start_time": "2022-09-29T19:06:22.950Z"
   },
   {
    "duration": 168,
    "start_time": "2022-09-29T19:06:22.965Z"
   },
   {
    "duration": 9,
    "start_time": "2022-09-29T19:06:23.135Z"
   },
   {
    "duration": 115,
    "start_time": "2022-09-29T19:06:23.146Z"
   },
   {
    "duration": 1,
    "start_time": "2022-09-29T19:06:23.263Z"
   },
   {
    "duration": 0,
    "start_time": "2022-09-29T19:06:23.265Z"
   },
   {
    "duration": 1288,
    "start_time": "2022-10-01T11:13:50.819Z"
   },
   {
    "duration": 188,
    "start_time": "2022-10-01T11:13:52.111Z"
   },
   {
    "duration": 8,
    "start_time": "2022-10-01T11:13:52.302Z"
   },
   {
    "duration": 16,
    "start_time": "2022-10-01T11:13:52.312Z"
   },
   {
    "duration": 20,
    "start_time": "2022-10-01T11:13:52.330Z"
   },
   {
    "duration": 12,
    "start_time": "2022-10-01T11:13:52.351Z"
   },
   {
    "duration": 14,
    "start_time": "2022-10-01T11:13:52.364Z"
   },
   {
    "duration": 11,
    "start_time": "2022-10-01T11:13:52.379Z"
   },
   {
    "duration": 15,
    "start_time": "2022-10-01T11:13:52.391Z"
   },
   {
    "duration": 16,
    "start_time": "2022-10-01T11:13:52.409Z"
   },
   {
    "duration": 15,
    "start_time": "2022-10-01T11:13:52.427Z"
   },
   {
    "duration": 15,
    "start_time": "2022-10-01T11:13:52.444Z"
   },
   {
    "duration": 8,
    "start_time": "2022-10-01T11:13:52.461Z"
   },
   {
    "duration": 279,
    "start_time": "2022-10-01T11:13:52.471Z"
   },
   {
    "duration": 306,
    "start_time": "2022-10-01T11:13:52.752Z"
   },
   {
    "duration": 207,
    "start_time": "2022-10-01T11:13:53.060Z"
   },
   {
    "duration": 395,
    "start_time": "2022-10-01T11:13:53.269Z"
   },
   {
    "duration": 216,
    "start_time": "2022-10-01T11:13:53.665Z"
   },
   {
    "duration": 372,
    "start_time": "2022-10-01T11:13:53.883Z"
   },
   {
    "duration": 7,
    "start_time": "2022-10-01T11:13:54.257Z"
   },
   {
    "duration": 3,
    "start_time": "2022-10-01T11:13:54.266Z"
   },
   {
    "duration": 180,
    "start_time": "2022-10-01T11:13:54.271Z"
   },
   {
    "duration": 6,
    "start_time": "2022-10-01T11:13:54.452Z"
   },
   {
    "duration": 212,
    "start_time": "2022-10-01T11:13:54.460Z"
   },
   {
    "duration": 6,
    "start_time": "2022-10-01T11:13:54.674Z"
   },
   {
    "duration": 141,
    "start_time": "2022-10-01T11:13:54.681Z"
   },
   {
    "duration": 49,
    "start_time": "2022-10-01T11:13:54.824Z"
   },
   {
    "duration": 103,
    "start_time": "2022-10-01T11:13:54.876Z"
   },
   {
    "duration": 0,
    "start_time": "2022-10-01T11:13:54.980Z"
   },
   {
    "duration": 0,
    "start_time": "2022-10-01T11:13:54.982Z"
   },
   {
    "duration": 0,
    "start_time": "2022-10-01T11:13:54.983Z"
   },
   {
    "duration": 0,
    "start_time": "2022-10-01T11:13:54.984Z"
   },
   {
    "duration": 0,
    "start_time": "2022-10-01T11:13:54.986Z"
   },
   {
    "duration": 1,
    "start_time": "2022-10-01T11:13:54.999Z"
   },
   {
    "duration": 0,
    "start_time": "2022-10-01T11:13:55.001Z"
   },
   {
    "duration": 1,
    "start_time": "2022-10-01T11:13:55.002Z"
   },
   {
    "duration": 0,
    "start_time": "2022-10-01T11:13:55.004Z"
   },
   {
    "duration": 16,
    "start_time": "2022-10-01T11:14:45.493Z"
   },
   {
    "duration": 53,
    "start_time": "2022-10-01T11:14:58.786Z"
   },
   {
    "duration": 54,
    "start_time": "2022-10-01T11:15:10.615Z"
   },
   {
    "duration": 19,
    "start_time": "2022-10-01T11:15:12.907Z"
   },
   {
    "duration": 212,
    "start_time": "2022-10-01T11:15:16.100Z"
   },
   {
    "duration": 1100,
    "start_time": "2022-10-01T11:15:22.978Z"
   },
   {
    "duration": 88,
    "start_time": "2022-10-01T11:15:24.080Z"
   },
   {
    "duration": 4,
    "start_time": "2022-10-01T11:15:24.171Z"
   },
   {
    "duration": 14,
    "start_time": "2022-10-01T11:15:24.178Z"
   },
   {
    "duration": 22,
    "start_time": "2022-10-01T11:15:24.193Z"
   },
   {
    "duration": 14,
    "start_time": "2022-10-01T11:15:24.223Z"
   },
   {
    "duration": 18,
    "start_time": "2022-10-01T11:15:24.240Z"
   },
   {
    "duration": 8,
    "start_time": "2022-10-01T11:15:24.260Z"
   },
   {
    "duration": 9,
    "start_time": "2022-10-01T11:15:24.269Z"
   },
   {
    "duration": 21,
    "start_time": "2022-10-01T11:15:24.281Z"
   },
   {
    "duration": 13,
    "start_time": "2022-10-01T11:15:24.304Z"
   },
   {
    "duration": 15,
    "start_time": "2022-10-01T11:15:24.319Z"
   },
   {
    "duration": 6,
    "start_time": "2022-10-01T11:15:24.335Z"
   },
   {
    "duration": 335,
    "start_time": "2022-10-01T11:15:24.342Z"
   },
   {
    "duration": 284,
    "start_time": "2022-10-01T11:15:24.679Z"
   },
   {
    "duration": 229,
    "start_time": "2022-10-01T11:15:24.964Z"
   },
   {
    "duration": 376,
    "start_time": "2022-10-01T11:15:25.199Z"
   },
   {
    "duration": 217,
    "start_time": "2022-10-01T11:15:25.576Z"
   },
   {
    "duration": 315,
    "start_time": "2022-10-01T11:15:25.800Z"
   },
   {
    "duration": 6,
    "start_time": "2022-10-01T11:15:26.117Z"
   },
   {
    "duration": 7,
    "start_time": "2022-10-01T11:15:26.124Z"
   },
   {
    "duration": 143,
    "start_time": "2022-10-01T11:15:26.132Z"
   },
   {
    "duration": 5,
    "start_time": "2022-10-01T11:15:26.276Z"
   },
   {
    "duration": 163,
    "start_time": "2022-10-01T11:15:26.282Z"
   },
   {
    "duration": 5,
    "start_time": "2022-10-01T11:15:26.447Z"
   },
   {
    "duration": 141,
    "start_time": "2022-10-01T11:15:26.454Z"
   },
   {
    "duration": 46,
    "start_time": "2022-10-01T11:15:26.599Z"
   },
   {
    "duration": 66,
    "start_time": "2022-10-01T11:15:26.648Z"
   },
   {
    "duration": 54,
    "start_time": "2022-10-01T11:15:26.715Z"
   },
   {
    "duration": 31,
    "start_time": "2022-10-01T11:15:26.771Z"
   },
   {
    "duration": 162,
    "start_time": "2022-10-01T11:15:26.803Z"
   },
   {
    "duration": 8,
    "start_time": "2022-10-01T11:15:26.967Z"
   },
   {
    "duration": 123,
    "start_time": "2022-10-01T11:15:26.977Z"
   },
   {
    "duration": 7,
    "start_time": "2022-10-01T11:15:27.102Z"
   },
   {
    "duration": 6,
    "start_time": "2022-10-01T11:15:27.111Z"
   },
   {
    "duration": 9,
    "start_time": "2022-10-01T11:15:27.118Z"
   },
   {
    "duration": 19,
    "start_time": "2022-10-01T11:15:27.128Z"
   },
   {
    "duration": 6,
    "start_time": "2022-10-01T11:16:50.799Z"
   },
   {
    "duration": 6,
    "start_time": "2022-10-01T11:16:51.301Z"
   },
   {
    "duration": 5,
    "start_time": "2022-10-01T11:16:51.805Z"
   },
   {
    "duration": 20,
    "start_time": "2022-10-01T11:16:52.988Z"
   },
   {
    "duration": 3,
    "start_time": "2022-10-01T11:28:35.692Z"
   },
   {
    "duration": 3,
    "start_time": "2022-10-01T11:29:01.571Z"
   },
   {
    "duration": 101,
    "start_time": "2022-10-01T11:29:05.926Z"
   },
   {
    "duration": 4,
    "start_time": "2022-10-01T11:29:09.373Z"
   },
   {
    "duration": 9,
    "start_time": "2022-10-01T11:29:10.927Z"
   },
   {
    "duration": 2990,
    "start_time": "2022-10-01T12:15:01.308Z"
   },
   {
    "duration": 13,
    "start_time": "2022-10-01T12:15:38.274Z"
   },
   {
    "duration": 1072,
    "start_time": "2022-10-01T13:06:05.020Z"
   },
   {
    "duration": 79,
    "start_time": "2022-10-01T13:06:06.094Z"
   },
   {
    "duration": 3,
    "start_time": "2022-10-01T13:06:06.175Z"
   },
   {
    "duration": 11,
    "start_time": "2022-10-01T13:06:06.180Z"
   },
   {
    "duration": 11,
    "start_time": "2022-10-01T13:06:06.192Z"
   },
   {
    "duration": 8,
    "start_time": "2022-10-01T13:06:06.205Z"
   },
   {
    "duration": 11,
    "start_time": "2022-10-01T13:06:06.214Z"
   },
   {
    "duration": 6,
    "start_time": "2022-10-01T13:06:06.227Z"
   },
   {
    "duration": 11,
    "start_time": "2022-10-01T13:06:06.235Z"
   },
   {
    "duration": 12,
    "start_time": "2022-10-01T13:06:06.248Z"
   },
   {
    "duration": 10,
    "start_time": "2022-10-01T13:06:06.261Z"
   },
   {
    "duration": 13,
    "start_time": "2022-10-01T13:06:06.272Z"
   },
   {
    "duration": 17,
    "start_time": "2022-10-01T13:06:06.286Z"
   },
   {
    "duration": 256,
    "start_time": "2022-10-01T13:06:06.305Z"
   },
   {
    "duration": 295,
    "start_time": "2022-10-01T13:06:06.563Z"
   },
   {
    "duration": 218,
    "start_time": "2022-10-01T13:06:06.859Z"
   },
   {
    "duration": 325,
    "start_time": "2022-10-01T13:06:07.079Z"
   },
   {
    "duration": 218,
    "start_time": "2022-10-01T13:06:07.406Z"
   },
   {
    "duration": 304,
    "start_time": "2022-10-01T13:06:07.626Z"
   },
   {
    "duration": 6,
    "start_time": "2022-10-01T13:06:07.932Z"
   },
   {
    "duration": 4,
    "start_time": "2022-10-01T13:06:07.939Z"
   },
   {
    "duration": 156,
    "start_time": "2022-10-01T13:06:07.944Z"
   },
   {
    "duration": 4,
    "start_time": "2022-10-01T13:06:08.102Z"
   },
   {
    "duration": 161,
    "start_time": "2022-10-01T13:06:08.108Z"
   },
   {
    "duration": 5,
    "start_time": "2022-10-01T13:06:08.271Z"
   },
   {
    "duration": 133,
    "start_time": "2022-10-01T13:06:08.278Z"
   },
   {
    "duration": 54,
    "start_time": "2022-10-01T13:06:08.413Z"
   },
   {
    "duration": 62,
    "start_time": "2022-10-01T13:06:08.471Z"
   },
   {
    "duration": 66,
    "start_time": "2022-10-01T13:06:08.534Z"
   },
   {
    "duration": 21,
    "start_time": "2022-10-01T13:06:08.602Z"
   },
   {
    "duration": 164,
    "start_time": "2022-10-01T13:06:08.624Z"
   },
   {
    "duration": 15,
    "start_time": "2022-10-01T13:06:08.790Z"
   },
   {
    "duration": 3,
    "start_time": "2022-10-01T13:06:08.807Z"
   },
   {
    "duration": 973,
    "start_time": "2022-10-01T13:06:08.811Z"
   },
   {
    "duration": 0,
    "start_time": "2022-10-01T13:06:09.785Z"
   },
   {
    "duration": 0,
    "start_time": "2022-10-01T13:06:09.786Z"
   },
   {
    "duration": 0,
    "start_time": "2022-10-01T13:06:09.787Z"
   },
   {
    "duration": 0,
    "start_time": "2022-10-01T13:06:09.788Z"
   },
   {
    "duration": 7,
    "start_time": "2022-10-01T13:06:45.905Z"
   },
   {
    "duration": 1057,
    "start_time": "2022-10-01T13:06:51.917Z"
   },
   {
    "duration": 80,
    "start_time": "2022-10-01T13:06:52.976Z"
   },
   {
    "duration": 3,
    "start_time": "2022-10-01T13:06:53.057Z"
   },
   {
    "duration": 10,
    "start_time": "2022-10-01T13:06:53.062Z"
   },
   {
    "duration": 16,
    "start_time": "2022-10-01T13:06:53.073Z"
   },
   {
    "duration": 9,
    "start_time": "2022-10-01T13:06:53.091Z"
   },
   {
    "duration": 10,
    "start_time": "2022-10-01T13:06:53.101Z"
   },
   {
    "duration": 9,
    "start_time": "2022-10-01T13:06:53.113Z"
   },
   {
    "duration": 13,
    "start_time": "2022-10-01T13:06:53.123Z"
   },
   {
    "duration": 18,
    "start_time": "2022-10-01T13:06:53.139Z"
   },
   {
    "duration": 12,
    "start_time": "2022-10-01T13:06:53.158Z"
   },
   {
    "duration": 15,
    "start_time": "2022-10-01T13:06:53.172Z"
   },
   {
    "duration": 21,
    "start_time": "2022-10-01T13:06:53.188Z"
   },
   {
    "duration": 260,
    "start_time": "2022-10-01T13:06:53.211Z"
   },
   {
    "duration": 268,
    "start_time": "2022-10-01T13:06:53.473Z"
   },
   {
    "duration": 206,
    "start_time": "2022-10-01T13:06:53.743Z"
   },
   {
    "duration": 313,
    "start_time": "2022-10-01T13:06:53.951Z"
   },
   {
    "duration": 221,
    "start_time": "2022-10-01T13:06:54.266Z"
   },
   {
    "duration": 340,
    "start_time": "2022-10-01T13:06:54.489Z"
   },
   {
    "duration": 7,
    "start_time": "2022-10-01T13:06:54.832Z"
   },
   {
    "duration": 5,
    "start_time": "2022-10-01T13:06:54.841Z"
   },
   {
    "duration": 159,
    "start_time": "2022-10-01T13:06:54.848Z"
   },
   {
    "duration": 5,
    "start_time": "2022-10-01T13:06:55.008Z"
   },
   {
    "duration": 167,
    "start_time": "2022-10-01T13:06:55.014Z"
   },
   {
    "duration": 4,
    "start_time": "2022-10-01T13:06:55.182Z"
   },
   {
    "duration": 134,
    "start_time": "2022-10-01T13:06:55.188Z"
   },
   {
    "duration": 46,
    "start_time": "2022-10-01T13:06:55.326Z"
   },
   {
    "duration": 65,
    "start_time": "2022-10-01T13:06:55.375Z"
   },
   {
    "duration": 67,
    "start_time": "2022-10-01T13:06:55.443Z"
   },
   {
    "duration": 20,
    "start_time": "2022-10-01T13:06:55.511Z"
   },
   {
    "duration": 172,
    "start_time": "2022-10-01T13:06:55.532Z"
   },
   {
    "duration": 9,
    "start_time": "2022-10-01T13:06:55.706Z"
   },
   {
    "duration": 8,
    "start_time": "2022-10-01T13:06:55.717Z"
   },
   {
    "duration": 20,
    "start_time": "2022-10-01T13:06:55.726Z"
   },
   {
    "duration": 952,
    "start_time": "2022-10-01T13:06:55.748Z"
   },
   {
    "duration": 0,
    "start_time": "2022-10-01T13:06:56.702Z"
   },
   {
    "duration": 0,
    "start_time": "2022-10-01T13:06:56.703Z"
   },
   {
    "duration": 0,
    "start_time": "2022-10-01T13:06:56.704Z"
   },
   {
    "duration": 6,
    "start_time": "2022-10-01T13:07:11.536Z"
   },
   {
    "duration": 3745,
    "start_time": "2022-10-01T13:07:13.307Z"
   },
   {
    "duration": 0,
    "start_time": "2022-10-01T13:07:17.053Z"
   },
   {
    "duration": 6,
    "start_time": "2022-10-01T13:07:25.492Z"
   },
   {
    "duration": 19,
    "start_time": "2022-10-01T13:07:26.720Z"
   },
   {
    "duration": 1088,
    "start_time": "2022-10-01T13:08:56.285Z"
   },
   {
    "duration": 80,
    "start_time": "2022-10-01T13:08:57.375Z"
   },
   {
    "duration": 3,
    "start_time": "2022-10-01T13:08:57.456Z"
   },
   {
    "duration": 12,
    "start_time": "2022-10-01T13:08:57.461Z"
   },
   {
    "duration": 12,
    "start_time": "2022-10-01T13:08:57.475Z"
   },
   {
    "duration": 8,
    "start_time": "2022-10-01T13:08:57.488Z"
   },
   {
    "duration": 9,
    "start_time": "2022-10-01T13:08:57.497Z"
   },
   {
    "duration": 5,
    "start_time": "2022-10-01T13:08:57.508Z"
   },
   {
    "duration": 9,
    "start_time": "2022-10-01T13:08:57.515Z"
   },
   {
    "duration": 9,
    "start_time": "2022-10-01T13:08:57.525Z"
   },
   {
    "duration": 13,
    "start_time": "2022-10-01T13:08:57.535Z"
   },
   {
    "duration": 25,
    "start_time": "2022-10-01T13:08:57.550Z"
   },
   {
    "duration": 24,
    "start_time": "2022-10-01T13:08:57.576Z"
   },
   {
    "duration": 276,
    "start_time": "2022-10-01T13:08:57.603Z"
   },
   {
    "duration": 284,
    "start_time": "2022-10-01T13:08:57.881Z"
   },
   {
    "duration": 201,
    "start_time": "2022-10-01T13:08:58.167Z"
   },
   {
    "duration": 332,
    "start_time": "2022-10-01T13:08:58.370Z"
   },
   {
    "duration": 217,
    "start_time": "2022-10-01T13:08:58.703Z"
   },
   {
    "duration": 307,
    "start_time": "2022-10-01T13:08:58.921Z"
   },
   {
    "duration": 5,
    "start_time": "2022-10-01T13:08:59.230Z"
   },
   {
    "duration": 6,
    "start_time": "2022-10-01T13:08:59.237Z"
   },
   {
    "duration": 147,
    "start_time": "2022-10-01T13:08:59.245Z"
   },
   {
    "duration": 10,
    "start_time": "2022-10-01T13:08:59.394Z"
   },
   {
    "duration": 174,
    "start_time": "2022-10-01T13:08:59.405Z"
   },
   {
    "duration": 4,
    "start_time": "2022-10-01T13:08:59.581Z"
   },
   {
    "duration": 128,
    "start_time": "2022-10-01T13:08:59.587Z"
   },
   {
    "duration": 49,
    "start_time": "2022-10-01T13:08:59.717Z"
   },
   {
    "duration": 62,
    "start_time": "2022-10-01T13:08:59.768Z"
   },
   {
    "duration": 56,
    "start_time": "2022-10-01T13:08:59.832Z"
   },
   {
    "duration": 28,
    "start_time": "2022-10-01T13:08:59.890Z"
   },
   {
    "duration": 172,
    "start_time": "2022-10-01T13:08:59.919Z"
   },
   {
    "duration": 10,
    "start_time": "2022-10-01T13:09:00.101Z"
   },
   {
    "duration": 8,
    "start_time": "2022-10-01T13:09:00.112Z"
   },
   {
    "duration": 9,
    "start_time": "2022-10-01T13:09:00.122Z"
   },
   {
    "duration": 8,
    "start_time": "2022-10-01T13:09:00.133Z"
   },
   {
    "duration": 37,
    "start_time": "2022-10-01T13:09:00.143Z"
   },
   {
    "duration": 27,
    "start_time": "2022-10-01T13:09:00.182Z"
   },
   {
    "duration": 293,
    "start_time": "2022-10-01T13:33:31.939Z"
   },
   {
    "duration": 246,
    "start_time": "2022-10-01T13:33:38.097Z"
   },
   {
    "duration": 203,
    "start_time": "2022-10-01T13:34:06.064Z"
   },
   {
    "duration": 319,
    "start_time": "2022-10-01T13:34:46.047Z"
   },
   {
    "duration": 317,
    "start_time": "2022-10-01T13:34:52.998Z"
   },
   {
    "duration": 203,
    "start_time": "2022-10-01T13:35:22.645Z"
   },
   {
    "duration": 201,
    "start_time": "2022-10-01T13:35:32.216Z"
   },
   {
    "duration": 204,
    "start_time": "2022-10-01T13:35:36.706Z"
   },
   {
    "duration": 206,
    "start_time": "2022-10-01T13:35:52.997Z"
   },
   {
    "duration": 209,
    "start_time": "2022-10-01T13:36:24.208Z"
   },
   {
    "duration": 317,
    "start_time": "2022-10-01T13:37:59.295Z"
   },
   {
    "duration": 278,
    "start_time": "2022-10-01T14:03:06.598Z"
   },
   {
    "duration": 326,
    "start_time": "2022-10-01T14:03:24.231Z"
   },
   {
    "duration": 357,
    "start_time": "2022-10-01T14:03:43.292Z"
   },
   {
    "duration": 164,
    "start_time": "2022-10-01T14:05:26.494Z"
   },
   {
    "duration": 189,
    "start_time": "2022-10-01T14:09:06.518Z"
   },
   {
    "duration": 151,
    "start_time": "2022-10-01T14:09:14.958Z"
   },
   {
    "duration": 142,
    "start_time": "2022-10-01T14:09:29.533Z"
   },
   {
    "duration": 1155,
    "start_time": "2022-10-01T17:59:48.579Z"
   },
   {
    "duration": 83,
    "start_time": "2022-10-01T17:59:49.736Z"
   },
   {
    "duration": 3,
    "start_time": "2022-10-01T17:59:49.822Z"
   },
   {
    "duration": 20,
    "start_time": "2022-10-01T17:59:49.827Z"
   },
   {
    "duration": 14,
    "start_time": "2022-10-01T17:59:49.849Z"
   },
   {
    "duration": 11,
    "start_time": "2022-10-01T17:59:49.864Z"
   },
   {
    "duration": 22,
    "start_time": "2022-10-01T17:59:49.876Z"
   },
   {
    "duration": 17,
    "start_time": "2022-10-01T17:59:49.900Z"
   },
   {
    "duration": 22,
    "start_time": "2022-10-01T17:59:49.919Z"
   },
   {
    "duration": 11,
    "start_time": "2022-10-01T17:59:49.943Z"
   },
   {
    "duration": 19,
    "start_time": "2022-10-01T17:59:49.955Z"
   },
   {
    "duration": 19,
    "start_time": "2022-10-01T17:59:49.975Z"
   },
   {
    "duration": 13,
    "start_time": "2022-10-01T17:59:49.998Z"
   },
   {
    "duration": 298,
    "start_time": "2022-10-01T17:59:50.013Z"
   },
   {
    "duration": 326,
    "start_time": "2022-10-01T17:59:50.313Z"
   },
   {
    "duration": 249,
    "start_time": "2022-10-01T17:59:50.642Z"
   },
   {
    "duration": 372,
    "start_time": "2022-10-01T17:59:50.894Z"
   },
   {
    "duration": 246,
    "start_time": "2022-10-01T17:59:51.267Z"
   },
   {
    "duration": 349,
    "start_time": "2022-10-01T17:59:51.515Z"
   },
   {
    "duration": 6,
    "start_time": "2022-10-01T17:59:51.866Z"
   },
   {
    "duration": 19,
    "start_time": "2022-10-01T17:59:51.874Z"
   },
   {
    "duration": 174,
    "start_time": "2022-10-01T17:59:51.895Z"
   },
   {
    "duration": 5,
    "start_time": "2022-10-01T17:59:52.071Z"
   },
   {
    "duration": 186,
    "start_time": "2022-10-01T17:59:52.078Z"
   },
   {
    "duration": 256,
    "start_time": "2022-10-01T17:59:52.266Z"
   },
   {
    "duration": 6,
    "start_time": "2022-10-01T17:59:52.523Z"
   },
   {
    "duration": 53,
    "start_time": "2022-10-01T17:59:52.530Z"
   },
   {
    "duration": 59,
    "start_time": "2022-10-01T17:59:52.585Z"
   },
   {
    "duration": 74,
    "start_time": "2022-10-01T17:59:52.646Z"
   },
   {
    "duration": 77,
    "start_time": "2022-10-01T17:59:52.723Z"
   },
   {
    "duration": 25,
    "start_time": "2022-10-01T17:59:52.802Z"
   },
   {
    "duration": 173,
    "start_time": "2022-10-01T17:59:52.828Z"
   },
   {
    "duration": 11,
    "start_time": "2022-10-01T17:59:53.002Z"
   },
   {
    "duration": 12,
    "start_time": "2022-10-01T17:59:53.020Z"
   },
   {
    "duration": 23,
    "start_time": "2022-10-01T17:59:53.033Z"
   },
   {
    "duration": 11,
    "start_time": "2022-10-01T17:59:53.058Z"
   },
   {
    "duration": 28,
    "start_time": "2022-10-01T17:59:53.071Z"
   },
   {
    "duration": 13,
    "start_time": "2022-10-01T17:59:53.101Z"
   },
   {
    "duration": 82,
    "start_time": "2022-10-01T18:34:30.836Z"
   },
   {
    "duration": 1354,
    "start_time": "2022-10-01T18:34:44.616Z"
   },
   {
    "duration": 207,
    "start_time": "2022-10-01T18:34:45.972Z"
   },
   {
    "duration": 4,
    "start_time": "2022-10-01T18:34:46.181Z"
   },
   {
    "duration": 13,
    "start_time": "2022-10-01T18:34:46.188Z"
   },
   {
    "duration": 17,
    "start_time": "2022-10-01T18:34:46.203Z"
   },
   {
    "duration": 10,
    "start_time": "2022-10-01T18:34:46.222Z"
   },
   {
    "duration": 11,
    "start_time": "2022-10-01T18:34:46.234Z"
   },
   {
    "duration": 6,
    "start_time": "2022-10-01T18:34:46.247Z"
   },
   {
    "duration": 16,
    "start_time": "2022-10-01T18:34:46.255Z"
   },
   {
    "duration": 6,
    "start_time": "2022-10-01T18:34:46.288Z"
   },
   {
    "duration": 14,
    "start_time": "2022-10-01T18:34:46.296Z"
   },
   {
    "duration": 14,
    "start_time": "2022-10-01T18:34:46.312Z"
   },
   {
    "duration": 6,
    "start_time": "2022-10-01T18:34:46.328Z"
   },
   {
    "duration": 319,
    "start_time": "2022-10-01T18:34:46.336Z"
   },
   {
    "duration": 403,
    "start_time": "2022-10-01T18:34:46.657Z"
   },
   {
    "duration": 247,
    "start_time": "2022-10-01T18:34:47.062Z"
   },
   {
    "duration": 395,
    "start_time": "2022-10-01T18:34:47.311Z"
   },
   {
    "duration": 251,
    "start_time": "2022-10-01T18:34:47.708Z"
   },
   {
    "duration": 416,
    "start_time": "2022-10-01T18:34:47.961Z"
   },
   {
    "duration": 10,
    "start_time": "2022-10-01T18:34:48.379Z"
   },
   {
    "duration": 7,
    "start_time": "2022-10-01T18:34:48.391Z"
   },
   {
    "duration": 177,
    "start_time": "2022-10-01T18:34:48.400Z"
   },
   {
    "duration": 13,
    "start_time": "2022-10-01T18:34:48.579Z"
   },
   {
    "duration": 265,
    "start_time": "2022-10-01T18:34:48.594Z"
   },
   {
    "duration": 172,
    "start_time": "2022-10-01T18:34:48.861Z"
   },
   {
    "duration": 5,
    "start_time": "2022-10-01T18:34:49.034Z"
   },
   {
    "duration": 64,
    "start_time": "2022-10-01T18:34:49.040Z"
   },
   {
    "duration": 57,
    "start_time": "2022-10-01T18:34:49.108Z"
   },
   {
    "duration": 82,
    "start_time": "2022-10-01T18:34:49.167Z"
   },
   {
    "duration": 79,
    "start_time": "2022-10-01T18:34:49.251Z"
   },
   {
    "duration": 24,
    "start_time": "2022-10-01T18:34:49.333Z"
   },
   {
    "duration": 220,
    "start_time": "2022-10-01T18:34:49.359Z"
   },
   {
    "duration": 15,
    "start_time": "2022-10-01T18:34:49.581Z"
   },
   {
    "duration": 9,
    "start_time": "2022-10-01T18:34:49.598Z"
   },
   {
    "duration": 6,
    "start_time": "2022-10-01T18:34:49.609Z"
   },
   {
    "duration": 10,
    "start_time": "2022-10-01T18:34:49.617Z"
   },
   {
    "duration": 27,
    "start_time": "2022-10-01T18:34:49.628Z"
   },
   {
    "duration": 40,
    "start_time": "2022-10-01T18:34:49.657Z"
   },
   {
    "duration": 60,
    "start_time": "2022-10-01T18:34:49.699Z"
   },
   {
    "duration": 18,
    "start_time": "2022-10-01T18:35:03.863Z"
   },
   {
    "duration": 30,
    "start_time": "2022-10-01T18:36:00.696Z"
   }
  ],
  "kernelspec": {
   "display_name": "Python 3 (ipykernel)",
   "language": "python",
   "name": "python3"
  },
  "language_info": {
   "codemirror_mode": {
    "name": "ipython",
    "version": 3
   },
   "file_extension": ".py",
   "mimetype": "text/x-python",
   "name": "python",
   "nbconvert_exporter": "python",
   "pygments_lexer": "ipython3",
   "version": "3.9.12"
  },
  "toc": {
   "base_numbering": 1,
   "nav_menu": {},
   "number_sections": true,
   "sideBar": true,
   "skip_h1_title": true,
   "title_cell": "Table of Contents",
   "title_sidebar": "Contents",
   "toc_cell": false,
   "toc_position": {},
   "toc_section_display": true,
   "toc_window_display": false
  }
 },
 "nbformat": 4,
 "nbformat_minor": 2
}
