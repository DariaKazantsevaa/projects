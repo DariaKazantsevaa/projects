{
 "cells": [
  {
   "cell_type": "markdown",
   "id": "e9b9d05f",
   "metadata": {},
   "source": [
    "# 1. Загрузка данных и изучение общей информации"
   ]
  },
  {
   "cell_type": "code",
   "execution_count": 1,
   "id": "7d710752",
   "metadata": {},
   "outputs": [],
   "source": [
    "import pandas as pd\n",
    "import matplotlib.pyplot as plt\n",
    "\n",
    "\n",
    "\n",
    "# data = pd.read_csv(r\"C:\\Users\\Evg\\Downloads\\real_estate_data.csv\", sep='\\t')\n",
    "data = pd.read_csv('/datasets/real_estate_data.csv', sep='\\t')\n",
    "\n",
    "pd.options.display.max_columns = None"
   ]
  },
  {
   "cell_type": "code",
   "execution_count": 2,
   "id": "ce44b5b1",
   "metadata": {},
   "outputs": [
    {
     "data": {
      "text/html": [
       "<div>\n",
       "<style scoped>\n",
       "    .dataframe tbody tr th:only-of-type {\n",
       "        vertical-align: middle;\n",
       "    }\n",
       "\n",
       "    .dataframe tbody tr th {\n",
       "        vertical-align: top;\n",
       "    }\n",
       "\n",
       "    .dataframe thead th {\n",
       "        text-align: right;\n",
       "    }\n",
       "</style>\n",
       "<table border=\"1\" class=\"dataframe\">\n",
       "  <thead>\n",
       "    <tr style=\"text-align: right;\">\n",
       "      <th></th>\n",
       "      <th>total_images</th>\n",
       "      <th>last_price</th>\n",
       "      <th>total_area</th>\n",
       "      <th>first_day_exposition</th>\n",
       "      <th>rooms</th>\n",
       "      <th>ceiling_height</th>\n",
       "      <th>floors_total</th>\n",
       "      <th>living_area</th>\n",
       "      <th>floor</th>\n",
       "      <th>is_apartment</th>\n",
       "      <th>studio</th>\n",
       "      <th>open_plan</th>\n",
       "      <th>kitchen_area</th>\n",
       "      <th>balcony</th>\n",
       "      <th>locality_name</th>\n",
       "      <th>airports_nearest</th>\n",
       "      <th>cityCenters_nearest</th>\n",
       "      <th>parks_around3000</th>\n",
       "      <th>parks_nearest</th>\n",
       "      <th>ponds_around3000</th>\n",
       "      <th>ponds_nearest</th>\n",
       "      <th>days_exposition</th>\n",
       "    </tr>\n",
       "  </thead>\n",
       "  <tbody>\n",
       "    <tr>\n",
       "      <th>0</th>\n",
       "      <td>20</td>\n",
       "      <td>13000000.0</td>\n",
       "      <td>108.0</td>\n",
       "      <td>2019-03-07T00:00:00</td>\n",
       "      <td>3</td>\n",
       "      <td>2.70</td>\n",
       "      <td>16.0</td>\n",
       "      <td>51.0</td>\n",
       "      <td>8</td>\n",
       "      <td>NaN</td>\n",
       "      <td>False</td>\n",
       "      <td>False</td>\n",
       "      <td>25.0</td>\n",
       "      <td>NaN</td>\n",
       "      <td>Санкт-Петербург</td>\n",
       "      <td>18863.0</td>\n",
       "      <td>16028.0</td>\n",
       "      <td>1.0</td>\n",
       "      <td>482.0</td>\n",
       "      <td>2.0</td>\n",
       "      <td>755.0</td>\n",
       "      <td>NaN</td>\n",
       "    </tr>\n",
       "    <tr>\n",
       "      <th>1</th>\n",
       "      <td>7</td>\n",
       "      <td>3350000.0</td>\n",
       "      <td>40.4</td>\n",
       "      <td>2018-12-04T00:00:00</td>\n",
       "      <td>1</td>\n",
       "      <td>NaN</td>\n",
       "      <td>11.0</td>\n",
       "      <td>18.6</td>\n",
       "      <td>1</td>\n",
       "      <td>NaN</td>\n",
       "      <td>False</td>\n",
       "      <td>False</td>\n",
       "      <td>11.0</td>\n",
       "      <td>2.0</td>\n",
       "      <td>посёлок Шушары</td>\n",
       "      <td>12817.0</td>\n",
       "      <td>18603.0</td>\n",
       "      <td>0.0</td>\n",
       "      <td>NaN</td>\n",
       "      <td>0.0</td>\n",
       "      <td>NaN</td>\n",
       "      <td>81.0</td>\n",
       "    </tr>\n",
       "    <tr>\n",
       "      <th>2</th>\n",
       "      <td>10</td>\n",
       "      <td>5196000.0</td>\n",
       "      <td>56.0</td>\n",
       "      <td>2015-08-20T00:00:00</td>\n",
       "      <td>2</td>\n",
       "      <td>NaN</td>\n",
       "      <td>5.0</td>\n",
       "      <td>34.3</td>\n",
       "      <td>4</td>\n",
       "      <td>NaN</td>\n",
       "      <td>False</td>\n",
       "      <td>False</td>\n",
       "      <td>8.3</td>\n",
       "      <td>0.0</td>\n",
       "      <td>Санкт-Петербург</td>\n",
       "      <td>21741.0</td>\n",
       "      <td>13933.0</td>\n",
       "      <td>1.0</td>\n",
       "      <td>90.0</td>\n",
       "      <td>2.0</td>\n",
       "      <td>574.0</td>\n",
       "      <td>558.0</td>\n",
       "    </tr>\n",
       "    <tr>\n",
       "      <th>3</th>\n",
       "      <td>0</td>\n",
       "      <td>64900000.0</td>\n",
       "      <td>159.0</td>\n",
       "      <td>2015-07-24T00:00:00</td>\n",
       "      <td>3</td>\n",
       "      <td>NaN</td>\n",
       "      <td>14.0</td>\n",
       "      <td>NaN</td>\n",
       "      <td>9</td>\n",
       "      <td>NaN</td>\n",
       "      <td>False</td>\n",
       "      <td>False</td>\n",
       "      <td>NaN</td>\n",
       "      <td>0.0</td>\n",
       "      <td>Санкт-Петербург</td>\n",
       "      <td>28098.0</td>\n",
       "      <td>6800.0</td>\n",
       "      <td>2.0</td>\n",
       "      <td>84.0</td>\n",
       "      <td>3.0</td>\n",
       "      <td>234.0</td>\n",
       "      <td>424.0</td>\n",
       "    </tr>\n",
       "    <tr>\n",
       "      <th>4</th>\n",
       "      <td>2</td>\n",
       "      <td>10000000.0</td>\n",
       "      <td>100.0</td>\n",
       "      <td>2018-06-19T00:00:00</td>\n",
       "      <td>2</td>\n",
       "      <td>3.03</td>\n",
       "      <td>14.0</td>\n",
       "      <td>32.0</td>\n",
       "      <td>13</td>\n",
       "      <td>NaN</td>\n",
       "      <td>False</td>\n",
       "      <td>False</td>\n",
       "      <td>41.0</td>\n",
       "      <td>NaN</td>\n",
       "      <td>Санкт-Петербург</td>\n",
       "      <td>31856.0</td>\n",
       "      <td>8098.0</td>\n",
       "      <td>2.0</td>\n",
       "      <td>112.0</td>\n",
       "      <td>1.0</td>\n",
       "      <td>48.0</td>\n",
       "      <td>121.0</td>\n",
       "    </tr>\n",
       "  </tbody>\n",
       "</table>\n",
       "</div>"
      ],
      "text/plain": [
       "   total_images  last_price  total_area first_day_exposition  rooms  \\\n",
       "0            20  13000000.0       108.0  2019-03-07T00:00:00      3   \n",
       "1             7   3350000.0        40.4  2018-12-04T00:00:00      1   \n",
       "2            10   5196000.0        56.0  2015-08-20T00:00:00      2   \n",
       "3             0  64900000.0       159.0  2015-07-24T00:00:00      3   \n",
       "4             2  10000000.0       100.0  2018-06-19T00:00:00      2   \n",
       "\n",
       "   ceiling_height  floors_total  living_area  floor is_apartment  studio  \\\n",
       "0            2.70          16.0         51.0      8          NaN   False   \n",
       "1             NaN          11.0         18.6      1          NaN   False   \n",
       "2             NaN           5.0         34.3      4          NaN   False   \n",
       "3             NaN          14.0          NaN      9          NaN   False   \n",
       "4            3.03          14.0         32.0     13          NaN   False   \n",
       "\n",
       "   open_plan  kitchen_area  balcony    locality_name  airports_nearest  \\\n",
       "0      False          25.0      NaN  Санкт-Петербург           18863.0   \n",
       "1      False          11.0      2.0   посёлок Шушары           12817.0   \n",
       "2      False           8.3      0.0  Санкт-Петербург           21741.0   \n",
       "3      False           NaN      0.0  Санкт-Петербург           28098.0   \n",
       "4      False          41.0      NaN  Санкт-Петербург           31856.0   \n",
       "\n",
       "   cityCenters_nearest  parks_around3000  parks_nearest  ponds_around3000  \\\n",
       "0              16028.0               1.0          482.0               2.0   \n",
       "1              18603.0               0.0            NaN               0.0   \n",
       "2              13933.0               1.0           90.0               2.0   \n",
       "3               6800.0               2.0           84.0               3.0   \n",
       "4               8098.0               2.0          112.0               1.0   \n",
       "\n",
       "   ponds_nearest  days_exposition  \n",
       "0          755.0              NaN  \n",
       "1            NaN             81.0  \n",
       "2          574.0            558.0  \n",
       "3          234.0            424.0  \n",
       "4           48.0            121.0  "
      ]
     },
     "execution_count": 2,
     "metadata": {},
     "output_type": "execute_result"
    }
   ],
   "source": [
    "data.head(5)"
   ]
  },
  {
   "cell_type": "code",
   "execution_count": 3,
   "id": "e2197723",
   "metadata": {
    "scrolled": false
   },
   "outputs": [
    {
     "name": "stdout",
     "output_type": "stream",
     "text": [
      "<class 'pandas.core.frame.DataFrame'>\n",
      "RangeIndex: 23699 entries, 0 to 23698\n",
      "Data columns (total 22 columns):\n",
      " #   Column                Non-Null Count  Dtype  \n",
      "---  ------                --------------  -----  \n",
      " 0   total_images          23699 non-null  int64  \n",
      " 1   last_price            23699 non-null  float64\n",
      " 2   total_area            23699 non-null  float64\n",
      " 3   first_day_exposition  23699 non-null  object \n",
      " 4   rooms                 23699 non-null  int64  \n",
      " 5   ceiling_height        14504 non-null  float64\n",
      " 6   floors_total          23613 non-null  float64\n",
      " 7   living_area           21796 non-null  float64\n",
      " 8   floor                 23699 non-null  int64  \n",
      " 9   is_apartment          2775 non-null   object \n",
      " 10  studio                23699 non-null  bool   \n",
      " 11  open_plan             23699 non-null  bool   \n",
      " 12  kitchen_area          21421 non-null  float64\n",
      " 13  balcony               12180 non-null  float64\n",
      " 14  locality_name         23650 non-null  object \n",
      " 15  airports_nearest      18157 non-null  float64\n",
      " 16  cityCenters_nearest   18180 non-null  float64\n",
      " 17  parks_around3000      18181 non-null  float64\n",
      " 18  parks_nearest         8079 non-null   float64\n",
      " 19  ponds_around3000      18181 non-null  float64\n",
      " 20  ponds_nearest         9110 non-null   float64\n",
      " 21  days_exposition       20518 non-null  float64\n",
      "dtypes: bool(2), float64(14), int64(3), object(3)\n",
      "memory usage: 3.7+ MB\n"
     ]
    }
   ],
   "source": [
    "# воспользуемся методом info, посмотрим общую информацию о датасете\n",
    "data.info()"
   ]
  },
  {
   "cell_type": "code",
   "execution_count": 4,
   "id": "6b5e848b",
   "metadata": {
    "scrolled": false
   },
   "outputs": [
    {
     "data": {
      "image/png": "[encoded data removed]",
      "text/plain": [
       "<Figure size 1080x1440 with 20 Axes>"
      ]
     },
     "metadata": {
      "needs_background": "light"
     },
     "output_type": "display_data"
    }
   ],
   "source": [
    "# построим гистрограммы для всего датасета\n",
    "data.hist(figsize=(15, 20));"
   ]
  },
  {
   "cell_type": "markdown",
   "id": "0ecaf695",
   "metadata": {},
   "source": [
    "* Наша таблица состоит из 22 столбцов и 23699 строк\n",
    "* В таблице есть четыре типа данных - целые числа, строки, вещественные числа и булевы значения\n",
    "* Судя по гистрограммам, в дальнейшем стоит обратить особое внимание на столбцы last_price, total_area, rooms, ceiling_height, kitchen_area, living_area - на графиках есть \"жирные\" хвосты, будут какие-то аномальные значения и выбросы"
   ]
  },
  {
   "cell_type": "code",
   "execution_count": 5,
   "id": "d7a88f5c",
   "metadata": {},
   "outputs": [
    {
     "data": {
      "text/plain": [
       "total_images                0\n",
       "open_plan                   0\n",
       "floor                       0\n",
       "rooms                       0\n",
       "studio                      0\n",
       "total_area                  0\n",
       "last_price                  0\n",
       "first_day_exposition        0\n",
       "locality_name              49\n",
       "floors_total               86\n",
       "living_area              1903\n",
       "kitchen_area             2278\n",
       "days_exposition          3181\n",
       "ponds_around3000         5518\n",
       "parks_around3000         5518\n",
       "cityCenters_nearest      5519\n",
       "airports_nearest         5542\n",
       "ceiling_height           9195\n",
       "balcony                 11519\n",
       "ponds_nearest           14589\n",
       "parks_nearest           15620\n",
       "is_apartment            20924\n",
       "dtype: int64"
      ]
     },
     "execution_count": 5,
     "metadata": {},
     "output_type": "execute_result"
    }
   ],
   "source": [
    "# посмотрим, сколько пропусков в каждом столбце\n",
    "data.isna().sum().sort_values()"
   ]
  },
  {
   "cell_type": "markdown",
   "id": "5a8d05b7",
   "metadata": {},
   "source": [
    "* Очень много пропусков в стоблце is_apartment. Вероятно, там, где стоит пропуск, можно заменить на False, пользователь скорее всего не указал, что квартира не является апартаментами. \n",
    "* Такая же ситуация с балконами, пропуск может быть там, где не указали, что балконов нет. Попробуем заменить пропуски на 0 балконов\n",
    "* В столбцах с количеством парков, прудов и аэропорта несколько вариантов - может быть, парков и прудов рядом совсем нет и их количество поэтому не указано. А может быть, значение пропущено случайно и парки и пруды на самом деле есть. Пока оставим как есть\n",
    "* Пропущены значения в столбцах с площадью жилой и кухней. \n",
    "* Пропущены значения в столбце \"общее количество этажей в здании\". Не уверена, что тут подойдет значение медианы или среднего, поэтому пока заполним пустые значения своего рода заглушкой, чтобы были возможность работать с этим столбцом дальше, тем более пустых значений совсем мало, 86 штук"
   ]
  },
  {
   "cell_type": "code",
   "execution_count": 6,
   "id": "40d74dc0",
   "metadata": {},
   "outputs": [
    {
     "data": {
      "text/plain": [
       "0"
      ]
     },
     "execution_count": 6,
     "metadata": {},
     "output_type": "execute_result"
    }
   ],
   "source": [
    "# посчитаем дубликаты\n",
    "data.duplicated().sum() "
   ]
  },
  {
   "cell_type": "markdown",
   "id": "e68b18a9",
   "metadata": {},
   "source": [
    "* В датасете не оказалось дублирующих строк, отлично"
   ]
  },
  {
   "cell_type": "markdown",
   "id": "9399cf9f",
   "metadata": {},
   "source": [
    "# 2. Предобработка данных"
   ]
  },
  {
   "cell_type": "markdown",
   "id": "bcfda327",
   "metadata": {},
   "source": [
    "### 2.1 Поиск и заполнение пропущенных значений"
   ]
  },
  {
   "cell_type": "code",
   "execution_count": 8,
   "id": "344df826",
   "metadata": {},
   "outputs": [],
   "source": [
    "# заполним пропуски в столбцах с количеством балконов, апартаментами и общим числом этажей\n",
    "data['balcony'] = data['balcony'].fillna(0)"
   ]
  },
  {
   "cell_type": "code",
   "execution_count": 9,
   "id": "90d340b4",
   "metadata": {},
   "outputs": [],
   "source": [
    "data['is_apartment'] = data['is_apartment'].fillna(False)"
   ]
  },
  {
   "cell_type": "code",
   "execution_count": 10,
   "id": "1f867f10",
   "metadata": {},
   "outputs": [],
   "source": [
    "data['floors_total'] = data['floors_total'].fillna(55555)"
   ]
  },
  {
   "cell_type": "code",
   "execution_count": 11,
   "id": "6113cff5",
   "metadata": {},
   "outputs": [
    {
     "data": {
      "text/plain": [
       "0.5769230769230769"
      ]
     },
     "execution_count": 11,
     "metadata": {},
     "output_type": "execute_result"
    }
   ],
   "source": [
    "# попробуем заполнить пропуски в жилой и кухонной площадях с помощью коэффициента, показывающего, \n",
    "# какова в общем доля той или иной площади от общей \n",
    "# беру медиану, так как думаю, что она более точно отразит значение для всех площадей, чем среднее\n",
    "k = data['living_area'].median() / data['total_area'].median()\n",
    "k"
   ]
  },
  {
   "cell_type": "code",
   "execution_count": 12,
   "id": "ddd7b5ee",
   "metadata": {},
   "outputs": [
    {
     "data": {
      "text/plain": [
       "0.175"
      ]
     },
     "execution_count": 12,
     "metadata": {},
     "output_type": "execute_result"
    }
   ],
   "source": [
    "# коэффициент для площади кухни\n",
    "f = data['kitchen_area'].median() / data['total_area'].median()\n",
    "f"
   ]
  },
  {
   "cell_type": "code",
   "execution_count": 13,
   "id": "5841ca72",
   "metadata": {},
   "outputs": [],
   "source": [
    "data.loc[data['living_area'].isna(), 'living_area'] = data.loc[data['living_area'].isna(), 'total_area'] * k"
   ]
  },
  {
   "cell_type": "code",
   "execution_count": 14,
   "id": "c7356615",
   "metadata": {},
   "outputs": [],
   "source": [
    "data.loc[data['kitchen_area'].isna(), 'kitchen_area'] = data.loc[data['kitchen_area'].isna(), 'total_area'] * f"
   ]
  },
  {
   "cell_type": "code",
   "execution_count": 15,
   "id": "2ea9eaeb",
   "metadata": {},
   "outputs": [],
   "source": [
    "# заполним пропуски и в столбце потолки, чтобы было удобнее работать, воспользуемся заглушкой\n",
    "data['ceiling_height'] = data['ceiling_height'].fillna(55555)"
   ]
  },
  {
   "cell_type": "code",
   "execution_count": 16,
   "id": "8d04e61e",
   "metadata": {},
   "outputs": [
    {
     "data": {
      "text/plain": [
       "total_images                0\n",
       "balcony                     0\n",
       "kitchen_area                0\n",
       "open_plan                   0\n",
       "is_apartment                0\n",
       "floor                       0\n",
       "living_area                 0\n",
       "studio                      0\n",
       "ceiling_height              0\n",
       "rooms                       0\n",
       "first_day_exposition        0\n",
       "total_area                  0\n",
       "last_price                  0\n",
       "floors_total                0\n",
       "locality_name              49\n",
       "days_exposition          3181\n",
       "parks_around3000         5518\n",
       "ponds_around3000         5518\n",
       "cityCenters_nearest      5519\n",
       "airports_nearest         5542\n",
       "ponds_nearest           14589\n",
       "parks_nearest           15620\n",
       "dtype: int64"
      ]
     },
     "execution_count": 16,
     "metadata": {},
     "output_type": "execute_result"
    }
   ],
   "source": [
    "data.isna().sum().sort_values()"
   ]
  },
  {
   "cell_type": "markdown",
   "id": "eebb5d2a",
   "metadata": {},
   "source": [
    "### 2.2 Изменение типа данных"
   ]
  },
  {
   "cell_type": "code",
   "execution_count": 17,
   "id": "cd4865c2",
   "metadata": {},
   "outputs": [],
   "source": [
    "# поменяем тип данных в столбцах с балконами, все-таки количество должно быть целым числом\n",
    "data['balcony'] = data['balcony'].astype('int')"
   ]
  },
  {
   "cell_type": "code",
   "execution_count": 18,
   "id": "88e0a108",
   "metadata": {},
   "outputs": [],
   "source": [
    "# заменим тип даты выставления объявления на datetime\n",
    "data['first_day_exposition'] = pd.to_datetime(data['first_day_exposition'], format='%Y-%m-%dT%H:%M:%S')"
   ]
  },
  {
   "cell_type": "code",
   "execution_count": 19,
   "id": "8171d4ab",
   "metadata": {},
   "outputs": [],
   "source": [
    "# поменяем тип данных в числе этажей\n",
    "data['floors_total'] = data['floors_total'].astype('int')"
   ]
  },
  {
   "cell_type": "code",
   "execution_count": 20,
   "id": "1bca105c",
   "metadata": {},
   "outputs": [
    {
     "name": "stdout",
     "output_type": "stream",
     "text": [
      "<class 'pandas.core.frame.DataFrame'>\n",
      "RangeIndex: 23699 entries, 0 to 23698\n",
      "Data columns (total 22 columns):\n",
      " #   Column                Non-Null Count  Dtype         \n",
      "---  ------                --------------  -----         \n",
      " 0   total_images          23699 non-null  int64         \n",
      " 1   last_price            23699 non-null  float64       \n",
      " 2   total_area            23699 non-null  float64       \n",
      " 3   first_day_exposition  23699 non-null  datetime64[ns]\n",
      " 4   rooms                 23699 non-null  int64         \n",
      " 5   ceiling_height        23699 non-null  float64       \n",
      " 6   floors_total          23699 non-null  int64         \n",
      " 7   living_area           23699 non-null  float64       \n",
      " 8   floor                 23699 non-null  int64         \n",
      " 9   is_apartment          23699 non-null  bool          \n",
      " 10  studio                23699 non-null  bool          \n",
      " 11  open_plan             23699 non-null  bool          \n",
      " 12  kitchen_area          23699 non-null  float64       \n",
      " 13  balcony               23699 non-null  int64         \n",
      " 14  locality_name         23650 non-null  object        \n",
      " 15  airports_nearest      18157 non-null  float64       \n",
      " 16  cityCenters_nearest   18180 non-null  float64       \n",
      " 17  parks_around3000      18181 non-null  float64       \n",
      " 18  parks_nearest         8079 non-null   float64       \n",
      " 19  ponds_around3000      18181 non-null  float64       \n",
      " 20  ponds_nearest         9110 non-null   float64       \n",
      " 21  days_exposition       20518 non-null  float64       \n",
      "dtypes: bool(3), datetime64[ns](1), float64(12), int64(5), object(1)\n",
      "memory usage: 3.5+ MB\n"
     ]
    }
   ],
   "source": [
    "# проверим, как поменялись типы данных в столбцах\n",
    "data.info()"
   ]
  },
  {
   "cell_type": "markdown",
   "id": "aac731f4",
   "metadata": {},
   "source": [
    "* Менять тип данных необходимо, чтобы потом можно было корректно работать с данными. Если например оставить дату строками, потом не получится вытащить оттуда необходимые значения (день, месяц, год и т.д.)"
   ]
  },
  {
   "cell_type": "markdown",
   "id": "4de2bad3",
   "metadata": {},
   "source": [
    "### 2.3 Обработка дубликатов и артефактов"
   ]
  },
  {
   "cell_type": "code",
   "execution_count": 22,
   "id": "8dbdc8d1",
   "metadata": {},
   "outputs": [
    {
     "data": {
      "text/plain": [
       "364"
      ]
     },
     "execution_count": 22,
     "metadata": {},
     "output_type": "execute_result"
    }
   ],
   "source": [
    "# выведем количество уникальных значений в столбце населенных пунктов\n",
    "data['locality_name'].nunique()"
   ]
  },
  {
   "cell_type": "code",
   "execution_count": 23,
   "id": "f9d001fe",
   "metadata": {},
   "outputs": [
    {
     "data": {
      "text/plain": [
       "array(['Санкт-Петербург', 'посёлок Шушары', 'городской посёлок Янино-1',\n",
       "       'посёлок Парголово', 'посёлок Мурино', 'Ломоносов', 'Сертолово',\n",
       "       'Петергоф', 'Пушкин', 'деревня Кудрово', 'Коммунар', 'Колпино',\n",
       "       'поселок городского типа Красный Бор', 'Гатчина', 'поселок Мурино',\n",
       "       'деревня Фёдоровское', 'Выборг', 'Кронштадт', 'Кировск',\n",
       "       'деревня Новое Девяткино', 'посёлок Металлострой',\n",
       "       'посёлок городского типа Лебяжье',\n",
       "       'посёлок городского типа Сиверский', 'поселок Молодцово',\n",
       "       'поселок городского типа Кузьмоловский',\n",
       "       'садовое товарищество Новая Ропша', 'Павловск',\n",
       "       'деревня Пикколово', 'Всеволожск', 'Волхов', 'Кингисепп',\n",
       "       'Приозерск', 'Сестрорецк', 'деревня Куттузи', 'посёлок Аннино',\n",
       "       'поселок городского типа Ефимовский', 'посёлок Плодовое',\n",
       "       'деревня Заклинье', 'поселок Торковичи', 'поселок Первомайское',\n",
       "       'Красное Село', 'посёлок Понтонный', 'Сясьстрой', 'деревня Старая',\n",
       "       'деревня Лесколово', 'посёлок Новый Свет', 'Сланцы',\n",
       "       'село Путилово', 'Ивангород', 'Мурино', 'Шлиссельбург',\n",
       "       'Никольское', 'Зеленогорск', 'Сосновый Бор', 'поселок Новый Свет',\n",
       "       'деревня Оржицы', 'деревня Кальтино', 'Кудрово',\n",
       "       'поселок Романовка', 'посёлок Бугры', 'поселок Бугры',\n",
       "       'поселок городского типа Рощино', 'Кириши', 'Луга', 'Волосово',\n",
       "       'Отрадное', 'село Павлово', 'поселок Оредеж', 'село Копорье',\n",
       "       'посёлок городского типа Красный Бор', 'посёлок Молодёжное',\n",
       "       'Тихвин', 'посёлок Победа', 'деревня Нурма',\n",
       "       'поселок городского типа Синявино', 'Тосно',\n",
       "       'посёлок городского типа Кузьмоловский', 'посёлок Стрельна',\n",
       "       'Бокситогорск', 'посёлок Александровская', 'деревня Лопухинка',\n",
       "       'Пикалёво', 'поселок Терволово',\n",
       "       'поселок городского типа Советский', 'Подпорожье',\n",
       "       'посёлок Петровское', 'посёлок городского типа Токсово',\n",
       "       'поселок Сельцо', 'посёлок городского типа Вырица',\n",
       "       'деревня Кипень', 'деревня Келози', 'деревня Вартемяги',\n",
       "       'посёлок Тельмана', 'поселок Севастьяново',\n",
       "       'городской поселок Большая Ижора', nan,\n",
       "       'городской посёлок Павлово', 'деревня Агалатово',\n",
       "       'посёлок Новогорелово', 'городской посёлок Лесогорский',\n",
       "       'деревня Лаголово', 'поселок Цвелодубово',\n",
       "       'поселок городского типа Рахья', 'поселок городского типа Вырица',\n",
       "       'деревня Белогорка', 'поселок Заводской',\n",
       "       'городской посёлок Новоселье', 'деревня Большие Колпаны',\n",
       "       'деревня Горбунки', 'деревня Батово', 'деревня Заневка',\n",
       "       'деревня Иссад', 'Приморск', 'городской посёлок Фёдоровское',\n",
       "       'деревня Мистолово', 'Новая Ладога', 'поселок Зимитицы',\n",
       "       'поселок Барышево', 'деревня Разметелево',\n",
       "       'поселок городского типа имени Свердлова', 'деревня Пеники',\n",
       "       'поселок Рябово', 'деревня Пудомяги', 'поселок станции Корнево',\n",
       "       'деревня Низино', 'деревня Бегуницы', 'посёлок Поляны',\n",
       "       'городской посёлок Мга', 'поселок Елизаветино',\n",
       "       'посёлок городского типа Кузнечное', 'деревня Колтуши',\n",
       "       'поселок Запорожское', 'посёлок городского типа Рощино',\n",
       "       'деревня Гостилицы', 'деревня Малое Карлино',\n",
       "       'посёлок Мичуринское', 'посёлок городского типа имени Морозова',\n",
       "       'посёлок Песочный', 'посёлок Сосново', 'деревня Аро',\n",
       "       'поселок Ильичёво', 'посёлок городского типа Тайцы',\n",
       "       'деревня Малое Верево', 'деревня Извара', 'поселок станции Вещево',\n",
       "       'село Паша', 'деревня Калитино',\n",
       "       'посёлок городского типа Ульяновка', 'деревня Чудской Бор',\n",
       "       'поселок городского типа Дубровка', 'деревня Мины',\n",
       "       'поселок Войсковицы', 'посёлок городского типа имени Свердлова',\n",
       "       'деревня Коркино', 'посёлок Ропша',\n",
       "       'поселок городского типа Приладожский', 'посёлок Щеглово',\n",
       "       'посёлок Гаврилово', 'Лодейное Поле', 'деревня Рабитицы',\n",
       "       'поселок городского типа Никольский', 'деревня Кузьмолово',\n",
       "       'деревня Малые Колпаны', 'поселок Тельмана',\n",
       "       'посёлок Петро-Славянка', 'городской посёлок Назия',\n",
       "       'посёлок Репино', 'посёлок Ильичёво', 'поселок Углово',\n",
       "       'поселок Старая Малукса', 'садовое товарищество Рахья',\n",
       "       'поселок Аннино', 'поселок Победа', 'деревня Меньково',\n",
       "       'деревня Старые Бегуницы', 'посёлок Сапёрный', 'поселок Семрино',\n",
       "       'поселок Гаврилово', 'поселок Глажево', 'поселок Кобринское',\n",
       "       'деревня Гарболово', 'деревня Юкки',\n",
       "       'поселок станции Приветнинское', 'деревня Мануйлово',\n",
       "       'деревня Пчева', 'поселок Поляны', 'поселок Цвылёво',\n",
       "       'поселок Мельниково', 'посёлок Пудость', 'посёлок Усть-Луга',\n",
       "       'Светогорск', 'Любань', 'поселок Селезнёво',\n",
       "       'поселок городского типа Рябово', 'Каменногорск', 'деревня Кривко',\n",
       "       'поселок Глебычево', 'деревня Парицы', 'поселок Жилпосёлок',\n",
       "       'посёлок городского типа Мга', 'городской поселок Янино-1',\n",
       "       'посёлок Войскорово', 'село Никольское', 'посёлок Терволово',\n",
       "       'поселок Стеклянный', 'посёлок городского типа Важины',\n",
       "       'посёлок Мыза-Ивановка', 'село Русско-Высоцкое',\n",
       "       'поселок городского типа Лебяжье',\n",
       "       'поселок городского типа Форносово', 'село Старая Ладога',\n",
       "       'поселок Житково', 'городской посёлок Виллози', 'деревня Лампово',\n",
       "       'деревня Шпаньково', 'деревня Лаврики', 'посёлок Сумино',\n",
       "       'посёлок Возрождение', 'деревня Старосиверская',\n",
       "       'посёлок Кикерино', 'поселок Возрождение',\n",
       "       'деревня Старое Хинколово', 'посёлок Пригородный',\n",
       "       'посёлок Торфяное', 'городской посёлок Будогощь',\n",
       "       'поселок Суходолье', 'поселок Красная Долина', 'деревня Хапо-Ое',\n",
       "       'поселок городского типа Дружная Горка', 'поселок Лисий Нос',\n",
       "       'деревня Яльгелево', 'посёлок Стеклянный', 'село Рождествено',\n",
       "       'деревня Старополье', 'посёлок Левашово', 'деревня Сяськелево',\n",
       "       'деревня Камышовка',\n",
       "       'садоводческое некоммерческое товарищество Лесная Поляна',\n",
       "       'деревня Хязельки', 'поселок Жилгородок',\n",
       "       'посёлок городского типа Павлово', 'деревня Ялгино',\n",
       "       'поселок Новый Учхоз', 'городской посёлок Рощино',\n",
       "       'поселок Гончарово', 'поселок Почап', 'посёлок Сапёрное',\n",
       "       'посёлок Платформа 69-й километр', 'поселок Каложицы',\n",
       "       'деревня Фалилеево', 'деревня Пельгора',\n",
       "       'поселок городского типа Лесогорский', 'деревня Торошковичи',\n",
       "       'посёлок Белоостров', 'посёлок Алексеевка', 'поселок Серебрянский',\n",
       "       'поселок Лукаши', 'поселок Петровское', 'деревня Щеглово',\n",
       "       'поселок Мичуринское', 'деревня Тарасово', 'поселок Кингисеппский',\n",
       "       'посёлок при железнодорожной станции Вещево', 'поселок Ушаки',\n",
       "       'деревня Котлы', 'деревня Сижно', 'деревня Торосово',\n",
       "       'посёлок Форт Красная Горка', 'поселок городского типа Токсово',\n",
       "       'деревня Новолисино', 'посёлок станции Громово', 'деревня Глинка',\n",
       "       'посёлок Мельниково', 'поселок городского типа Назия',\n",
       "       'деревня Старая Пустошь', 'поселок Коммунары', 'поселок Починок',\n",
       "       'посёлок городского типа Вознесенье', 'деревня Разбегаево',\n",
       "       'посёлок городского типа Рябово', 'поселок Гладкое',\n",
       "       'посёлок при железнодорожной станции Приветнинское',\n",
       "       'поселок Тёсово-4', 'посёлок Жилгородок', 'деревня Бор',\n",
       "       'посёлок Коробицыно', 'деревня Большая Вруда', 'деревня Курковицы',\n",
       "       'посёлок Лисий Нос', 'городской посёлок Советский',\n",
       "       'посёлок Кобралово', 'деревня Суоранда', 'поселок Кобралово',\n",
       "       'поселок городского типа Кондратьево',\n",
       "       'коттеджный поселок Счастье', 'поселок Любань', 'деревня Реброво',\n",
       "       'деревня Зимитицы', 'деревня Тойворово', 'поселок Семиозерье',\n",
       "       'поселок Лесное', 'поселок Совхозный', 'поселок Усть-Луга',\n",
       "       'посёлок Ленинское', 'посёлок Суйда',\n",
       "       'посёлок городского типа Форносово', 'деревня Нижние Осельки',\n",
       "       'посёлок станции Свирь', 'поселок Перово', 'Высоцк',\n",
       "       'поселок Гарболово', 'село Шум', 'поселок Котельский',\n",
       "       'поселок станции Лужайка', 'деревня Большая Пустомержа',\n",
       "       'поселок Красносельское', 'деревня Вахнова Кара', 'деревня Пижма',\n",
       "       'коттеджный поселок Кивеннапа Север', 'поселок Коробицыно',\n",
       "       'поселок Ромашки', 'посёлок Перово', 'деревня Каськово',\n",
       "       'деревня Куровицы', 'посёлок Плоское', 'поселок Сумино',\n",
       "       'поселок городского типа Большая Ижора', 'поселок Кирпичное',\n",
       "       'деревня Ям-Тесово', 'деревня Раздолье', 'деревня Терпилицы',\n",
       "       'посёлок Шугозеро', 'деревня Ваганово', 'поселок Пушное',\n",
       "       'садовое товарищество Садко', 'посёлок Усть-Ижора',\n",
       "       'деревня Выскатка', 'городской посёлок Свирьстрой',\n",
       "       'поселок Громово', 'деревня Кисельня', 'посёлок Старая Малукса',\n",
       "       'деревня Трубников Бор', 'поселок Калитино',\n",
       "       'посёлок Высокоключевой', 'садовое товарищество Приладожский',\n",
       "       'посёлок Пансионат Зелёный Бор', 'деревня Ненимяки',\n",
       "       'поселок Пансионат Зелёный Бор', 'деревня Снегирёвка',\n",
       "       'деревня Рапполово', 'деревня Пустынка', 'поселок Рабитицы',\n",
       "       'деревня Большой Сабск', 'деревня Русско', 'деревня Лупполово',\n",
       "       'деревня Большое Рейзино', 'деревня Малая Романовка',\n",
       "       'поселок Дружноселье', 'поселок Пчевжа', 'поселок Володарское',\n",
       "       'деревня Нижняя', 'коттеджный посёлок Лесное', 'деревня Тихковицы',\n",
       "       'деревня Борисова Грива', 'посёлок Дзержинского'], dtype=object)"
      ]
     },
     "execution_count": 23,
     "metadata": {},
     "output_type": "execute_result"
    }
   ],
   "source": [
    "# выведем список уникальных значений в столбце населенных пунктов\n",
    "data['locality_name'].unique()"
   ]
  },
  {
   "cell_type": "markdown",
   "id": "dfaa68e1",
   "metadata": {},
   "source": [
    "* Получилось 364 уникальных имени населенных пунктов. Как мы видим, дублируются названия с буквой \"ё\" и \"е\". Попробуем избавиться от таких неявных дубликатов\n"
   ]
  },
  {
   "cell_type": "code",
   "execution_count": 24,
   "id": "8b4b9a7d",
   "metadata": {},
   "outputs": [],
   "source": [
    "data['locality_name'] = data['locality_name'].str.replace('ё', 'е')"
   ]
  },
  {
   "cell_type": "markdown",
   "id": "ce42423b",
   "metadata": {},
   "source": [
    "* Также очень много неявных дубликатов типа \"поселок при железнодорожной станции Вещево\" и \"Вещево\". Судя по всему, нас.пункты одинаковые, но учитываются они как разные"
   ]
  },
  {
   "cell_type": "code",
   "execution_count": 25,
   "id": "6bfb5ddf",
   "metadata": {},
   "outputs": [],
   "source": [
    "# функция для удаления типов населенных пунктов (поселок городского типа, ж/д станция и т.д.)\n",
    "# оставим только имена собственные, начинающиеся с заглавной буквы (Санкт-Петербург, Пушкин, Парголово и т.д.)\n",
    "def uniq_loc_name(row):\n",
    "    for i in row.split():\n",
    "        if not i.istitle():\n",
    "            row = row.replace(i, '')  \n",
    "    return row.strip()"
   ]
  },
  {
   "cell_type": "code",
   "execution_count": 27,
   "id": "ea1dacea",
   "metadata": {},
   "outputs": [],
   "source": [
    "# применим функцию и сразу заменим здесь пропуски на неизвестное значение, так как не вижу \n",
    "# другого способа заменить насел.пункты\n",
    "data['locality_name'] = data['locality_name'].fillna('Неизвестно').apply(uniq_loc_name)"
   ]
  },
  {
   "cell_type": "code",
   "execution_count": 28,
   "id": "c3dd7e64",
   "metadata": {
    "scrolled": true
   },
   "outputs": [
    {
     "data": {
      "text/plain": [
       "306"
      ]
     },
     "execution_count": 28,
     "metadata": {},
     "output_type": "execute_result"
    }
   ],
   "source": [
    "data['locality_name'].nunique()"
   ]
  },
  {
   "cell_type": "markdown",
   "id": "7f148284",
   "metadata": {},
   "source": [
    "* Отлично, уникальных населенных пунктов стало меньше. Теперь подробнее рассмотрим значения высоты потолков"
   ]
  },
  {
   "cell_type": "code",
   "execution_count": 29,
   "id": "9609ecf2",
   "metadata": {
    "scrolled": false
   },
   "outputs": [
    {
     "data": {
      "text/plain": [
       "<AxesSubplot:>"
      ]
     },
     "execution_count": 29,
     "metadata": {},
     "output_type": "execute_result"
    },
    {
     "data": {
      "image/png": "[encoded data removed]",
      "text/plain": [
       "<Figure size 1080x504 with 1 Axes>"
      ]
     },
     "metadata": {
      "needs_background": "light"
     },
     "output_type": "display_data"
    }
   ],
   "source": [
    "data['ceiling_height'].hist(bins=100, figsize=(15,7))"
   ]
  },
  {
   "cell_type": "markdown",
   "id": "a97bc573",
   "metadata": {},
   "source": [
    "* У нас есть странные значения высоты - 20, 30 и даже 100 метров. Выглядит очень неправдоподобно. Но значения 25, 26...30, 40 вероятно говорят о том, что при заполнении ошиблись и просто не там стоит запятая. ТАкже есть очень маленькие значения меньше 2 метров, вряд ли бывают такие низкие квартиры. Примем, что возмодно могут быть шикарные апартаменты с высотой потолков до 4 м, но не более"
   ]
  },
  {
   "cell_type": "code",
   "execution_count": 30,
   "id": "be201327",
   "metadata": {},
   "outputs": [
    {
     "data": {
      "text/plain": [
       "<AxesSubplot:>"
      ]
     },
     "execution_count": 30,
     "metadata": {},
     "output_type": "execute_result"
    },
    {
     "data": {
      "image/png": "[encoded data removed]",
      "text/plain": [
       "<Figure size 432x288 with 1 Axes>"
      ]
     },
     "metadata": {
      "needs_background": "light"
     },
     "output_type": "display_data"
    }
   ],
   "source": [
    "data.query('ceiling_height > 25')['ceiling_height'].hist(bins=4, range=(20,60))"
   ]
  },
  {
   "cell_type": "code",
   "execution_count": 31,
   "id": "fd45cb27",
   "metadata": {},
   "outputs": [],
   "source": [
    "# функция для замены странных значений высоты на правильные (25 на 2.5 например)\n",
    "def ceiling(row):\n",
    "    if 20 < row < 45:\n",
    "            row = row /10\n",
    "    return row"
   ]
  },
  {
   "cell_type": "code",
   "execution_count": 33,
   "id": "c33b4092",
   "metadata": {},
   "outputs": [],
   "source": [
    "data['ceiling_height'] = data['ceiling_height'].apply(ceiling)"
   ]
  },
  {
   "cell_type": "code",
   "execution_count": 34,
   "id": "b98ac41e",
   "metadata": {
    "scrolled": false
   },
   "outputs": [
    {
     "data": {
      "image/png": "[encoded data removed]",
      "text/plain": [
       "<Figure size 1080x504 with 1 Axes>"
      ]
     },
     "metadata": {
      "needs_background": "light"
     },
     "output_type": "display_data"
    }
   ],
   "source": [
    "# в столбце с ценой есть очень большие значения от 100 до 700 млн\n",
    "data['last_price'].hist(range=(100000000, 700000000),figsize=(15,7));"
   ]
  },
  {
   "cell_type": "code",
   "execution_count": 35,
   "id": "b515e53c",
   "metadata": {
    "scrolled": false
   },
   "outputs": [
    {
     "data": {
      "image/png": "[encoded data removed]",
      "text/plain": [
       "<Figure size 1080x504 with 1 Axes>"
      ]
     },
     "metadata": {
      "needs_background": "light"
     },
     "output_type": "display_data"
    }
   ],
   "source": [
    "data['living_area'].hist(range=(300, 400),figsize=(15,7));"
   ]
  },
  {
   "cell_type": "code",
   "execution_count": 36,
   "id": "86005eff",
   "metadata": {
    "scrolled": false
   },
   "outputs": [
    {
     "data": {
      "image/png": "[encoded data removed]",
      "text/plain": [
       "<Figure size 1080x504 with 1 Axes>"
      ]
     },
     "metadata": {
      "needs_background": "light"
     },
     "output_type": "display_data"
    }
   ],
   "source": [
    "data['total_area'].hist(range=(300, 900),figsize=(15,7));"
   ]
  },
  {
   "cell_type": "markdown",
   "id": "48376f79",
   "metadata": {},
   "source": [
    "* Во всех этих столбцах есть очень большие значения, но они вполне реальны. Их можно либо удалить совсем, либо проанализировать выбросы с помощью графика boxplot и уже отсечь в анализе."
   ]
  },
  {
   "cell_type": "markdown",
   "id": "e81f6022",
   "metadata": {},
   "source": [
    "### 2.4 Добавление новых столбцов"
   ]
  },
  {
   "cell_type": "markdown",
   "id": "eba35f30",
   "metadata": {},
   "source": [
    "* добавление столбца **цена одного квадратного метра**"
   ]
  },
  {
   "cell_type": "code",
   "execution_count": 37,
   "id": "ea1ee0c0",
   "metadata": {},
   "outputs": [],
   "source": [
    "data['price_per_square'] = data['last_price'] / data['total_area']"
   ]
  },
  {
   "cell_type": "markdown",
   "id": "39bb98c6",
   "metadata": {},
   "source": [
    "* добавление столбца **день недели публикации объявления**"
   ]
  },
  {
   "cell_type": "code",
   "execution_count": 38,
   "id": "f295a33e",
   "metadata": {},
   "outputs": [],
   "source": [
    "data['weekday'] = data['first_day_exposition'].dt.weekday"
   ]
  },
  {
   "cell_type": "markdown",
   "id": "e2e6bea6",
   "metadata": {},
   "source": [
    "* добавление столбца **месяц публикации объявления**"
   ]
  },
  {
   "cell_type": "code",
   "execution_count": 39,
   "id": "1becceb9",
   "metadata": {},
   "outputs": [],
   "source": [
    "data['month'] = data['first_day_exposition'].dt.month"
   ]
  },
  {
   "cell_type": "markdown",
   "id": "b27731a4",
   "metadata": {},
   "source": [
    "* добавление столбца **год публикации объявления**"
   ]
  },
  {
   "cell_type": "code",
   "execution_count": 40,
   "id": "90b274b9",
   "metadata": {},
   "outputs": [],
   "source": [
    "data['year'] = data['first_day_exposition'].dt.year"
   ]
  },
  {
   "cell_type": "markdown",
   "id": "c4fa3f0f",
   "metadata": {},
   "source": [
    "* добавление столбца **тип этажа квартиры**"
   ]
  },
  {
   "cell_type": "code",
   "execution_count": 41,
   "id": "0bda684b",
   "metadata": {},
   "outputs": [],
   "source": [
    "# функция для распределения этажей по типам; если есть заглушка 55555, то оставим 'неизвестно'\n",
    "def type_of_floor(row):\n",
    "    floor = row['floor']\n",
    "    total = row['floors_total']\n",
    "    if floor == 1:\n",
    "        return 'первый'\n",
    "    elif floor == total:\n",
    "        return 'последний'\n",
    "    elif total == 55555:\n",
    "        return 'неизвестно'\n",
    "    else:\n",
    "        return 'другой'"
   ]
  },
  {
   "cell_type": "code",
   "execution_count": 42,
   "id": "0dca670a",
   "metadata": {},
   "outputs": [],
   "source": [
    "data['type_of_floor'] = data.apply(type_of_floor, axis=1)"
   ]
  },
  {
   "cell_type": "markdown",
   "id": "1472e0b0",
   "metadata": {},
   "source": [
    " * добавление столбца **расстояние до центра города в километрах**"
   ]
  },
  {
   "cell_type": "code",
   "execution_count": 43,
   "id": "63a09e69",
   "metadata": {},
   "outputs": [],
   "source": [
    "data['cityCenters_nearest_km'] = round(data['cityCenters_nearest'] / 1000)"
   ]
  },
  {
   "cell_type": "markdown",
   "id": "d28a4532",
   "metadata": {},
   "source": [
    "**Вывод**\n",
    "* Добавили в наш датасет несколько новых столбцов, чтобы анализ был более полным"
   ]
  },
  {
   "cell_type": "markdown",
   "id": "f4c6525f",
   "metadata": {},
   "source": [
    "# 3. Исследовательский анализ данных"
   ]
  },
  {
   "cell_type": "markdown",
   "id": "5c4f4ff5",
   "metadata": {},
   "source": [
    "## 3.1 Изучение параметров объектов"
   ]
  },
  {
   "cell_type": "markdown",
   "id": "f4c2c299",
   "metadata": {},
   "source": [
    "### 3.1.1 общая площадь"
   ]
  },
  {
   "cell_type": "code",
   "execution_count": 44,
   "id": "1a1f8d01",
   "metadata": {},
   "outputs": [
    {
     "data": {
      "image/png": "[encoded data removed]",
      "text/plain": [
       "<Figure size 432x288 with 1 Axes>"
      ]
     },
     "metadata": {
      "needs_background": "light"
     },
     "output_type": "display_data"
    }
   ],
   "source": [
    "# построим гистограмму по столбцу с общей площадью\n",
    "data['total_area'].hist();"
   ]
  },
  {
   "cell_type": "markdown",
   "id": "574219ac",
   "metadata": {},
   "source": [
    "* Видим жирный хвост справа, похоже на выброс или какое-то аномальное значение. Попробуем посмотреть через процентиль"
   ]
  },
  {
   "cell_type": "code",
   "execution_count": 45,
   "id": "11df9830",
   "metadata": {
    "scrolled": true
   },
   "outputs": [
    {
     "name": "stdout",
     "output_type": "stream",
     "text": [
      "197.21400000000028\n",
      "25.199\n"
     ]
    }
   ],
   "source": [
    "print(data['total_area'].quantile(0.99))\n",
    "print(data['total_area'].quantile(0.01))"
   ]
  },
  {
   "cell_type": "markdown",
   "id": "7fb72bae",
   "metadata": {},
   "source": [
    "* Как мы видим, 99% наших квартир имеют площадь меньше 197 кв.метров и всего 1% меньше 25 кв.метров. Перестроим нашу гистрограмму, отбросив эти площади"
   ]
  },
  {
   "cell_type": "code",
   "execution_count": 46,
   "id": "a9314a27",
   "metadata": {},
   "outputs": [
    {
     "data": {
      "image/png": "[encoded data removed]",
      "text/plain": [
       "<Figure size 432x288 with 1 Axes>"
      ]
     },
     "metadata": {
      "needs_background": "light"
     },
     "output_type": "display_data"
    }
   ],
   "source": [
    "data['total_area'].hist(range=(25,200));"
   ]
  },
  {
   "cell_type": "code",
   "execution_count": 47,
   "id": "9254c688",
   "metadata": {
    "scrolled": true
   },
   "outputs": [
    {
     "name": "stdout",
     "output_type": "stream",
     "text": [
      "Медиана и среднее по 99% данных:\n",
      "медиана общей площади 51.9 и среднее общей площади 52.0\n",
      "Медиана и среднее по всем данным:\n",
      "медиана общей площади 58.15562851542526 и среднее общей площади 60.34865099793241\n"
     ]
    }
   ],
   "source": [
    "total_area_fm = data.query('total_area < 200')['total_area'].median()\n",
    "total_area_m = data['total_area'].median()\n",
    "total_area_fme = data.query('total_area < 200')['total_area'].mean()\n",
    "total_area_me = data['total_area'].mean()\n",
    "print(f'Медиана и среднее по 99% данных:')\n",
    "print(f'медиана общей площади {total_area_fm} и среднее общей площади {total_area_m}')\n",
    "print(f'Медиана и среднее по всем данным:')\n",
    "print(f'медиана общей площади {total_area_fme} и среднее общей площади {total_area_me}')"
   ]
  },
  {
   "cell_type": "markdown",
   "id": "e93535ed",
   "metadata": {},
   "source": [
    "* После подсчета медианы и среднего видно, что медиана менее чуствительна к выбросам, в отличие от среднего - 52 кв.метра против 60 кв.метров по всем данным вместе с выбросами. Если отбросить больгие площади, то медиана 51.6, а среднее 52, почти совпадает"
   ]
  },
  {
   "cell_type": "markdown",
   "id": "be272165",
   "metadata": {},
   "source": [
    "### 3.1.2 жилая площадь"
   ]
  },
  {
   "cell_type": "markdown",
   "id": "0d24056f",
   "metadata": {},
   "source": [
    "* Сразу ранжируем гистрограмму через процентили"
   ]
  },
  {
   "cell_type": "code",
   "execution_count": 48,
   "id": "635c1b9f",
   "metadata": {
    "scrolled": true
   },
   "outputs": [
    {
     "data": {
      "image/png": "[encoded data removed]",
      "text/plain": [
       "<Figure size 432x288 with 1 Axes>"
      ]
     },
     "metadata": {
      "needs_background": "light"
     },
     "output_type": "display_data"
    }
   ],
   "source": [
    "data['living_area'].hist(range=(data['living_area'].quantile(0.01),data['living_area'].quantile(0.99)));"
   ]
  },
  {
   "cell_type": "code",
   "execution_count": 49,
   "id": "c440131b",
   "metadata": {},
   "outputs": [
    {
     "name": "stdout",
     "output_type": "stream",
     "text": [
      "Медиана и среднее по 99% данных:\n",
      "медиана жилой площади 30.0 и среднее жилой площади 30.0\n",
      "Медиана и среднее по всем данным:\n",
      "медиана жилой площади 33.23302005179136 и среднее жилой площади 34.624295555008814\n"
     ]
    }
   ],
   "source": [
    "r = data['living_area'].quantile(0.99)\n",
    "living_area_fm = data.query('living_area < @r')['living_area'].median()\n",
    "living_area_m = data['living_area'].median()\n",
    "living_area_fme = data.query('living_area < @r')['living_area'].mean()\n",
    "living_area_me = data['living_area'].mean()\n",
    "print(f'Медиана и среднее по 99% данных:')\n",
    "print(f'медиана жилой площади {living_area_fm} и среднее жилой площади {living_area_m}')\n",
    "print(f'Медиана и среднее по всем данным:')\n",
    "print(f'медиана жилой площади {living_area_fme} и среднее жилой площади {living_area_me}')"
   ]
  },
  {
   "cell_type": "markdown",
   "id": "67bac773",
   "metadata": {},
   "source": [
    "* Средная жилая площадь равна 30 кв.метрам. Есть также очень большие значения, но они тоже судя по всему относятся к элитной недвижимости. 99% квартир имеют жилую площадь меньше 120 кв.метров."
   ]
  },
  {
   "cell_type": "markdown",
   "id": "9bfc355f",
   "metadata": {},
   "source": [
    "### 3.1.3 площадь кухни"
   ]
  },
  {
   "cell_type": "code",
   "execution_count": 50,
   "id": "9909cb1a",
   "metadata": {},
   "outputs": [
    {
     "data": {
      "image/png": "[encoded data removed]",
      "text/plain": [
       "<Figure size 432x288 with 1 Axes>"
      ]
     },
     "metadata": {
      "needs_background": "light"
     },
     "output_type": "display_data"
    }
   ],
   "source": [
    "data['kitchen_area'].hist(range=(data['kitchen_area'].quantile(0.01),data['kitchen_area'].quantile(0.99)));"
   ]
  },
  {
   "cell_type": "code",
   "execution_count": 51,
   "id": "b919304d",
   "metadata": {
    "scrolled": false
   },
   "outputs": [
    {
     "name": "stdout",
     "output_type": "stream",
     "text": [
      "Медиана и среднее по 99% данных:\n",
      "медиана площади кухни 9.0 и среднее площади кухни 9.0\n",
      "Медиана и среднее по всем данным:\n",
      "медиана площади кухни 10.12885271929077 и среднее площади кухни 10.505495379551881\n"
     ]
    }
   ],
   "source": [
    "r = data['kitchen_area'].quantile(0.99)\n",
    "kitchen_area_fm = data.query('kitchen_area < @r')['kitchen_area'].median()\n",
    "kitchen_area_m = data['kitchen_area'].median()\n",
    "kitchen_area_fme = data.query('kitchen_area < @r')['kitchen_area'].mean()\n",
    "kitchen_area_me = data['kitchen_area'].mean()\n",
    "print(f'Медиана и среднее по 99% данных:')\n",
    "print(f'медиана площади кухни {kitchen_area_fm} и среднее площади кухни {kitchen_area_m}')\n",
    "print(f'Медиана и среднее по всем данным:')\n",
    "print(f'медиана площади кухни {kitchen_area_fme} и среднее площади кухни {kitchen_area_me}')"
   ]
  },
  {
   "cell_type": "markdown",
   "id": "aac31342",
   "metadata": {},
   "source": [
    "* Площадь кухни находится в диапазоне от 5 до 35 квадратов. Большая часть сосредоточена в значениях от 5 до 15. Среднее и медиана равны 9 квадратам."
   ]
  },
  {
   "cell_type": "markdown",
   "id": "0d3c40b8",
   "metadata": {},
   "source": [
    "### 3.1.4 цена объекта"
   ]
  },
  {
   "cell_type": "code",
   "execution_count": 52,
   "id": "e884eb0d",
   "metadata": {
    "scrolled": true
   },
   "outputs": [
    {
     "data": {
      "image/png": "[encoded data removed]",
      "text/plain": [
       "<Figure size 432x288 with 1 Axes>"
      ]
     },
     "metadata": {
      "needs_background": "light"
     },
     "output_type": "display_data"
    }
   ],
   "source": [
    "data['last_price'].hist(range=(data['last_price'].quantile(0.02),data['last_price'].quantile(0.98)));"
   ]
  },
  {
   "cell_type": "code",
   "execution_count": 53,
   "id": "c2e82c28",
   "metadata": {},
   "outputs": [
    {
     "name": "stdout",
     "output_type": "stream",
     "text": [
      "98% квартир стоят меньше 25000000.0 рублей \n",
      "\n",
      "Медиана и среднее по 98% данных:\n",
      "медиана стоимости 4600000.0 и среднее стоимости 4650000.0\n",
      "Медиана и среднее по всем данным:\n",
      "медиана стоимости 5579942.527148152 и среднее стоимости 6541548.771551542\n"
     ]
    }
   ],
   "source": [
    "r = data['last_price'].quantile(0.98)\n",
    "last_price_fm = data.query('last_price < @r')['last_price'].median()\n",
    "last_price_m = data['last_price'].median()\n",
    "last_price_fme = data.query('last_price < @r')['last_price'].mean()\n",
    "last_price_me = data['last_price'].mean()\n",
    "print(f'98% квартир стоят меньше {r} рублей \\n')\n",
    "\n",
    "print(f'Медиана и среднее по 98% данных:')\n",
    "print(f'медиана стоимости {last_price_fm} и среднее стоимости {last_price_m}')\n",
    "print(f'Медиана и среднее по всем данным:')\n",
    "print(f'медиана стоимости {last_price_fme} и среднее стоимости {last_price_me}')"
   ]
  },
  {
   "cell_type": "markdown",
   "id": "87bf7e5f",
   "metadata": {},
   "source": [
    "* 98% квартир стоят меньше 25000000 рублей. Медиана и среднее равны 4600000 и 4650000 рублей соответственно. ТАкже есть очень выбросы, опять же либо это коммерция либо элитное жилье. "
   ]
  },
  {
   "cell_type": "markdown",
   "id": "19dbee50",
   "metadata": {},
   "source": [
    "### 3.1.5 количество комнат"
   ]
  },
  {
   "cell_type": "code",
   "execution_count": 54,
   "id": "6018a487",
   "metadata": {
    "scrolled": false
   },
   "outputs": [
    {
     "data": {
      "image/png": "[encoded data removed]",
      "text/plain": [
       "<Figure size 432x288 with 1 Axes>"
      ]
     },
     "metadata": {
      "needs_background": "light"
     },
     "output_type": "display_data"
    }
   ],
   "source": [
    "data['rooms'].hist(range=(data['rooms'].quantile(0.01),data['rooms'].quantile(0.99)));"
   ]
  },
  {
   "cell_type": "code",
   "execution_count": 55,
   "id": "db0db4f6",
   "metadata": {},
   "outputs": [
    {
     "name": "stdout",
     "output_type": "stream",
     "text": [
      "Медиана и среднее по 99% данных:\n",
      "медиана количества комнат 2.0 и среднее количества комнат 1.9884804556044524\n"
     ]
    }
   ],
   "source": [
    "r = data['rooms'].quantile(0.99)\n",
    "fmean = data.query('rooms < @r')['rooms'].median()\n",
    "fmed = data.query('rooms < @r')['rooms'].mean()\n",
    "\n",
    "print(f'Медиана и среднее по 99% данных:')\n",
    "print(f'медиана количества комнат {fmean} и среднее количества комнат {fmed}')\n"
   ]
  },
  {
   "cell_type": "markdown",
   "id": "791580f7",
   "metadata": {},
   "source": [
    "* Количество комнат в основном от одной до пяти. Большая часть квартир с 1 и 2 комнатами, примерно по 8000 объявлений. Среднее и медиана примерно равны двум комнатам"
   ]
  },
  {
   "cell_type": "markdown",
   "id": "40e667a7",
   "metadata": {},
   "source": [
    "### 3.1.6 высота потолков"
   ]
  },
  {
   "cell_type": "code",
   "execution_count": 56,
   "id": "ac8213e4",
   "metadata": {
    "scrolled": false
   },
   "outputs": [
    {
     "data": {
      "image/png": "[encoded data removed]",
      "text/plain": [
       "<Figure size 432x288 with 1 Axes>"
      ]
     },
     "metadata": {
      "needs_background": "light"
     },
     "output_type": "display_data"
    }
   ],
   "source": [
    "data['ceiling_height'].hist(bins=10, range=(2.4,5));"
   ]
  },
  {
   "cell_type": "code",
   "execution_count": 57,
   "id": "9f4aa1ef",
   "metadata": {
    "scrolled": true
   },
   "outputs": [
    {
     "name": "stdout",
     "output_type": "stream",
     "text": [
      "Медиана и среднее по 99% данных:\n",
      "медиана 2.65 и среднее 2.7370539161610585\n"
     ]
    }
   ],
   "source": [
    "r = data['ceiling_height'].quantile(0.99)\n",
    "fmean = data.query('ceiling_height < @r')['ceiling_height'].median()\n",
    "fmed = data.query('ceiling_height < @r')['ceiling_height'].mean()\n",
    "\n",
    "print(f'Медиана и среднее по 99% данных:')\n",
    "print(f'медиана {fmean} и среднее {fmed}')"
   ]
  },
  {
   "cell_type": "markdown",
   "id": "28d3d05d",
   "metadata": {},
   "source": [
    "* Высота потолков колеблется от 2 до 4.5 метров. В этом столбце были пропуски и странные значения (либо очень маленькие либо наоборот слишком большие). Но в целом видим, что потолки в квартирах бывают обычно от 2.5 до 3.2 метров. Медиана и среднее равны 2.65 и 2.74 м соответственно"
   ]
  },
  {
   "cell_type": "markdown",
   "id": "f5d5de0c",
   "metadata": {},
   "source": [
    "### 3.1.7 этаж квартиры"
   ]
  },
  {
   "cell_type": "code",
   "execution_count": 58,
   "id": "f8e70948",
   "metadata": {
    "scrolled": true
   },
   "outputs": [
    {
     "data": {
      "image/png": "[encoded data removed]",
      "text/plain": [
       "<Figure size 432x288 with 1 Axes>"
      ]
     },
     "metadata": {
      "needs_background": "light"
     },
     "output_type": "display_data"
    }
   ],
   "source": [
    "data['floor'].hist();"
   ]
  },
  {
   "cell_type": "code",
   "execution_count": 59,
   "id": "a44bbea8",
   "metadata": {},
   "outputs": [
    {
     "name": "stdout",
     "output_type": "stream",
     "text": [
      "Медиана и среднее по 99% данных:\n",
      "медиана 4.0 и среднее 5.697398720682303\n"
     ]
    }
   ],
   "source": [
    "r = data['floor'].quantile(0.99)\n",
    "fmean = data.query('floor < @r')['floor'].median()\n",
    "fmed = data.query('floor < @r')['floor'].mean()\n",
    "\n",
    "print(f'Медиана и среднее по 99% данных:')\n",
    "print(f'медиана {fmean} и среднее {fmed}')"
   ]
  },
  {
   "cell_type": "markdown",
   "id": "4d03e4ec",
   "metadata": {},
   "source": [
    "* Больше всего продается квартир с 1 по 7 этажи. Аномалий по столбцу не наблюдалось. Есть и квартиры в высотках 25, 30 этажей. Средний этаж - 5, а медианный - 4."
   ]
  },
  {
   "cell_type": "markdown",
   "id": "5c68d1b8",
   "metadata": {},
   "source": [
    "### 3.1.8 тип этажа квартиры"
   ]
  },
  {
   "cell_type": "code",
   "execution_count": 60,
   "id": "4d51038d",
   "metadata": {
    "scrolled": true
   },
   "outputs": [
    {
     "data": {
      "image/png": "[encoded data removed]",
      "text/plain": [
       "<Figure size 432x288 with 1 Axes>"
      ]
     },
     "metadata": {
      "needs_background": "light"
     },
     "output_type": "display_data"
    }
   ],
   "source": [
    "data['type_of_floor'].hist(color='r');"
   ]
  },
  {
   "cell_type": "markdown",
   "id": "2b150a41",
   "metadata": {},
   "source": [
    "* На первом и последнем этажах квартир меньше, чем на любом другом."
   ]
  },
  {
   "cell_type": "markdown",
   "id": "1ecb17c7",
   "metadata": {},
   "source": [
    "### 3.1.9 общее количество этажей в доме"
   ]
  },
  {
   "cell_type": "code",
   "execution_count": 61,
   "id": "c0fd5728",
   "metadata": {
    "scrolled": false
   },
   "outputs": [
    {
     "data": {
      "image/png": "[encoded data removed]",
      "text/plain": [
       "<Figure size 432x288 with 1 Axes>"
      ]
     },
     "metadata": {
      "needs_background": "light"
     },
     "output_type": "display_data"
    }
   ],
   "source": [
    "data['floors_total'].hist(range=(1,40));"
   ]
  },
  {
   "cell_type": "code",
   "execution_count": 62,
   "id": "ac82ff95",
   "metadata": {},
   "outputs": [
    {
     "name": "stdout",
     "output_type": "stream",
     "text": [
      "Медиана и среднее по 99% данных:\n",
      "медиана 9.0 и среднее 10.507886300491558\n"
     ]
    }
   ],
   "source": [
    "r = data['floors_total'].quantile(0.99)\n",
    "fmean = data.query('floors_total < @r')['floors_total'].median()\n",
    "fmed = data.query('floors_total < @r')['floors_total'].mean()\n",
    "\n",
    "print(f'Медиана и среднее по 99% данных:')\n",
    "print(f'медиана {fmean} и среднее {fmed}')"
   ]
  },
  {
   "cell_type": "markdown",
   "id": "41167595",
   "metadata": {},
   "source": [
    "* Количество этажей в доме находится между 1 и 30 этажами. Есть значение в 35 этажей, но полагаю, такой дом вполне может существовать. Основная масса квартир сосредоточена между 5-ти и 10-ти этажными домами. Это подтверждает и среднее - примерно 10 этажей."
   ]
  },
  {
   "cell_type": "markdown",
   "id": "eb9916a1",
   "metadata": {},
   "source": [
    "### 3.1.10 расстояние до центра города в метрах"
   ]
  },
  {
   "cell_type": "code",
   "execution_count": 63,
   "id": "6c6c1b81",
   "metadata": {
    "scrolled": true
   },
   "outputs": [
    {
     "data": {
      "image/png": "[encoded data removed]",
      "text/plain": [
       "<Figure size 432x288 with 1 Axes>"
      ]
     },
     "metadata": {
      "needs_background": "light"
     },
     "output_type": "display_data"
    }
   ],
   "source": [
    "data['cityCenters_nearest'].hist();"
   ]
  },
  {
   "cell_type": "code",
   "execution_count": 64,
   "id": "90a8f12c",
   "metadata": {},
   "outputs": [
    {
     "name": "stdout",
     "output_type": "stream",
     "text": [
      "Медиана и среднее по 99% данных:\n",
      "медиана 13046.0 и среднее 13805.10823424825\n"
     ]
    }
   ],
   "source": [
    "r = data['cityCenters_nearest'].quantile(0.99)\n",
    "fmean = data.query('cityCenters_nearest < @r')['cityCenters_nearest'].median()\n",
    "fmed = data.query('cityCenters_nearest < @r')['cityCenters_nearest'].mean()\n",
    "\n",
    "print(f'Медиана и среднее по 99% данных:')\n",
    "print(f'медиана {fmean} и среднее {fmed}')"
   ]
  },
  {
   "cell_type": "markdown",
   "id": "ee7245a1",
   "metadata": {},
   "source": [
    "* Среднее расстояние до центра города - 13.8 км. Есть аномальные значения в 60 и более км, но тут неясно, может это отдаленный пригород Санкт-Петербурга и центром города считается центр Петербурга."
   ]
  },
  {
   "cell_type": "markdown",
   "id": "dce19173",
   "metadata": {},
   "source": [
    "### 3.1.11 расстояние до ближайшего аэропорта"
   ]
  },
  {
   "cell_type": "code",
   "execution_count": 65,
   "id": "96a0428f",
   "metadata": {
    "scrolled": true
   },
   "outputs": [
    {
     "data": {
      "image/png": "[encoded data removed]",
      "text/plain": [
       "<Figure size 432x288 with 1 Axes>"
      ]
     },
     "metadata": {
      "needs_background": "light"
     },
     "output_type": "display_data"
    }
   ],
   "source": [
    "data['airports_nearest'].hist();"
   ]
  },
  {
   "cell_type": "code",
   "execution_count": 66,
   "id": "60a526d0",
   "metadata": {},
   "outputs": [
    {
     "name": "stdout",
     "output_type": "stream",
     "text": [
      "Медиана и среднее по 99% данных:\n",
      "медиана 26508.0 и среднее 28409.844228094575\n"
     ]
    }
   ],
   "source": [
    "r = data['airports_nearest'].quantile(0.99)\n",
    "fmean = data.query('airports_nearest < @r')['airports_nearest'].median()\n",
    "fmed = data.query('airports_nearest < @r')['airports_nearest'].mean()\n",
    "\n",
    "print(f'Медиана и среднее по 99% данных:')\n",
    "print(f'медиана {fmean} и среднее {fmed}')"
   ]
  },
  {
   "cell_type": "markdown",
   "id": "fbded8de",
   "metadata": {},
   "source": [
    "* До аэропорта расстояние в основном от 10 до 40 км. Среднее значение - 28.4 км."
   ]
  },
  {
   "cell_type": "markdown",
   "id": "94187333",
   "metadata": {},
   "source": [
    "### 3.1.12 расстояние до ближайшего парка"
   ]
  },
  {
   "cell_type": "code",
   "execution_count": 67,
   "id": "c55be8e0",
   "metadata": {
    "scrolled": true
   },
   "outputs": [
    {
     "data": {
      "image/png": "[encoded data removed]",
      "text/plain": [
       "<Figure size 432x288 with 1 Axes>"
      ]
     },
     "metadata": {
      "needs_background": "light"
     },
     "output_type": "display_data"
    }
   ],
   "source": [
    "data['parks_nearest'].hist();"
   ]
  },
  {
   "cell_type": "code",
   "execution_count": 68,
   "id": "2223bb7a",
   "metadata": {
    "scrolled": true
   },
   "outputs": [
    {
     "name": "stdout",
     "output_type": "stream",
     "text": [
      "Медиана и среднее по 99% данных:\n",
      "медиана 448.0 и среднее 465.709661229611\n"
     ]
    }
   ],
   "source": [
    "r = data['parks_nearest'].quantile(0.99)\n",
    "fmean = data.query('parks_nearest < @r')['parks_nearest'].median()\n",
    "fmed = data.query('parks_nearest < @r')['parks_nearest'].mean()\n",
    "\n",
    "print(f'Медиана и среднее по 99% данных:')\n",
    "print(f'медиана {fmean} и среднее {fmed}')"
   ]
  },
  {
   "cell_type": "markdown",
   "id": "014a69c6",
   "metadata": {},
   "source": [
    "* Среднее расстояние до парка - 465 метров. Много квартир находятся на расстоянии всего до 1 км от парка. Есть совсем немного объявлений, где парк расположен в 3 км. "
   ]
  },
  {
   "cell_type": "markdown",
   "id": "2460e026",
   "metadata": {},
   "source": [
    "### 3.1.13 день и месяц публикации объявления"
   ]
  },
  {
   "cell_type": "code",
   "execution_count": 69,
   "id": "0f9a9126",
   "metadata": {
    "scrolled": false
   },
   "outputs": [
    {
     "data": {
      "image/png": "[encoded data removed]",
      "text/plain": [
       "<Figure size 432x288 with 1 Axes>"
      ]
     },
     "metadata": {
      "needs_background": "light"
     },
     "output_type": "display_data"
    }
   ],
   "source": [
    "data['weekday'].hist(bins=7);"
   ]
  },
  {
   "cell_type": "code",
   "execution_count": 70,
   "id": "e8dc400f",
   "metadata": {
    "scrolled": true
   },
   "outputs": [
    {
     "data": {
      "image/png": "[encoded data removed]",
      "text/plain": [
       "<Figure size 432x288 with 1 Axes>"
      ]
     },
     "metadata": {
      "needs_background": "light"
     },
     "output_type": "display_data"
    }
   ],
   "source": [
    "data['month'].hist();"
   ]
  },
  {
   "cell_type": "markdown",
   "id": "b8e8e99b",
   "metadata": {},
   "source": [
    "* Больше всего публикаций делают во вторник и четверг и в целом по будням выкладывают объявления активнее, чем в выходные. Самые активные месяцы - январь и декабрь. А вот в мае наборот меньше всего объявлений (хорошо отдыхают люди на майские))."
   ]
  },
  {
   "cell_type": "markdown",
   "id": "6658df4f",
   "metadata": {},
   "source": [
    "* **Общий вывод**\n",
    "\n",
    "Средняя квартира,выставляемая в объявлении: площадью 52 кв.м., с жилой площадью 30 квадратов и площадью кухни 9 квадратов, стоимостью 4.65 млн руб, двухкомнатная, с высотой потолков 2.7 метра на 5 этаже в 10-этажном доме, расстояние до центра города 13.8 км, а до аэропорта 28 км. Также вероятнее всего будет рядом парк в 0.5 км. И также весьма вероятно, что объявление выставлено в будний день в декабре-январе\n"
   ]
  },
  {
   "cell_type": "markdown",
   "id": "043dd726",
   "metadata": {},
   "source": [
    "## 3.2 Длительность продажи квартир"
   ]
  },
  {
   "cell_type": "code",
   "execution_count": 71,
   "id": "8f94e1a9",
   "metadata": {
    "scrolled": true
   },
   "outputs": [
    {
     "data": {
      "image/png": "[encoded data removed]",
      "text/plain": [
       "<Figure size 432x288 with 1 Axes>"
      ]
     },
     "metadata": {
      "needs_background": "light"
     },
     "output_type": "display_data"
    }
   ],
   "source": [
    "data['days_exposition'].hist();"
   ]
  },
  {
   "cell_type": "code",
   "execution_count": 72,
   "id": "3f3a9021",
   "metadata": {},
   "outputs": [
    {
     "data": {
      "image/png": "[encoded data removed]",
      "text/plain": [
       "<Figure size 1080x864 with 1 Axes>"
      ]
     },
     "metadata": {
      "needs_background": "light"
     },
     "output_type": "display_data"
    }
   ],
   "source": [
    "data.boxplot(column='days_exposition', figsize=(15,12));"
   ]
  },
  {
   "cell_type": "code",
   "execution_count": 73,
   "id": "2d4024aa",
   "metadata": {
    "scrolled": true
   },
   "outputs": [
    {
     "name": "stdout",
     "output_type": "stream",
     "text": [
      "Длительность более 512.5 дней считается выбросом \n",
      "\n",
      "Медиана и среднее без выбросов:\n",
      "медиана 85.0 и среднее 128.75388614780624\n",
      "Медиана и среднее по всем данным:\n",
      "медиана 95.0 и среднее 180.88863436982163\n"
     ]
    }
   ],
   "source": [
    "# межквартильный размах\n",
    "q = (data['days_exposition'].quantile(0.75)-data['days_exposition'].quantile(0.25))* 1.5\n",
    "\n",
    "# правая граница усов, за ней уже выбросы\n",
    "r = q + data['days_exposition'].quantile(0.75)\n",
    "\n",
    "\n",
    "days_mean = data['days_exposition'].mean()\n",
    "days_med = data['days_exposition'].median()\n",
    "days_meanf = data.query('days_exposition < @r')['days_exposition'].mean()\n",
    "days_medf = data.query('days_exposition < @r')['days_exposition'].median()\n",
    "print(f'Длительность более {r} дней считается выбросом \\n')\n",
    "\n",
    "print(f'Медиана и среднее без выбросов:')\n",
    "print(f'медиана {days_medf} и среднее {days_meanf}')\n",
    "print(f'Медиана и среднее по всем данным:')\n",
    "print(f'медиана {days_med} и среднее {days_mean}')"
   ]
  },
  {
   "cell_type": "code",
   "execution_count": 74,
   "id": "b0de1c1b",
   "metadata": {
    "scrolled": true
   },
   "outputs": [
    {
     "data": {
      "text/plain": [
       "count    20518.000000\n",
       "mean       180.888634\n",
       "std        219.727988\n",
       "min          1.000000\n",
       "25%         45.000000\n",
       "50%         95.000000\n",
       "75%        232.000000\n",
       "max       1580.000000\n",
       "Name: days_exposition, dtype: float64"
      ]
     },
     "execution_count": 74,
     "metadata": {},
     "output_type": "execute_result"
    }
   ],
   "source": [
    "data['days_exposition'].describe()"
   ]
  },
  {
   "cell_type": "code",
   "execution_count": 75,
   "id": "388da22d",
   "metadata": {},
   "outputs": [
    {
     "data": {
      "image/png": "[encoded data removed]",
      "text/plain": [
       "<Figure size 432x288 with 1 Axes>"
      ]
     },
     "metadata": {
      "needs_background": "light"
     },
     "output_type": "display_data"
    }
   ],
   "source": [
    "data['days_exposition'].hist(range=(0,10));"
   ]
  },
  {
   "cell_type": "markdown",
   "id": "9d34ce24",
   "metadata": {},
   "source": [
    "* **Вывод:**\n",
    "\n",
    "По графику ящика видно, что значения больше 512 дней считаются выбросами. Если выбросы убрать, то в среднем квартиру продают за 128 дней, а медиана равна 85. По всем данным среднее и медиана равны 180 и 95 дней соответственно. Вообще значения больше 1000 дней можно считать очень долгими, это больше трех лет. Также судя по гистограмме есть время продажи менее 10 дней. Вряд ли можно успеть продать квартиру быстрее 10-14 дней, учитывая необходимость подготовки и проверки документов. С другой стороны, таких объявлений достаточно много, десятидневных продаж больше 250. ВОзможно в данные могли закрасться ошибки"
   ]
  },
  {
   "cell_type": "markdown",
   "id": "81cd85ef",
   "metadata": {},
   "source": [
    "## 3.3 Влияние разных параметров на цену квартиры"
   ]
  },
  {
   "cell_type": "markdown",
   "id": "9e017d28",
   "metadata": {},
   "source": [
    "### 3.3.1 Влияние общей площади на цену"
   ]
  },
  {
   "cell_type": "code",
   "execution_count": 76,
   "id": "0581dff9",
   "metadata": {
    "scrolled": false
   },
   "outputs": [
    {
     "data": {
      "image/png": "[encoded data removed]",
      "text/plain": [
       "<Figure size 720x360 with 1 Axes>"
      ]
     },
     "metadata": {
      "needs_background": "light"
     },
     "output_type": "display_data"
    }
   ],
   "source": [
    "# сразу посчитаем процентили, чтобы по ним отсечь лишнее, и построим диаграмму рассеяния, \n",
    "# чтобы увидеть связь между двумя показателями\n",
    "r = data['total_area'].quantile(0.99)\n",
    "p = data['last_price'].quantile(0.98)\n",
    "data.query('(last_price < @p) & (total_area < @r)'). \\\n",
    "plot(\n",
    "    x='last_price', \n",
    "    y='total_area', \n",
    "    kind='scatter', \n",
    "    figsize=(10, 5), \n",
    "    grid=True, \n",
    "    alpha=0.05,\n",
    "    c='b',\n",
    "    title='Зависимость цены от общей площади'\n",
    ");"
   ]
  },
  {
   "cell_type": "code",
   "execution_count": 77,
   "id": "0bf811d0",
   "metadata": {},
   "outputs": [
    {
     "data": {
      "text/plain": [
       "0.6536750579657242"
      ]
     },
     "execution_count": 77,
     "metadata": {},
     "output_type": "execute_result"
    }
   ],
   "source": [
    "data['last_price'].corr(data['total_area'])"
   ]
  },
  {
   "cell_type": "markdown",
   "id": "7e7dd17e",
   "metadata": {},
   "source": [
    "* На графике мы видим, что связь между ценой и площадью определенно есть. КОэффициент корреляции равен 0,65, что также показывает достаточно сильную прямую зависимость."
   ]
  },
  {
   "cell_type": "markdown",
   "id": "49e117dc",
   "metadata": {},
   "source": [
    "### 3.3.2 Влияние  жилой площади на цену"
   ]
  },
  {
   "cell_type": "code",
   "execution_count": 78,
   "id": "7fa5d553",
   "metadata": {
    "scrolled": false
   },
   "outputs": [
    {
     "data": {
      "image/png": "[encoded data removed]",
      "text/plain": [
       "<Figure size 720x360 with 1 Axes>"
      ]
     },
     "metadata": {
      "needs_background": "light"
     },
     "output_type": "display_data"
    }
   ],
   "source": [
    "r = data['living_area'].quantile(0.99)\n",
    "p = data['last_price'].quantile(0.98)\n",
    "data.query('(last_price < @p) & (living_area < @r)'). \\\n",
    "plot(\n",
    "    x='last_price', \n",
    "    y='living_area', \n",
    "    kind='scatter', \n",
    "    figsize=(10, 5), \n",
    "    grid=True, \n",
    "    alpha=0.05,\n",
    "    c='b',\n",
    "    title='Зависимость цены от жилой площади'\n",
    ");"
   ]
  },
  {
   "cell_type": "code",
   "execution_count": 79,
   "id": "cc70b38c",
   "metadata": {},
   "outputs": [
    {
     "data": {
      "text/plain": [
       "0.5858907700395659"
      ]
     },
     "execution_count": 79,
     "metadata": {},
     "output_type": "execute_result"
    }
   ],
   "source": [
    "data['last_price'].corr(data['living_area'])"
   ]
  },
  {
   "cell_type": "markdown",
   "id": "0dd38160",
   "metadata": {},
   "source": [
    "* Здесь зависимость уже слабее, это видно и на графике и по коэффициенту корреляции."
   ]
  },
  {
   "cell_type": "markdown",
   "id": "9eaa9fa6",
   "metadata": {},
   "source": [
    "### 3.3.3 Влияние площади кухни на цену"
   ]
  },
  {
   "cell_type": "code",
   "execution_count": 80,
   "id": "a1b55717",
   "metadata": {},
   "outputs": [
    {
     "data": {
      "image/png": "[encoded data removed]",
      "text/plain": [
       "<Figure size 720x360 with 1 Axes>"
      ]
     },
     "metadata": {
      "needs_background": "light"
     },
     "output_type": "display_data"
    }
   ],
   "source": [
    "r = data['kitchen_area'].quantile(0.99)\n",
    "p = data['last_price'].quantile(0.98)\n",
    "data.query('(last_price < @p) & (kitchen_area < @r)'). \\\n",
    "plot(\n",
    "    x='last_price', \n",
    "    y='kitchen_area', \n",
    "    kind='scatter', \n",
    "    figsize=(10, 5), \n",
    "    grid=True, \n",
    "    alpha=0.05,\n",
    "    c='b',\n",
    "    title='Зависимость цены от площади кухни'\n",
    ");"
   ]
  },
  {
   "cell_type": "code",
   "execution_count": 81,
   "id": "5bb131a8",
   "metadata": {},
   "outputs": [
    {
     "data": {
      "text/plain": [
       "0.5141194369951924"
      ]
     },
     "execution_count": 81,
     "metadata": {},
     "output_type": "execute_result"
    }
   ],
   "source": [
    "data['last_price'].corr(data['kitchen_area'])"
   ]
  },
  {
   "cell_type": "markdown",
   "id": "4f6380c9",
   "metadata": {},
   "source": [
    "### 3.3.4 Влияние количества комнат на цену"
   ]
  },
  {
   "cell_type": "code",
   "execution_count": 82,
   "id": "19995c54",
   "metadata": {},
   "outputs": [
    {
     "data": {
      "image/png": "[encoded data removed]",
      "text/plain": [
       "<Figure size 720x360 with 1 Axes>"
      ]
     },
     "metadata": {
      "needs_background": "light"
     },
     "output_type": "display_data"
    }
   ],
   "source": [
    "p = data['last_price'].quantile(0.98)\n",
    "data.query('(last_price < @p) & (rooms < 8)'). \\\n",
    "plot(\n",
    "    x='last_price', \n",
    "    y='rooms', \n",
    "    kind='scatter', \n",
    "    figsize=(10, 5), \n",
    "    grid=True, \n",
    "    alpha=0.05,\n",
    "    c='b',\n",
    "    title='Зависимость цены от количества комнат'\n",
    ");"
   ]
  },
  {
   "cell_type": "code",
   "execution_count": 83,
   "id": "36f4a458",
   "metadata": {},
   "outputs": [
    {
     "data": {
      "text/plain": [
       "0.3633428499648948"
      ]
     },
     "execution_count": 83,
     "metadata": {},
     "output_type": "execute_result"
    }
   ],
   "source": [
    "data['last_price'].corr(data['rooms'])"
   ]
  },
  {
   "cell_type": "code",
   "execution_count": 84,
   "id": "5d867f4d",
   "metadata": {},
   "outputs": [
    {
     "data": {
      "text/plain": [
       "0.5195802541078898"
      ]
     },
     "execution_count": 84,
     "metadata": {},
     "output_type": "execute_result"
    }
   ],
   "source": [
    "data[data['last_price'] < p]['last_price'].corr(data['rooms'])"
   ]
  },
  {
   "cell_type": "markdown",
   "id": "dcc3d4d2",
   "metadata": {},
   "source": [
    "* График получился немного другой, но в целом также видно, что конечно и от количества комнат цена зависит. Однокомнатных квартир дешевле 10000000 совсем мало, зато трехкомнатных достаточно много. Есть также интересная зависимость коэффициента корреляции от стоимости - если брать все данные, то зависимость слабее, чем у жилой и общей площади. А если отсечем 2% самых дорогих квартир, то получим уже существенный коэффициент."
   ]
  },
  {
   "cell_type": "markdown",
   "id": "95ad7951",
   "metadata": {},
   "source": [
    "### 3.3.5 Влияние этажа, на котором расположена квартира (первый, последний, другой)"
   ]
  },
  {
   "cell_type": "code",
   "execution_count": 85,
   "id": "0513332e",
   "metadata": {
    "scrolled": false
   },
   "outputs": [
    {
     "data": {
      "image/png": "[encoded data removed]",
      "text/plain": [
       "<Figure size 1080x504 with 1 Axes>"
      ]
     },
     "metadata": {
      "needs_background": "light"
     },
     "output_type": "display_data"
    }
   ],
   "source": [
    "data.query('(last_price < @p) & (type_of_floor != \"неизвестно\")'). \\\n",
    "plot(\n",
    "    x='type_of_floor', \n",
    "    y='last_price',\n",
    "    kind='scatter', \n",
    "    figsize=(15, 7), \n",
    "    grid=True, \n",
    "    alpha=0.05,\n",
    "    c='b',\n",
    "    title='Зависимость цены от этажа'\n",
    ");"
   ]
  },
  {
   "cell_type": "code",
   "execution_count": 86,
   "id": "0d4d5031",
   "metadata": {},
   "outputs": [
    {
     "data": {
      "text/html": [
       "<div>\n",
       "<style scoped>\n",
       "    .dataframe tbody tr th:only-of-type {\n",
       "        vertical-align: middle;\n",
       "    }\n",
       "\n",
       "    .dataframe tbody tr th {\n",
       "        vertical-align: top;\n",
       "    }\n",
       "\n",
       "    .dataframe thead tr th {\n",
       "        text-align: left;\n",
       "    }\n",
       "\n",
       "    .dataframe thead tr:last-of-type th {\n",
       "        text-align: right;\n",
       "    }\n",
       "</style>\n",
       "<table border=\"1\" class=\"dataframe\">\n",
       "  <thead>\n",
       "    <tr>\n",
       "      <th></th>\n",
       "      <th>median</th>\n",
       "      <th>count</th>\n",
       "    </tr>\n",
       "    <tr>\n",
       "      <th></th>\n",
       "      <th>last_price</th>\n",
       "      <th>last_price</th>\n",
       "    </tr>\n",
       "    <tr>\n",
       "      <th>type_of_floor</th>\n",
       "      <th></th>\n",
       "      <th></th>\n",
       "    </tr>\n",
       "  </thead>\n",
       "  <tbody>\n",
       "    <tr>\n",
       "      <th>другой</th>\n",
       "      <td>4790000.0</td>\n",
       "      <td>17001</td>\n",
       "    </tr>\n",
       "    <tr>\n",
       "      <th>первый</th>\n",
       "      <td>3900000.0</td>\n",
       "      <td>2893</td>\n",
       "    </tr>\n",
       "    <tr>\n",
       "      <th>последний</th>\n",
       "      <td>4241500.0</td>\n",
       "      <td>3230</td>\n",
       "    </tr>\n",
       "  </tbody>\n",
       "</table>\n",
       "</div>"
      ],
      "text/plain": [
       "                  median      count\n",
       "              last_price last_price\n",
       "type_of_floor                      \n",
       "другой         4790000.0      17001\n",
       "первый         3900000.0       2893\n",
       "последний      4241500.0       3230"
      ]
     },
     "execution_count": 86,
     "metadata": {},
     "output_type": "execute_result"
    }
   ],
   "source": [
    "# выведем сводную табличку, сгруппировав медиану цены по типап этажей\n",
    "\n",
    "data.query('(last_price < @p) & (type_of_floor != \"неизвестно\")'). \\\n",
    "pivot_table(index='type_of_floor', values='last_price', aggfunc=['median', 'count'])"
   ]
  },
  {
   "cell_type": "code",
   "execution_count": 87,
   "id": "5f14fca5",
   "metadata": {
    "scrolled": true
   },
   "outputs": [
    {
     "data": {
      "text/html": [
       "<div>\n",
       "<style scoped>\n",
       "    .dataframe tbody tr th:only-of-type {\n",
       "        vertical-align: middle;\n",
       "    }\n",
       "\n",
       "    .dataframe tbody tr th {\n",
       "        vertical-align: top;\n",
       "    }\n",
       "\n",
       "    .dataframe thead th {\n",
       "        text-align: right;\n",
       "    }\n",
       "</style>\n",
       "<table border=\"1\" class=\"dataframe\">\n",
       "  <thead>\n",
       "    <tr style=\"text-align: right;\">\n",
       "      <th></th>\n",
       "      <th>median</th>\n",
       "      <th>count</th>\n",
       "    </tr>\n",
       "    <tr>\n",
       "      <th>floor</th>\n",
       "      <th></th>\n",
       "      <th></th>\n",
       "    </tr>\n",
       "  </thead>\n",
       "  <tbody>\n",
       "    <tr>\n",
       "      <th>30</th>\n",
       "      <td>10150000.0</td>\n",
       "      <td>1</td>\n",
       "    </tr>\n",
       "    <tr>\n",
       "      <th>33</th>\n",
       "      <td>9900000.0</td>\n",
       "      <td>1</td>\n",
       "    </tr>\n",
       "    <tr>\n",
       "      <th>32</th>\n",
       "      <td>9900000.0</td>\n",
       "      <td>1</td>\n",
       "    </tr>\n",
       "    <tr>\n",
       "      <th>29</th>\n",
       "      <td>9200000.0</td>\n",
       "      <td>1</td>\n",
       "    </tr>\n",
       "    <tr>\n",
       "      <th>28</th>\n",
       "      <td>5990000.0</td>\n",
       "      <td>1</td>\n",
       "    </tr>\n",
       "    <tr>\n",
       "      <th>31</th>\n",
       "      <td>5700000.0</td>\n",
       "      <td>1</td>\n",
       "    </tr>\n",
       "    <tr>\n",
       "      <th>22</th>\n",
       "      <td>5350000.0</td>\n",
       "      <td>113</td>\n",
       "    </tr>\n",
       "    <tr>\n",
       "      <th>18</th>\n",
       "      <td>5345000.0</td>\n",
       "      <td>176</td>\n",
       "    </tr>\n",
       "    <tr>\n",
       "      <th>13</th>\n",
       "      <td>5300000.0</td>\n",
       "      <td>374</td>\n",
       "    </tr>\n",
       "    <tr>\n",
       "      <th>16</th>\n",
       "      <td>5200000.0</td>\n",
       "      <td>312</td>\n",
       "    </tr>\n",
       "    <tr>\n",
       "      <th>21</th>\n",
       "      <td>5200000.0</td>\n",
       "      <td>123</td>\n",
       "    </tr>\n",
       "    <tr>\n",
       "      <th>23</th>\n",
       "      <td>5185000.0</td>\n",
       "      <td>100</td>\n",
       "    </tr>\n",
       "    <tr>\n",
       "      <th>24</th>\n",
       "      <td>5150000.0</td>\n",
       "      <td>62</td>\n",
       "    </tr>\n",
       "    <tr>\n",
       "      <th>11</th>\n",
       "      <td>5100000.0</td>\n",
       "      <td>515</td>\n",
       "    </tr>\n",
       "    <tr>\n",
       "      <th>12</th>\n",
       "      <td>5100000.0</td>\n",
       "      <td>519</td>\n",
       "    </tr>\n",
       "    <tr>\n",
       "      <th>14</th>\n",
       "      <td>5000000.0</td>\n",
       "      <td>332</td>\n",
       "    </tr>\n",
       "    <tr>\n",
       "      <th>10</th>\n",
       "      <td>4999000.0</td>\n",
       "      <td>675</td>\n",
       "    </tr>\n",
       "    <tr>\n",
       "      <th>15</th>\n",
       "      <td>4995000.0</td>\n",
       "      <td>336</td>\n",
       "    </tr>\n",
       "    <tr>\n",
       "      <th>6</th>\n",
       "      <td>4990000.0</td>\n",
       "      <td>1261</td>\n",
       "    </tr>\n",
       "    <tr>\n",
       "      <th>20</th>\n",
       "      <td>4950000.0</td>\n",
       "      <td>110</td>\n",
       "    </tr>\n",
       "    <tr>\n",
       "      <th>19</th>\n",
       "      <td>4900000.0</td>\n",
       "      <td>139</td>\n",
       "    </tr>\n",
       "    <tr>\n",
       "      <th>7</th>\n",
       "      <td>4889500.0</td>\n",
       "      <td>1180</td>\n",
       "    </tr>\n",
       "    <tr>\n",
       "      <th>17</th>\n",
       "      <td>4800000.0</td>\n",
       "      <td>225</td>\n",
       "    </tr>\n",
       "    <tr>\n",
       "      <th>8</th>\n",
       "      <td>4775000.0</td>\n",
       "      <td>1057</td>\n",
       "    </tr>\n",
       "    <tr>\n",
       "      <th>25</th>\n",
       "      <td>4725000.0</td>\n",
       "      <td>44</td>\n",
       "    </tr>\n",
       "    <tr>\n",
       "      <th>9</th>\n",
       "      <td>4650000.0</td>\n",
       "      <td>1038</td>\n",
       "    </tr>\n",
       "    <tr>\n",
       "      <th>4</th>\n",
       "      <td>4600000.0</td>\n",
       "      <td>2726</td>\n",
       "    </tr>\n",
       "    <tr>\n",
       "      <th>3</th>\n",
       "      <td>4500000.0</td>\n",
       "      <td>3001</td>\n",
       "    </tr>\n",
       "    <tr>\n",
       "      <th>27</th>\n",
       "      <td>4494000.0</td>\n",
       "      <td>10</td>\n",
       "    </tr>\n",
       "    <tr>\n",
       "      <th>2</th>\n",
       "      <td>4400000.0</td>\n",
       "      <td>3305</td>\n",
       "    </tr>\n",
       "    <tr>\n",
       "      <th>5</th>\n",
       "      <td>4300000.0</td>\n",
       "      <td>2550</td>\n",
       "    </tr>\n",
       "    <tr>\n",
       "      <th>26</th>\n",
       "      <td>4040000.0</td>\n",
       "      <td>24</td>\n",
       "    </tr>\n",
       "    <tr>\n",
       "      <th>1</th>\n",
       "      <td>3900000.0</td>\n",
       "      <td>2893</td>\n",
       "    </tr>\n",
       "  </tbody>\n",
       "</table>\n",
       "</div>"
      ],
      "text/plain": [
       "           median  count\n",
       "floor                   \n",
       "30     10150000.0      1\n",
       "33      9900000.0      1\n",
       "32      9900000.0      1\n",
       "29      9200000.0      1\n",
       "28      5990000.0      1\n",
       "31      5700000.0      1\n",
       "22      5350000.0    113\n",
       "18      5345000.0    176\n",
       "13      5300000.0    374\n",
       "16      5200000.0    312\n",
       "21      5200000.0    123\n",
       "23      5185000.0    100\n",
       "24      5150000.0     62\n",
       "11      5100000.0    515\n",
       "12      5100000.0    519\n",
       "14      5000000.0    332\n",
       "10      4999000.0    675\n",
       "15      4995000.0    336\n",
       "6       4990000.0   1261\n",
       "20      4950000.0    110\n",
       "19      4900000.0    139\n",
       "7       4889500.0   1180\n",
       "17      4800000.0    225\n",
       "8       4775000.0   1057\n",
       "25      4725000.0     44\n",
       "9       4650000.0   1038\n",
       "4       4600000.0   2726\n",
       "3       4500000.0   3001\n",
       "27      4494000.0     10\n",
       "2       4400000.0   3305\n",
       "5       4300000.0   2550\n",
       "26      4040000.0     24\n",
       "1       3900000.0   2893"
      ]
     },
     "execution_count": 87,
     "metadata": {},
     "output_type": "execute_result"
    }
   ],
   "source": [
    "# теперь посмотрим, как меняется медиана цены в зависимости от каждого этажа\n",
    "# отсечем также 2% самых дорогих квартир\n",
    "data_type_of_floor = data.query('last_price < @p')\n",
    "\n",
    "data_type_of_floor = data_type_of_floor. \\\n",
    "pivot_table(index='floor', values='last_price', aggfunc=['median', 'count'])\n",
    "\n",
    "data_type_of_floor.columns = ['median', 'count']\n",
    "data_type_of_floor.sort_values(by='median', ascending=False)"
   ]
  },
  {
   "cell_type": "code",
   "execution_count": 88,
   "id": "3ea95312",
   "metadata": {
    "scrolled": true
   },
   "outputs": [
    {
     "data": {
      "text/html": [
       "<div>\n",
       "<style scoped>\n",
       "    .dataframe tbody tr th:only-of-type {\n",
       "        vertical-align: middle;\n",
       "    }\n",
       "\n",
       "    .dataframe tbody tr th {\n",
       "        vertical-align: top;\n",
       "    }\n",
       "\n",
       "    .dataframe thead th {\n",
       "        text-align: right;\n",
       "    }\n",
       "</style>\n",
       "<table border=\"1\" class=\"dataframe\">\n",
       "  <thead>\n",
       "    <tr style=\"text-align: right;\">\n",
       "      <th></th>\n",
       "      <th>median</th>\n",
       "      <th>count</th>\n",
       "    </tr>\n",
       "    <tr>\n",
       "      <th>floor</th>\n",
       "      <th></th>\n",
       "      <th></th>\n",
       "    </tr>\n",
       "  </thead>\n",
       "  <tbody>\n",
       "    <tr>\n",
       "      <th>22</th>\n",
       "      <td>5350000.0</td>\n",
       "      <td>113</td>\n",
       "    </tr>\n",
       "    <tr>\n",
       "      <th>18</th>\n",
       "      <td>5345000.0</td>\n",
       "      <td>176</td>\n",
       "    </tr>\n",
       "    <tr>\n",
       "      <th>13</th>\n",
       "      <td>5300000.0</td>\n",
       "      <td>374</td>\n",
       "    </tr>\n",
       "    <tr>\n",
       "      <th>21</th>\n",
       "      <td>5200000.0</td>\n",
       "      <td>123</td>\n",
       "    </tr>\n",
       "    <tr>\n",
       "      <th>16</th>\n",
       "      <td>5200000.0</td>\n",
       "      <td>312</td>\n",
       "    </tr>\n",
       "    <tr>\n",
       "      <th>23</th>\n",
       "      <td>5185000.0</td>\n",
       "      <td>100</td>\n",
       "    </tr>\n",
       "    <tr>\n",
       "      <th>24</th>\n",
       "      <td>5150000.0</td>\n",
       "      <td>62</td>\n",
       "    </tr>\n",
       "    <tr>\n",
       "      <th>11</th>\n",
       "      <td>5100000.0</td>\n",
       "      <td>515</td>\n",
       "    </tr>\n",
       "    <tr>\n",
       "      <th>12</th>\n",
       "      <td>5100000.0</td>\n",
       "      <td>519</td>\n",
       "    </tr>\n",
       "    <tr>\n",
       "      <th>14</th>\n",
       "      <td>5000000.0</td>\n",
       "      <td>332</td>\n",
       "    </tr>\n",
       "    <tr>\n",
       "      <th>10</th>\n",
       "      <td>4999000.0</td>\n",
       "      <td>675</td>\n",
       "    </tr>\n",
       "    <tr>\n",
       "      <th>15</th>\n",
       "      <td>4995000.0</td>\n",
       "      <td>336</td>\n",
       "    </tr>\n",
       "    <tr>\n",
       "      <th>6</th>\n",
       "      <td>4990000.0</td>\n",
       "      <td>1261</td>\n",
       "    </tr>\n",
       "    <tr>\n",
       "      <th>20</th>\n",
       "      <td>4950000.0</td>\n",
       "      <td>110</td>\n",
       "    </tr>\n",
       "    <tr>\n",
       "      <th>19</th>\n",
       "      <td>4900000.0</td>\n",
       "      <td>139</td>\n",
       "    </tr>\n",
       "    <tr>\n",
       "      <th>7</th>\n",
       "      <td>4889500.0</td>\n",
       "      <td>1180</td>\n",
       "    </tr>\n",
       "    <tr>\n",
       "      <th>17</th>\n",
       "      <td>4800000.0</td>\n",
       "      <td>225</td>\n",
       "    </tr>\n",
       "    <tr>\n",
       "      <th>8</th>\n",
       "      <td>4775000.0</td>\n",
       "      <td>1057</td>\n",
       "    </tr>\n",
       "    <tr>\n",
       "      <th>25</th>\n",
       "      <td>4725000.0</td>\n",
       "      <td>44</td>\n",
       "    </tr>\n",
       "    <tr>\n",
       "      <th>9</th>\n",
       "      <td>4650000.0</td>\n",
       "      <td>1038</td>\n",
       "    </tr>\n",
       "    <tr>\n",
       "      <th>4</th>\n",
       "      <td>4600000.0</td>\n",
       "      <td>2726</td>\n",
       "    </tr>\n",
       "    <tr>\n",
       "      <th>3</th>\n",
       "      <td>4500000.0</td>\n",
       "      <td>3001</td>\n",
       "    </tr>\n",
       "    <tr>\n",
       "      <th>27</th>\n",
       "      <td>4494000.0</td>\n",
       "      <td>10</td>\n",
       "    </tr>\n",
       "    <tr>\n",
       "      <th>2</th>\n",
       "      <td>4400000.0</td>\n",
       "      <td>3305</td>\n",
       "    </tr>\n",
       "    <tr>\n",
       "      <th>5</th>\n",
       "      <td>4300000.0</td>\n",
       "      <td>2550</td>\n",
       "    </tr>\n",
       "    <tr>\n",
       "      <th>26</th>\n",
       "      <td>4040000.0</td>\n",
       "      <td>24</td>\n",
       "    </tr>\n",
       "    <tr>\n",
       "      <th>1</th>\n",
       "      <td>3900000.0</td>\n",
       "      <td>2893</td>\n",
       "    </tr>\n",
       "  </tbody>\n",
       "</table>\n",
       "</div>"
      ],
      "text/plain": [
       "          median  count\n",
       "floor                  \n",
       "22     5350000.0    113\n",
       "18     5345000.0    176\n",
       "13     5300000.0    374\n",
       "21     5200000.0    123\n",
       "16     5200000.0    312\n",
       "23     5185000.0    100\n",
       "24     5150000.0     62\n",
       "11     5100000.0    515\n",
       "12     5100000.0    519\n",
       "14     5000000.0    332\n",
       "10     4999000.0    675\n",
       "15     4995000.0    336\n",
       "6      4990000.0   1261\n",
       "20     4950000.0    110\n",
       "19     4900000.0    139\n",
       "7      4889500.0   1180\n",
       "17     4800000.0    225\n",
       "8      4775000.0   1057\n",
       "25     4725000.0     44\n",
       "9      4650000.0   1038\n",
       "4      4600000.0   2726\n",
       "3      4500000.0   3001\n",
       "27     4494000.0     10\n",
       "2      4400000.0   3305\n",
       "5      4300000.0   2550\n",
       "26     4040000.0     24\n",
       "1      3900000.0   2893"
      ]
     },
     "execution_count": 88,
     "metadata": {},
     "output_type": "execute_result"
    }
   ],
   "source": [
    "# в таблице видим, что домов больше 28 этажей всего по одному, отсечем их и посмотрим еще раз\n",
    "data_type_of_floor.query('floor < 28').sort_values(by='median', ascending=False)"
   ]
  },
  {
   "cell_type": "code",
   "execution_count": 89,
   "id": "12c93bd5",
   "metadata": {
    "scrolled": true
   },
   "outputs": [
    {
     "data": {
      "image/png": "[encoded data removed]",
      "text/plain": [
       "<Figure size 432x288 with 1 Axes>"
      ]
     },
     "metadata": {
      "needs_background": "light"
     },
     "output_type": "display_data"
    }
   ],
   "source": [
    "# посмотрим также просто линейный график\n",
    "data.query('(last_price < @p) & (floor < 28)').pivot_table(index='floor', values='last_price', aggfunc=['median']).plot();"
   ]
  },
  {
   "cell_type": "markdown",
   "id": "2fe5b32a",
   "metadata": {},
   "source": [
    "* Мы видим, что дешевле всего квартиры на первых этажах, чуть дороже последние этажи. Самые дорогие этажи - не последние и не первые, группа \"другой\". В этой группе самый дорогой - 22 этаж."
   ]
  },
  {
   "cell_type": "markdown",
   "id": "a92970ea",
   "metadata": {},
   "source": [
    "### 3.3.6 Влияние даты размещения (день недели, месяц, год) на цену"
   ]
  },
  {
   "cell_type": "code",
   "execution_count": 90,
   "id": "22893f3f",
   "metadata": {
    "scrolled": true
   },
   "outputs": [
    {
     "data": {
      "image/png": "[encoded data removed]",
      "text/plain": [
       "<Figure size 432x288 with 1 Axes>"
      ]
     },
     "metadata": {
      "needs_background": "light"
     },
     "output_type": "display_data"
    }
   ],
   "source": [
    "data.query('last_price < @p'). \\\n",
    "pivot_table(index='year', values='last_price', aggfunc=['median']).plot();"
   ]
  },
  {
   "cell_type": "code",
   "execution_count": 91,
   "id": "1022dc8d",
   "metadata": {},
   "outputs": [
    {
     "data": {
      "image/png": "[encoded data removed]",
      "text/plain": [
       "<Figure size 864x360 with 1 Axes>"
      ]
     },
     "metadata": {
      "needs_background": "light"
     },
     "output_type": "display_data"
    }
   ],
   "source": [
    "data.query('last_price < @p'). \\\n",
    "pivot_table(index='year', values='last_price', aggfunc=['median']).plot(kind='bar', figsize=(12,5));"
   ]
  },
  {
   "cell_type": "code",
   "execution_count": 92,
   "id": "034ee47c",
   "metadata": {},
   "outputs": [
    {
     "data": {
      "image/png": "[encoded data removed]",
      "text/plain": [
       "<Figure size 432x288 with 1 Axes>"
      ]
     },
     "metadata": {
      "needs_background": "light"
     },
     "output_type": "display_data"
    }
   ],
   "source": [
    "data.query('last_price < @p'). \\\n",
    "pivot_table(index='month', values='last_price', aggfunc=['median']).plot();"
   ]
  },
  {
   "cell_type": "code",
   "execution_count": 93,
   "id": "e29b6061",
   "metadata": {},
   "outputs": [
    {
     "data": {
      "image/png": "[encoded data removed]",
      "text/plain": [
       "<Figure size 864x360 with 1 Axes>"
      ]
     },
     "metadata": {
      "needs_background": "light"
     },
     "output_type": "display_data"
    }
   ],
   "source": [
    "data.query('last_price < @p'). \\\n",
    "pivot_table(index='month', values='last_price', aggfunc=['median']).plot(kind='bar', figsize=(12,5));"
   ]
  },
  {
   "cell_type": "code",
   "execution_count": 94,
   "id": "74910683",
   "metadata": {
    "scrolled": false
   },
   "outputs": [
    {
     "data": {
      "image/png": "[encoded data removed]",
      "text/plain": [
       "<Figure size 432x288 with 1 Axes>"
      ]
     },
     "metadata": {
      "needs_background": "light"
     },
     "output_type": "display_data"
    }
   ],
   "source": [
    "data.query('last_price < @p'). \\\n",
    "pivot_table(index='weekday', values='last_price', aggfunc=['median']).plot();"
   ]
  },
  {
   "cell_type": "code",
   "execution_count": 95,
   "id": "cdf25a27",
   "metadata": {},
   "outputs": [
    {
     "data": {
      "image/png": "[encoded data removed]",
      "text/plain": [
       "<Figure size 864x360 with 1 Axes>"
      ]
     },
     "metadata": {
      "needs_background": "light"
     },
     "output_type": "display_data"
    }
   ],
   "source": [
    "data.query('last_price < @p'). \\\n",
    "pivot_table(index='weekday', values='last_price', aggfunc=['median']).plot(kind='bar', figsize=(12,5));"
   ]
  },
  {
   "cell_type": "markdown",
   "id": "dc65062c",
   "metadata": {},
   "source": [
    "* В 2014 году продавали квартиры дороже всего, потом недвижимость стала падать в цене. После 2018 цена снова стала расти.\n",
    "* Дешевле всего квартиры почему-то в мае-июне.\n",
    "* Дороже всего квартиры выставляют в понедельник-вторник, в выходные дешевле всего, но в целом разница не очень велика."
   ]
  },
  {
   "cell_type": "markdown",
   "id": "ff159041",
   "metadata": {},
   "source": [
    "## 3.4 Средняя цена одного квадратного метра в 10 населённых пунктах с наибольшим числом объявлений"
   ]
  },
  {
   "cell_type": "code",
   "execution_count": 96,
   "id": "48a2d7c3",
   "metadata": {},
   "outputs": [],
   "source": [
    "data_price_per_square = data. \\\n",
    "pivot_table(index='locality_name', values='price_per_square', aggfunc=['mean', 'count'])"
   ]
  },
  {
   "cell_type": "code",
   "execution_count": 97,
   "id": "8b79f5c3",
   "metadata": {},
   "outputs": [],
   "source": [
    "data_price_per_square.columns = ['mean_price', 'count']"
   ]
  },
  {
   "cell_type": "code",
   "execution_count": 98,
   "id": "f7752636",
   "metadata": {},
   "outputs": [],
   "source": [
    "data_price_per_square = data_price_per_square.sort_values(by='count', ascending=False).head(10)"
   ]
  },
  {
   "cell_type": "code",
   "execution_count": 99,
   "id": "54dd50c5",
   "metadata": {},
   "outputs": [
    {
     "data": {
      "text/html": [
       "<div>\n",
       "<style scoped>\n",
       "    .dataframe tbody tr th:only-of-type {\n",
       "        vertical-align: middle;\n",
       "    }\n",
       "\n",
       "    .dataframe tbody tr th {\n",
       "        vertical-align: top;\n",
       "    }\n",
       "\n",
       "    .dataframe thead th {\n",
       "        text-align: right;\n",
       "    }\n",
       "</style>\n",
       "<table border=\"1\" class=\"dataframe\">\n",
       "  <thead>\n",
       "    <tr style=\"text-align: right;\">\n",
       "      <th></th>\n",
       "      <th>mean_price</th>\n",
       "      <th>count</th>\n",
       "    </tr>\n",
       "    <tr>\n",
       "      <th>locality_name</th>\n",
       "      <th></th>\n",
       "      <th></th>\n",
       "    </tr>\n",
       "  </thead>\n",
       "  <tbody>\n",
       "    <tr>\n",
       "      <th>Санкт-Петербург</th>\n",
       "      <td>114849.008794</td>\n",
       "      <td>15721</td>\n",
       "    </tr>\n",
       "    <tr>\n",
       "      <th>Пушкин</th>\n",
       "      <td>103125.819291</td>\n",
       "      <td>369</td>\n",
       "    </tr>\n",
       "    <tr>\n",
       "      <th>Кудрово</th>\n",
       "      <td>95324.930544</td>\n",
       "      <td>472</td>\n",
       "    </tr>\n",
       "    <tr>\n",
       "      <th>Парголово</th>\n",
       "      <td>90175.913458</td>\n",
       "      <td>327</td>\n",
       "    </tr>\n",
       "    <tr>\n",
       "      <th>Мурино</th>\n",
       "      <td>86087.512050</td>\n",
       "      <td>590</td>\n",
       "    </tr>\n",
       "    <tr>\n",
       "      <th>Шушары</th>\n",
       "      <td>78677.364217</td>\n",
       "      <td>440</td>\n",
       "    </tr>\n",
       "    <tr>\n",
       "      <th>Колпино</th>\n",
       "      <td>75424.579098</td>\n",
       "      <td>338</td>\n",
       "    </tr>\n",
       "    <tr>\n",
       "      <th>Гатчина</th>\n",
       "      <td>68746.146763</td>\n",
       "      <td>307</td>\n",
       "    </tr>\n",
       "    <tr>\n",
       "      <th>Всеволожск</th>\n",
       "      <td>68654.473986</td>\n",
       "      <td>398</td>\n",
       "    </tr>\n",
       "    <tr>\n",
       "      <th>Выборг</th>\n",
       "      <td>58141.909153</td>\n",
       "      <td>237</td>\n",
       "    </tr>\n",
       "  </tbody>\n",
       "</table>\n",
       "</div>"
      ],
      "text/plain": [
       "                    mean_price  count\n",
       "locality_name                        \n",
       "Санкт-Петербург  114849.008794  15721\n",
       "Пушкин           103125.819291    369\n",
       "Кудрово           95324.930544    472\n",
       "Парголово         90175.913458    327\n",
       "Мурино            86087.512050    590\n",
       "Шушары            78677.364217    440\n",
       "Колпино           75424.579098    338\n",
       "Гатчина           68746.146763    307\n",
       "Всеволожск        68654.473986    398\n",
       "Выборг            58141.909153    237"
      ]
     },
     "execution_count": 99,
     "metadata": {},
     "output_type": "execute_result"
    }
   ],
   "source": [
    "data_price_per_square.sort_values(by='mean_price', ascending=False)"
   ]
  },
  {
   "cell_type": "markdown",
   "id": "79fe6226",
   "metadata": {},
   "source": [
    "* Ожидаемо, самая большая цена в Санкт-Петербурге. Выборг на 10 месте."
   ]
  },
  {
   "cell_type": "markdown",
   "id": "bda161b7",
   "metadata": {},
   "source": [
    "## 3.5 Зависимость цены от расстояния до центра Петербурга\n"
   ]
  },
  {
   "cell_type": "code",
   "execution_count": 100,
   "id": "97ed0e89",
   "metadata": {},
   "outputs": [],
   "source": [
    "data_spb = data.query('locality_name == \"Санкт-Петербург\"')"
   ]
  },
  {
   "cell_type": "code",
   "execution_count": 101,
   "id": "9f27e506",
   "metadata": {},
   "outputs": [
    {
     "data": {
      "image/png": "[encoded data removed]",
      "text/plain": [
       "<Figure size 720x360 with 2 Axes>"
      ]
     },
     "metadata": {
      "needs_background": "light"
     },
     "output_type": "display_data"
    }
   ],
   "source": [
    "# построим график по свобной таблице через пивот\n",
    "data_spb. \\\n",
    "pivot_table(index='cityCenters_nearest_km', values='price_per_square', aggfunc=['mean', 'count']).  \\\n",
    "plot(kind='bar', figsize=(10,5), subplots=True);"
   ]
  },
  {
   "cell_type": "code",
   "execution_count": 102,
   "id": "34fc168c",
   "metadata": {
    "scrolled": false
   },
   "outputs": [
    {
     "data": {
      "image/png": "[encoded data removed]",
      "text/plain": [
       "<Figure size 720x360 with 1 Axes>"
      ]
     },
     "metadata": {
      "needs_background": "light"
     },
     "output_type": "display_data"
    }
   ],
   "source": [
    "# а теперь такой же график по groupby\n",
    "data_spb.groupby('cityCenters_nearest_km')['price_per_square'].mean().plot(kind='bar', figsize=(10,5));"
   ]
  },
  {
   "cell_type": "markdown",
   "id": "d2180fa7",
   "metadata": {},
   "source": [
    "* Видим, что цена падает по мере удаления от центра. Есть пики и увеличение цены на 27 и 4-7 километрах. Возможно, это может быть связано с аномальными квартирами"
   ]
  },
  {
   "cell_type": "code",
   "execution_count": 103,
   "id": "9980c18b",
   "metadata": {
    "scrolled": true
   },
   "outputs": [
    {
     "data": {
      "text/html": [
       "<div>\n",
       "<style scoped>\n",
       "    .dataframe tbody tr th:only-of-type {\n",
       "        vertical-align: middle;\n",
       "    }\n",
       "\n",
       "    .dataframe tbody tr th {\n",
       "        vertical-align: top;\n",
       "    }\n",
       "\n",
       "    .dataframe thead th {\n",
       "        text-align: right;\n",
       "    }\n",
       "</style>\n",
       "<table border=\"1\" class=\"dataframe\">\n",
       "  <thead>\n",
       "    <tr style=\"text-align: right;\">\n",
       "      <th></th>\n",
       "      <th>total_images</th>\n",
       "      <th>last_price</th>\n",
       "      <th>total_area</th>\n",
       "      <th>first_day_exposition</th>\n",
       "      <th>rooms</th>\n",
       "      <th>ceiling_height</th>\n",
       "      <th>floors_total</th>\n",
       "      <th>living_area</th>\n",
       "      <th>floor</th>\n",
       "      <th>is_apartment</th>\n",
       "      <th>studio</th>\n",
       "      <th>open_plan</th>\n",
       "      <th>kitchen_area</th>\n",
       "      <th>balcony</th>\n",
       "      <th>locality_name</th>\n",
       "      <th>airports_nearest</th>\n",
       "      <th>cityCenters_nearest</th>\n",
       "      <th>parks_around3000</th>\n",
       "      <th>parks_nearest</th>\n",
       "      <th>ponds_around3000</th>\n",
       "      <th>ponds_nearest</th>\n",
       "      <th>days_exposition</th>\n",
       "      <th>price_per_square</th>\n",
       "      <th>weekday</th>\n",
       "      <th>month</th>\n",
       "      <th>year</th>\n",
       "      <th>type_of_floor</th>\n",
       "      <th>cityCenters_nearest_km</th>\n",
       "    </tr>\n",
       "  </thead>\n",
       "  <tbody>\n",
       "    <tr>\n",
       "      <th>748</th>\n",
       "      <td>13</td>\n",
       "      <td>14350000.0</td>\n",
       "      <td>74.0</td>\n",
       "      <td>2017-11-28</td>\n",
       "      <td>2</td>\n",
       "      <td>3.13</td>\n",
       "      <td>5</td>\n",
       "      <td>30.0</td>\n",
       "      <td>3</td>\n",
       "      <td>False</td>\n",
       "      <td>False</td>\n",
       "      <td>False</td>\n",
       "      <td>25.0</td>\n",
       "      <td>0</td>\n",
       "      <td>Санкт-Петербург</td>\n",
       "      <td>23888.0</td>\n",
       "      <td>27313.0</td>\n",
       "      <td>1.0</td>\n",
       "      <td>1496.0</td>\n",
       "      <td>0.0</td>\n",
       "      <td>NaN</td>\n",
       "      <td>128.0</td>\n",
       "      <td>193918.918919</td>\n",
       "      <td>1</td>\n",
       "      <td>11</td>\n",
       "      <td>2017</td>\n",
       "      <td>другой</td>\n",
       "      <td>27.0</td>\n",
       "    </tr>\n",
       "    <tr>\n",
       "      <th>5961</th>\n",
       "      <td>6</td>\n",
       "      <td>2250000.0</td>\n",
       "      <td>32.0</td>\n",
       "      <td>2018-02-27</td>\n",
       "      <td>1</td>\n",
       "      <td>55555.00</td>\n",
       "      <td>2</td>\n",
       "      <td>16.5</td>\n",
       "      <td>2</td>\n",
       "      <td>False</td>\n",
       "      <td>False</td>\n",
       "      <td>False</td>\n",
       "      <td>7.0</td>\n",
       "      <td>0</td>\n",
       "      <td>Санкт-Петербург</td>\n",
       "      <td>24006.0</td>\n",
       "      <td>27431.0</td>\n",
       "      <td>0.0</td>\n",
       "      <td>NaN</td>\n",
       "      <td>0.0</td>\n",
       "      <td>NaN</td>\n",
       "      <td>178.0</td>\n",
       "      <td>70312.500000</td>\n",
       "      <td>1</td>\n",
       "      <td>2</td>\n",
       "      <td>2018</td>\n",
       "      <td>последний</td>\n",
       "      <td>27.0</td>\n",
       "    </tr>\n",
       "  </tbody>\n",
       "</table>\n",
       "</div>"
      ],
      "text/plain": [
       "      total_images  last_price  total_area first_day_exposition  rooms  \\\n",
       "748             13  14350000.0        74.0           2017-11-28      2   \n",
       "5961             6   2250000.0        32.0           2018-02-27      1   \n",
       "\n",
       "      ceiling_height  floors_total  living_area  floor  is_apartment  studio  \\\n",
       "748             3.13             5         30.0      3         False   False   \n",
       "5961        55555.00             2         16.5      2         False   False   \n",
       "\n",
       "      open_plan  kitchen_area  balcony    locality_name  airports_nearest  \\\n",
       "748       False          25.0        0  Санкт-Петербург           23888.0   \n",
       "5961      False           7.0        0  Санкт-Петербург           24006.0   \n",
       "\n",
       "      cityCenters_nearest  parks_around3000  parks_nearest  ponds_around3000  \\\n",
       "748               27313.0               1.0         1496.0               0.0   \n",
       "5961              27431.0               0.0            NaN               0.0   \n",
       "\n",
       "      ponds_nearest  days_exposition  price_per_square  weekday  month  year  \\\n",
       "748             NaN            128.0     193918.918919        1     11  2017   \n",
       "5961            NaN            178.0      70312.500000        1      2  2018   \n",
       "\n",
       "     type_of_floor  cityCenters_nearest_km  \n",
       "748         другой                    27.0  \n",
       "5961     последний                    27.0  "
      ]
     },
     "execution_count": 103,
     "metadata": {},
     "output_type": "execute_result"
    }
   ],
   "source": [
    "# посмотрим, что за квартиры скрываются на 27 километре\n",
    "data_spb[data_spb['cityCenters_nearest_km'] == 27.0]"
   ]
  },
  {
   "cell_type": "markdown",
   "id": "a9235823",
   "metadata": {},
   "source": [
    "* Видим, что цена падает по мере удаления от центра. Есть пики и увеличение цены на 27 и 4-7 километрах. Возможно, на 4-7 километре есть какой-то ЖК бизнес-класса с дорогой недвижимостью, стоимость которой определяется не только близостью к центру, но и многими другими параметрами. На 27 километре мы видим две квартиры, одна из которых очень дорогая, и среднее этих квартир и дает такой большой пик на графике. Вряд ли это какое-то несуществующее объявление, просто вероятно так совпало, что здесь всего две квартиры и средняя цена за квадрат получилась такой высокой."
   ]
  },
  {
   "cell_type": "markdown",
   "id": "f891919b",
   "metadata": {},
   "source": [
    "# 4. Общий вывод"
   ]
  },
  {
   "cell_type": "markdown",
   "id": "8cfc5747",
   "metadata": {},
   "source": [
    "* При предобработке данных обнаружились многочисленные пропуски. Некоторые были вероятно вызваны ошибками при заполнении, как например высота потолков. Некоторые значения не были указаны, как количество балконов или апартаментов. \n",
    "* Также были обнаружены многочисленные дубликаты в столбце с названиями населенных пунктов, основная часть из них была обработана\n",
    "\n",
    "### Основные параметры и выявленные зависимости:\n",
    " * 99% квартир имеют площадь меньше 197 кв.метров и всего 1% меньше 25 кв.метров\n",
    " * медиана общей площади равна 51.9 кв.м и среднее общей площади 52.0 кв.м\n",
    " * Средная жилая площадь равна 30 кв.метрам. \n",
    " * Площадь кухни находится в диапазоне от 5 до 35 квадратов\n",
    " * Средняя стоимость жилья равна 4650000 руб. 98% квартир стоят меньше 25000000 руб.\n",
    " * В среднем квартиру продают за 89 дней, а медиана равна 67 дням\n",
    " \n",
    " \n",
    " * Подтверждается зависимость стоимости квартиры от общей площади, жилой площади и площади кухни. Чем больше площадь, тем выше цена. Коэффициенты корреляции для этих параметров равны 0.65, 0.57, 0.52 соответственно\n",
    " * В меньшей степени на стоимость влияет количество комнат, связь между ними более слабая\n",
    " * На стоимость влияет также этаж. Первый - самый дешевый, медианное значение - 3900000 руб. Чуть дороже последний - 4241500 руб. Из всех остальных этажей самый дорогой 22 этаж - 5350000 руб.\n",
    " * После 2014 года наблюдается резкое падение цены, потом дальнейшее плавное снижение, после 2018 стоимость квартир начинает расти\n",
    " * Интересное наблюдение - меньше всего объявлений выставляют по выходным и в мае-июне. Стоимость также падает в эти периоды.\n",
    " \n",
    " * Самая дорогая недвижимость в Санкт-Петербурге - 114849 руб/кв.метр. По мере удаления квартиры от центра стоимость падает\n",
    " \n",
    " \n",
    " * При обработке также были обнаружены некие квартиры с очень большой площадью и/или высокой стоимостью (до 700 млн руб). ТАк как такие квартиры вполне могут существовать, логично будет отделять такую недвижимость и рассматривать ее как элитную. Иначе она очень сильно перетягивает среднее многих параметров. Также вероятно, что в данные могли попасть коммерческие площади, они конечно же тоже должны рассматриваться отдельно \n"
   ]
  },
  {
   "cell_type": "code",
   "execution_count": null,
   "id": "650215b7",
   "metadata": {},
   "outputs": [],
   "source": []
  }
 ],
 "metadata": {
  "ExecuteTimeLog": [
   {
    "duration": 988,
    "start_time": "2022-07-11T18:25:08.364Z"
   },
   {
    "duration": 27,
    "start_time": "2022-07-11T18:25:09.354Z"
   },
   {
    "duration": 16,
    "start_time": "2022-07-11T18:25:09.382Z"
   },
   {
    "duration": 2020,
    "start_time": "2022-07-11T18:25:09.400Z"
   },
   {
    "duration": 10,
    "start_time": "2022-07-11T18:25:11.422Z"
   },
   {
    "duration": 6,
    "start_time": "2022-07-11T18:25:11.433Z"
   },
   {
    "duration": 6,
    "start_time": "2022-07-11T18:25:11.440Z"
   },
   {
    "duration": 4,
    "start_time": "2022-07-11T18:25:11.448Z"
   },
   {
    "duration": 9,
    "start_time": "2022-07-11T18:25:11.453Z"
   },
   {
    "duration": 17,
    "start_time": "2022-07-11T18:25:11.465Z"
   },
   {
    "duration": 6,
    "start_time": "2022-07-11T18:25:11.484Z"
   },
   {
    "duration": 13,
    "start_time": "2022-07-11T18:25:11.492Z"
   },
   {
    "duration": 20,
    "start_time": "2022-07-11T18:25:11.507Z"
   },
   {
    "duration": 7,
    "start_time": "2022-07-11T18:25:11.529Z"
   },
   {
    "duration": 33,
    "start_time": "2022-07-11T18:25:11.538Z"
   },
   {
    "duration": 11,
    "start_time": "2022-07-11T18:25:11.573Z"
   },
   {
    "duration": 3,
    "start_time": "2022-07-11T18:25:11.586Z"
   },
   {
    "duration": 8,
    "start_time": "2022-07-11T18:25:11.590Z"
   },
   {
    "duration": 20,
    "start_time": "2022-07-11T18:25:11.599Z"
   },
   {
    "duration": 7,
    "start_time": "2022-07-11T18:25:11.620Z"
   },
   {
    "duration": 276,
    "start_time": "2022-07-11T18:25:11.629Z"
   },
   {
    "duration": 131,
    "start_time": "2022-07-11T18:25:11.907Z"
   },
   {
    "duration": 2,
    "start_time": "2022-07-11T18:25:12.040Z"
   },
   {
    "duration": 20,
    "start_time": "2022-07-11T18:25:12.044Z"
   },
   {
    "duration": 21,
    "start_time": "2022-07-11T18:25:12.065Z"
   },
   {
    "duration": 4,
    "start_time": "2022-07-11T18:25:12.087Z"
   },
   {
    "duration": 8,
    "start_time": "2022-07-11T18:25:12.092Z"
   },
   {
    "duration": 5,
    "start_time": "2022-07-11T18:25:12.104Z"
   },
   {
    "duration": 7,
    "start_time": "2022-07-11T18:25:12.111Z"
   },
   {
    "duration": 3,
    "start_time": "2022-07-11T18:25:12.119Z"
   },
   {
    "duration": 276,
    "start_time": "2022-07-11T18:25:12.124Z"
   },
   {
    "duration": 5,
    "start_time": "2022-07-11T18:25:12.402Z"
   },
   {
    "duration": 196,
    "start_time": "2022-07-11T18:25:12.409Z"
   },
   {
    "duration": 6,
    "start_time": "2022-07-11T18:25:12.606Z"
   },
   {
    "duration": 155,
    "start_time": "2022-07-11T18:25:12.614Z"
   },
   {
    "duration": 20,
    "start_time": "2022-07-11T18:25:12.771Z"
   },
   {
    "duration": 135,
    "start_time": "2022-07-11T18:25:12.792Z"
   },
   {
    "duration": 16,
    "start_time": "2022-07-11T18:25:12.929Z"
   },
   {
    "duration": 145,
    "start_time": "2022-07-11T18:25:12.947Z"
   },
   {
    "duration": 117,
    "start_time": "2022-07-11T18:25:13.094Z"
   },
   {
    "duration": 16,
    "start_time": "2022-07-11T18:25:13.213Z"
   },
   {
    "duration": 156,
    "start_time": "2022-07-11T18:25:13.231Z"
   },
   {
    "duration": 142,
    "start_time": "2022-07-11T18:25:13.388Z"
   },
   {
    "duration": 133,
    "start_time": "2022-07-11T18:25:13.532Z"
   },
   {
    "duration": 122,
    "start_time": "2022-07-11T18:25:13.667Z"
   },
   {
    "duration": 139,
    "start_time": "2022-07-11T18:25:13.791Z"
   },
   {
    "duration": 135,
    "start_time": "2022-07-11T18:25:13.932Z"
   },
   {
    "duration": 179,
    "start_time": "2022-07-11T18:25:14.069Z"
   },
   {
    "duration": 141,
    "start_time": "2022-07-11T18:25:14.250Z"
   },
   {
    "duration": 119,
    "start_time": "2022-07-11T18:25:14.392Z"
   },
   {
    "duration": 137,
    "start_time": "2022-07-11T18:25:14.513Z"
   },
   {
    "duration": 143,
    "start_time": "2022-07-11T18:25:14.651Z"
   },
   {
    "duration": 123,
    "start_time": "2022-07-11T18:25:14.795Z"
   },
   {
    "duration": 17,
    "start_time": "2022-07-11T18:25:14.920Z"
   },
   {
    "duration": 249,
    "start_time": "2022-07-11T18:25:14.938Z"
   },
   {
    "duration": 5,
    "start_time": "2022-07-11T18:25:15.188Z"
   },
   {
    "duration": 243,
    "start_time": "2022-07-11T18:25:15.194Z"
   },
   {
    "duration": 6,
    "start_time": "2022-07-11T18:25:15.438Z"
   },
   {
    "duration": 236,
    "start_time": "2022-07-11T18:25:15.445Z"
   },
   {
    "duration": 5,
    "start_time": "2022-07-11T18:25:15.683Z"
   },
   {
    "duration": 213,
    "start_time": "2022-07-11T18:25:15.690Z"
   },
   {
    "duration": 5,
    "start_time": "2022-07-11T18:25:15.905Z"
   },
   {
    "duration": 9,
    "start_time": "2022-07-11T18:25:15.912Z"
   },
   {
    "duration": 220,
    "start_time": "2022-07-11T18:25:15.923Z"
   },
   {
    "duration": 46,
    "start_time": "2022-07-11T18:25:16.144Z"
   },
   {
    "duration": 26,
    "start_time": "2022-07-11T18:25:16.192Z"
   },
   {
    "duration": 18,
    "start_time": "2022-07-11T18:25:16.220Z"
   },
   {
    "duration": 320,
    "start_time": "2022-07-11T18:25:16.241Z"
   },
   {
    "duration": 170,
    "start_time": "2022-07-11T18:25:16.563Z"
   },
   {
    "duration": 160,
    "start_time": "2022-07-11T18:25:16.735Z"
   },
   {
    "duration": 179,
    "start_time": "2022-07-11T18:25:16.897Z"
   },
   {
    "duration": 18,
    "start_time": "2022-07-11T18:25:17.078Z"
   },
   {
    "duration": 2,
    "start_time": "2022-07-11T18:25:17.098Z"
   },
   {
    "duration": 10,
    "start_time": "2022-07-11T18:25:17.101Z"
   },
   {
    "duration": 12,
    "start_time": "2022-07-11T18:25:17.112Z"
   },
   {
    "duration": 8,
    "start_time": "2022-07-11T18:25:17.126Z"
   },
   {
    "duration": 340,
    "start_time": "2022-07-11T18:25:17.136Z"
   },
   {
    "duration": 247,
    "start_time": "2022-07-11T18:25:17.478Z"
   },
   {
    "duration": 55,
    "start_time": "2022-07-12T18:32:53.970Z"
   },
   {
    "duration": 1154,
    "start_time": "2022-07-12T18:33:17.806Z"
   },
   {
    "duration": 26,
    "start_time": "2022-07-12T18:33:18.962Z"
   },
   {
    "duration": 14,
    "start_time": "2022-07-12T18:33:18.989Z"
   },
   {
    "duration": 2437,
    "start_time": "2022-07-12T18:33:19.005Z"
   },
   {
    "duration": 22,
    "start_time": "2022-07-12T18:33:21.446Z"
   },
   {
    "duration": 24,
    "start_time": "2022-07-12T18:33:21.470Z"
   },
   {
    "duration": 63,
    "start_time": "2022-07-12T18:33:21.496Z"
   },
   {
    "duration": 15,
    "start_time": "2022-07-12T18:33:21.561Z"
   },
   {
    "duration": 11,
    "start_time": "2022-07-12T18:33:21.579Z"
   },
   {
    "duration": 9,
    "start_time": "2022-07-12T18:33:21.594Z"
   },
   {
    "duration": 44,
    "start_time": "2022-07-12T18:33:21.607Z"
   },
   {
    "duration": 21,
    "start_time": "2022-07-12T18:33:21.654Z"
   },
   {
    "duration": 47,
    "start_time": "2022-07-12T18:33:21.678Z"
   },
   {
    "duration": 58,
    "start_time": "2022-07-12T18:33:21.730Z"
   },
   {
    "duration": 10,
    "start_time": "2022-07-12T18:33:21.790Z"
   },
   {
    "duration": 45,
    "start_time": "2022-07-12T18:33:21.802Z"
   },
   {
    "duration": 32,
    "start_time": "2022-07-12T18:33:21.851Z"
   },
   {
    "duration": 6,
    "start_time": "2022-07-12T18:33:21.886Z"
   },
   {
    "duration": 20,
    "start_time": "2022-07-12T18:33:21.894Z"
   },
   {
    "duration": 65,
    "start_time": "2022-07-12T18:33:21.916Z"
   },
   {
    "duration": 10,
    "start_time": "2022-07-12T18:33:21.983Z"
   },
   {
    "duration": 338,
    "start_time": "2022-07-12T18:33:21.995Z"
   },
   {
    "duration": 166,
    "start_time": "2022-07-12T18:33:22.336Z"
   },
   {
    "duration": 10,
    "start_time": "2022-07-12T18:33:22.509Z"
   },
   {
    "duration": 35,
    "start_time": "2022-07-12T18:33:22.522Z"
   },
   {
    "duration": 11,
    "start_time": "2022-07-12T18:33:22.559Z"
   },
   {
    "duration": 4,
    "start_time": "2022-07-12T18:33:22.571Z"
   },
   {
    "duration": 6,
    "start_time": "2022-07-12T18:33:22.578Z"
   },
   {
    "duration": 7,
    "start_time": "2022-07-12T18:33:22.586Z"
   },
   {
    "duration": 5,
    "start_time": "2022-07-12T18:33:22.595Z"
   },
   {
    "duration": 3,
    "start_time": "2022-07-12T18:33:22.602Z"
   },
   {
    "duration": 399,
    "start_time": "2022-07-12T18:33:22.607Z"
   },
   {
    "duration": 6,
    "start_time": "2022-07-12T18:33:23.008Z"
   },
   {
    "duration": 266,
    "start_time": "2022-07-12T18:33:23.016Z"
   },
   {
    "duration": 7,
    "start_time": "2022-07-12T18:33:23.283Z"
   },
   {
    "duration": 183,
    "start_time": "2022-07-12T18:33:23.291Z"
   },
   {
    "duration": 19,
    "start_time": "2022-07-12T18:33:23.476Z"
   },
   {
    "duration": 188,
    "start_time": "2022-07-12T18:33:23.496Z"
   },
   {
    "duration": 17,
    "start_time": "2022-07-12T18:33:23.686Z"
   },
   {
    "duration": 171,
    "start_time": "2022-07-12T18:33:23.704Z"
   },
   {
    "duration": 126,
    "start_time": "2022-07-12T18:33:23.877Z"
   },
   {
    "duration": 35,
    "start_time": "2022-07-12T18:33:24.004Z"
   },
   {
    "duration": 198,
    "start_time": "2022-07-12T18:33:24.041Z"
   },
   {
    "duration": 152,
    "start_time": "2022-07-12T18:33:24.241Z"
   },
   {
    "duration": 157,
    "start_time": "2022-07-12T18:33:24.395Z"
   },
   {
    "duration": 142,
    "start_time": "2022-07-12T18:33:24.553Z"
   },
   {
    "duration": 184,
    "start_time": "2022-07-12T18:33:24.697Z"
   },
   {
    "duration": 157,
    "start_time": "2022-07-12T18:33:24.883Z"
   },
   {
    "duration": 216,
    "start_time": "2022-07-12T18:33:25.044Z"
   },
   {
    "duration": 176,
    "start_time": "2022-07-12T18:33:25.261Z"
   },
   {
    "duration": 126,
    "start_time": "2022-07-12T18:33:25.440Z"
   },
   {
    "duration": 144,
    "start_time": "2022-07-12T18:33:25.567Z"
   },
   {
    "duration": 168,
    "start_time": "2022-07-12T18:33:25.713Z"
   },
   {
    "duration": 162,
    "start_time": "2022-07-12T18:33:25.883Z"
   },
   {
    "duration": 19,
    "start_time": "2022-07-12T18:33:26.047Z"
   },
   {
    "duration": 307,
    "start_time": "2022-07-12T18:33:26.067Z"
   },
   {
    "duration": 6,
    "start_time": "2022-07-12T18:33:26.376Z"
   },
   {
    "duration": 289,
    "start_time": "2022-07-12T18:33:26.383Z"
   },
   {
    "duration": 6,
    "start_time": "2022-07-12T18:33:26.674Z"
   },
   {
    "duration": 294,
    "start_time": "2022-07-12T18:33:26.681Z"
   },
   {
    "duration": 5,
    "start_time": "2022-07-12T18:33:26.976Z"
   },
   {
    "duration": 269,
    "start_time": "2022-07-12T18:33:26.983Z"
   },
   {
    "duration": 8,
    "start_time": "2022-07-12T18:33:27.254Z"
   },
   {
    "duration": 33,
    "start_time": "2022-07-12T18:33:27.263Z"
   },
   {
    "duration": 273,
    "start_time": "2022-07-12T18:33:27.298Z"
   },
   {
    "duration": 28,
    "start_time": "2022-07-12T18:33:27.573Z"
   },
   {
    "duration": 64,
    "start_time": "2022-07-12T18:33:27.603Z"
   },
   {
    "duration": 12,
    "start_time": "2022-07-12T18:33:27.669Z"
   },
   {
    "duration": 298,
    "start_time": "2022-07-12T18:33:27.683Z"
   },
   {
    "duration": 181,
    "start_time": "2022-07-12T18:33:27.983Z"
   },
   {
    "duration": 197,
    "start_time": "2022-07-12T18:33:28.166Z"
   },
   {
    "duration": 197,
    "start_time": "2022-07-12T18:33:28.364Z"
   },
   {
    "duration": 17,
    "start_time": "2022-07-12T18:33:28.563Z"
   },
   {
    "duration": 3,
    "start_time": "2022-07-12T18:33:28.581Z"
   },
   {
    "duration": 11,
    "start_time": "2022-07-12T18:33:28.586Z"
   },
   {
    "duration": 21,
    "start_time": "2022-07-12T18:33:28.599Z"
   },
   {
    "duration": 40,
    "start_time": "2022-07-12T18:33:28.622Z"
   },
   {
    "duration": 411,
    "start_time": "2022-07-12T18:33:28.664Z"
   },
   {
    "duration": 291,
    "start_time": "2022-07-12T18:33:29.077Z"
   },
   {
    "duration": 9,
    "start_time": "2022-07-12T18:36:21.046Z"
   },
   {
    "duration": 6,
    "start_time": "2022-07-12T18:54:17.330Z"
   },
   {
    "duration": 7,
    "start_time": "2022-07-12T18:54:24.047Z"
   },
   {
    "duration": 10,
    "start_time": "2022-07-12T18:57:37.216Z"
   },
   {
    "duration": 7,
    "start_time": "2022-07-12T19:00:30.238Z"
   },
   {
    "duration": 6,
    "start_time": "2022-07-12T19:01:19.968Z"
   },
   {
    "duration": 11,
    "start_time": "2022-07-12T19:01:51.336Z"
   },
   {
    "duration": 6,
    "start_time": "2022-07-12T19:02:06.754Z"
   },
   {
    "duration": 16,
    "start_time": "2022-07-12T19:02:08.835Z"
   },
   {
    "duration": 47,
    "start_time": "2022-07-13T18:16:19.886Z"
   },
   {
    "duration": 912,
    "start_time": "2022-07-13T18:17:10.431Z"
   },
   {
    "duration": 27,
    "start_time": "2022-07-13T18:17:11.345Z"
   },
   {
    "duration": 16,
    "start_time": "2022-07-13T18:17:11.374Z"
   },
   {
    "duration": 1976,
    "start_time": "2022-07-13T18:17:11.393Z"
   },
   {
    "duration": 8,
    "start_time": "2022-07-13T18:17:13.371Z"
   },
   {
    "duration": 22,
    "start_time": "2022-07-13T18:17:13.381Z"
   },
   {
    "duration": 3,
    "start_time": "2022-07-13T18:17:13.404Z"
   },
   {
    "duration": 14,
    "start_time": "2022-07-13T18:17:13.408Z"
   },
   {
    "duration": 13,
    "start_time": "2022-07-13T18:17:13.423Z"
   },
   {
    "duration": 5,
    "start_time": "2022-07-13T18:17:13.439Z"
   },
   {
    "duration": 11,
    "start_time": "2022-07-13T18:17:13.446Z"
   },
   {
    "duration": 7,
    "start_time": "2022-07-13T18:17:13.458Z"
   },
   {
    "duration": 8,
    "start_time": "2022-07-13T18:17:13.466Z"
   },
   {
    "duration": 5,
    "start_time": "2022-07-13T18:17:13.475Z"
   },
   {
    "duration": 4,
    "start_time": "2022-07-13T18:17:13.481Z"
   },
   {
    "duration": 14,
    "start_time": "2022-07-13T18:17:13.486Z"
   },
   {
    "duration": 3,
    "start_time": "2022-07-13T18:17:13.502Z"
   },
   {
    "duration": 7,
    "start_time": "2022-07-13T18:17:13.507Z"
   },
   {
    "duration": 4,
    "start_time": "2022-07-13T18:17:13.543Z"
   },
   {
    "duration": 24,
    "start_time": "2022-07-13T18:17:13.548Z"
   },
   {
    "duration": 2,
    "start_time": "2022-07-13T18:17:13.573Z"
   },
   {
    "duration": 20,
    "start_time": "2022-07-13T18:17:13.577Z"
   },
   {
    "duration": 8,
    "start_time": "2022-07-13T18:17:13.599Z"
   },
   {
    "duration": 12,
    "start_time": "2022-07-13T18:17:13.608Z"
   },
   {
    "duration": 8,
    "start_time": "2022-07-13T18:17:13.621Z"
   },
   {
    "duration": 5,
    "start_time": "2022-07-13T18:17:13.642Z"
   },
   {
    "duration": 17,
    "start_time": "2022-07-13T18:17:13.648Z"
   },
   {
    "duration": 6,
    "start_time": "2022-07-13T18:17:13.668Z"
   },
   {
    "duration": 285,
    "start_time": "2022-07-13T18:17:13.676Z"
   },
   {
    "duration": 138,
    "start_time": "2022-07-13T18:17:13.963Z"
   },
   {
    "duration": 2,
    "start_time": "2022-07-13T18:17:14.103Z"
   },
   {
    "duration": 6,
    "start_time": "2022-07-13T18:17:14.106Z"
   },
   {
    "duration": 11,
    "start_time": "2022-07-13T18:17:14.113Z"
   },
   {
    "duration": 165,
    "start_time": "2022-07-13T18:17:14.125Z"
   },
   {
    "duration": 151,
    "start_time": "2022-07-13T18:17:45.762Z"
   },
   {
    "duration": 141,
    "start_time": "2022-07-13T18:18:20.350Z"
   },
   {
    "duration": 227,
    "start_time": "2022-07-13T18:18:36.186Z"
   },
   {
    "duration": 154,
    "start_time": "2022-07-13T18:18:52.796Z"
   },
   {
    "duration": 142,
    "start_time": "2022-07-13T18:21:01.164Z"
   },
   {
    "duration": 148,
    "start_time": "2022-07-13T18:21:06.547Z"
   },
   {
    "duration": 148,
    "start_time": "2022-07-13T18:21:34.826Z"
   },
   {
    "duration": 234,
    "start_time": "2022-07-13T18:21:47.165Z"
   },
   {
    "duration": 146,
    "start_time": "2022-07-13T18:21:57.466Z"
   },
   {
    "duration": 133,
    "start_time": "2022-07-13T18:24:32.522Z"
   },
   {
    "duration": 149,
    "start_time": "2022-07-13T18:24:37.980Z"
   },
   {
    "duration": 132,
    "start_time": "2022-07-13T18:24:43.106Z"
   },
   {
    "duration": 160,
    "start_time": "2022-07-13T18:24:47.634Z"
   },
   {
    "duration": 258,
    "start_time": "2022-07-13T18:24:54.255Z"
   },
   {
    "duration": 146,
    "start_time": "2022-07-13T18:25:08.621Z"
   },
   {
    "duration": 154,
    "start_time": "2022-07-13T18:25:25.172Z"
   },
   {
    "duration": 140,
    "start_time": "2022-07-13T18:25:33.574Z"
   },
   {
    "duration": 136,
    "start_time": "2022-07-13T18:26:21.606Z"
   },
   {
    "duration": 143,
    "start_time": "2022-07-13T18:26:28.158Z"
   },
   {
    "duration": 75,
    "start_time": "2022-07-13T18:45:57.856Z"
   },
   {
    "duration": 22,
    "start_time": "2022-07-13T18:45:57.933Z"
   },
   {
    "duration": 17,
    "start_time": "2022-07-13T18:45:57.956Z"
   },
   {
    "duration": 1987,
    "start_time": "2022-07-13T18:45:57.974Z"
   },
   {
    "duration": 11,
    "start_time": "2022-07-13T18:45:59.962Z"
   },
   {
    "duration": 21,
    "start_time": "2022-07-13T18:45:59.975Z"
   },
   {
    "duration": 3,
    "start_time": "2022-07-13T18:45:59.997Z"
   },
   {
    "duration": 5,
    "start_time": "2022-07-13T18:46:00.002Z"
   },
   {
    "duration": 34,
    "start_time": "2022-07-13T18:46:00.008Z"
   },
   {
    "duration": 4,
    "start_time": "2022-07-13T18:46:00.045Z"
   },
   {
    "duration": 10,
    "start_time": "2022-07-13T18:46:00.050Z"
   },
   {
    "duration": 6,
    "start_time": "2022-07-13T18:46:00.061Z"
   },
   {
    "duration": 7,
    "start_time": "2022-07-13T18:46:00.068Z"
   },
   {
    "duration": 7,
    "start_time": "2022-07-13T18:46:00.076Z"
   },
   {
    "duration": 10,
    "start_time": "2022-07-13T18:46:00.084Z"
   },
   {
    "duration": 10,
    "start_time": "2022-07-13T18:46:00.096Z"
   },
   {
    "duration": 7,
    "start_time": "2022-07-13T18:46:00.108Z"
   },
   {
    "duration": 34,
    "start_time": "2022-07-13T18:46:00.117Z"
   },
   {
    "duration": 6,
    "start_time": "2022-07-13T18:46:00.152Z"
   },
   {
    "duration": 15,
    "start_time": "2022-07-13T18:46:00.160Z"
   },
   {
    "duration": 2,
    "start_time": "2022-07-13T18:46:00.177Z"
   },
   {
    "duration": 10,
    "start_time": "2022-07-13T18:46:00.180Z"
   },
   {
    "duration": 6,
    "start_time": "2022-07-13T18:46:00.192Z"
   },
   {
    "duration": 15,
    "start_time": "2022-07-13T18:46:00.200Z"
   },
   {
    "duration": 4,
    "start_time": "2022-07-13T18:46:00.217Z"
   },
   {
    "duration": 4,
    "start_time": "2022-07-13T18:46:00.242Z"
   },
   {
    "duration": 20,
    "start_time": "2022-07-13T18:46:00.248Z"
   },
   {
    "duration": 9,
    "start_time": "2022-07-13T18:46:00.271Z"
   },
   {
    "duration": 303,
    "start_time": "2022-07-13T18:46:00.281Z"
   },
   {
    "duration": 177,
    "start_time": "2022-07-13T18:46:00.586Z"
   },
   {
    "duration": 3,
    "start_time": "2022-07-13T18:46:00.765Z"
   },
   {
    "duration": 11,
    "start_time": "2022-07-13T18:46:00.770Z"
   },
   {
    "duration": 18,
    "start_time": "2022-07-13T18:46:00.784Z"
   },
   {
    "duration": 169,
    "start_time": "2022-07-13T18:46:00.804Z"
   },
   {
    "duration": 174,
    "start_time": "2022-07-13T18:46:00.975Z"
   },
   {
    "duration": 150,
    "start_time": "2022-07-13T18:46:01.151Z"
   },
   {
    "duration": 4,
    "start_time": "2022-07-13T18:46:01.302Z"
   },
   {
    "duration": 31,
    "start_time": "2022-07-13T18:46:01.308Z"
   },
   {
    "duration": 11,
    "start_time": "2022-07-13T18:46:01.341Z"
   },
   {
    "duration": 13,
    "start_time": "2022-07-13T18:46:01.353Z"
   },
   {
    "duration": 5,
    "start_time": "2022-07-13T18:46:01.368Z"
   },
   {
    "duration": 402,
    "start_time": "2022-07-13T18:46:01.375Z"
   },
   {
    "duration": 5,
    "start_time": "2022-07-13T18:46:01.779Z"
   },
   {
    "duration": 122,
    "start_time": "2022-07-13T18:46:01.786Z"
   },
   {
    "duration": 7,
    "start_time": "2022-07-13T18:46:01.910Z"
   },
   {
    "duration": 153,
    "start_time": "2022-07-13T18:46:01.918Z"
   },
   {
    "duration": 18,
    "start_time": "2022-07-13T18:46:02.073Z"
   },
   {
    "duration": 142,
    "start_time": "2022-07-13T18:46:02.092Z"
   },
   {
    "duration": 19,
    "start_time": "2022-07-13T18:46:02.236Z"
   },
   {
    "duration": 141,
    "start_time": "2022-07-13T18:46:02.257Z"
   },
   {
    "duration": 16,
    "start_time": "2022-07-13T18:46:02.400Z"
   },
   {
    "duration": 20,
    "start_time": "2022-07-13T18:57:41.270Z"
   },
   {
    "duration": 15,
    "start_time": "2022-07-13T18:59:13.998Z"
   },
   {
    "duration": 15,
    "start_time": "2022-07-13T19:00:50.697Z"
   },
   {
    "duration": 82,
    "start_time": "2022-07-13T19:01:02.239Z"
   },
   {
    "duration": 32,
    "start_time": "2022-07-13T19:01:02.323Z"
   },
   {
    "duration": 26,
    "start_time": "2022-07-13T19:01:02.358Z"
   },
   {
    "duration": 2074,
    "start_time": "2022-07-13T19:01:02.387Z"
   },
   {
    "duration": 13,
    "start_time": "2022-07-13T19:01:04.464Z"
   },
   {
    "duration": 39,
    "start_time": "2022-07-13T19:01:04.483Z"
   },
   {
    "duration": 13,
    "start_time": "2022-07-13T19:01:04.525Z"
   },
   {
    "duration": 36,
    "start_time": "2022-07-13T19:01:04.540Z"
   },
   {
    "duration": 22,
    "start_time": "2022-07-13T19:01:04.579Z"
   },
   {
    "duration": 11,
    "start_time": "2022-07-13T19:01:04.605Z"
   },
   {
    "duration": 13,
    "start_time": "2022-07-13T19:01:04.619Z"
   },
   {
    "duration": 24,
    "start_time": "2022-07-13T19:01:04.634Z"
   },
   {
    "duration": 42,
    "start_time": "2022-07-13T19:01:04.660Z"
   },
   {
    "duration": 24,
    "start_time": "2022-07-13T19:01:04.704Z"
   },
   {
    "duration": 14,
    "start_time": "2022-07-13T19:01:04.730Z"
   },
   {
    "duration": 26,
    "start_time": "2022-07-13T19:01:04.746Z"
   },
   {
    "duration": 34,
    "start_time": "2022-07-13T19:01:04.774Z"
   },
   {
    "duration": 44,
    "start_time": "2022-07-13T19:01:04.811Z"
   },
   {
    "duration": 13,
    "start_time": "2022-07-13T19:01:04.857Z"
   },
   {
    "duration": 15,
    "start_time": "2022-07-13T19:01:04.871Z"
   },
   {
    "duration": 3,
    "start_time": "2022-07-13T19:01:04.888Z"
   },
   {
    "duration": 16,
    "start_time": "2022-07-13T19:01:04.892Z"
   },
   {
    "duration": 7,
    "start_time": "2022-07-13T19:01:04.910Z"
   },
   {
    "duration": 12,
    "start_time": "2022-07-13T19:01:04.919Z"
   },
   {
    "duration": 11,
    "start_time": "2022-07-13T19:01:04.932Z"
   },
   {
    "duration": 27,
    "start_time": "2022-07-13T19:01:04.944Z"
   },
   {
    "duration": 17,
    "start_time": "2022-07-13T19:01:04.973Z"
   },
   {
    "duration": 7,
    "start_time": "2022-07-13T19:01:04.993Z"
   },
   {
    "duration": 275,
    "start_time": "2022-07-13T19:01:05.001Z"
   },
   {
    "duration": 172,
    "start_time": "2022-07-13T19:01:05.280Z"
   },
   {
    "duration": 3,
    "start_time": "2022-07-13T19:01:05.454Z"
   },
   {
    "duration": 7,
    "start_time": "2022-07-13T19:01:05.459Z"
   },
   {
    "duration": 19,
    "start_time": "2022-07-13T19:01:05.468Z"
   },
   {
    "duration": 191,
    "start_time": "2022-07-13T19:01:05.489Z"
   },
   {
    "duration": 187,
    "start_time": "2022-07-13T19:01:05.682Z"
   },
   {
    "duration": 162,
    "start_time": "2022-07-13T19:01:05.871Z"
   },
   {
    "duration": 9,
    "start_time": "2022-07-13T19:01:06.034Z"
   },
   {
    "duration": 11,
    "start_time": "2022-07-13T19:01:06.044Z"
   },
   {
    "duration": 6,
    "start_time": "2022-07-13T19:01:06.057Z"
   },
   {
    "duration": 6,
    "start_time": "2022-07-13T19:01:06.065Z"
   },
   {
    "duration": 4,
    "start_time": "2022-07-13T19:01:06.072Z"
   },
   {
    "duration": 392,
    "start_time": "2022-07-13T19:01:06.077Z"
   },
   {
    "duration": 5,
    "start_time": "2022-07-13T19:01:06.471Z"
   },
   {
    "duration": 122,
    "start_time": "2022-07-13T19:01:06.477Z"
   },
   {
    "duration": 7,
    "start_time": "2022-07-13T19:01:06.601Z"
   },
   {
    "duration": 169,
    "start_time": "2022-07-13T19:01:06.610Z"
   },
   {
    "duration": 27,
    "start_time": "2022-07-13T19:01:06.781Z"
   },
   {
    "duration": 180,
    "start_time": "2022-07-13T19:01:06.810Z"
   },
   {
    "duration": 21,
    "start_time": "2022-07-13T19:01:06.992Z"
   },
   {
    "duration": 163,
    "start_time": "2022-07-13T19:01:07.015Z"
   },
   {
    "duration": 18,
    "start_time": "2022-07-13T19:01:07.179Z"
   },
   {
    "duration": 135,
    "start_time": "2022-07-13T19:01:07.198Z"
   },
   {
    "duration": 21,
    "start_time": "2022-07-13T19:01:07.335Z"
   },
   {
    "duration": 160,
    "start_time": "2022-07-13T19:01:07.358Z"
   },
   {
    "duration": 24,
    "start_time": "2022-07-13T19:01:07.519Z"
   },
   {
    "duration": 134,
    "start_time": "2022-07-13T19:01:07.544Z"
   },
   {
    "duration": 14,
    "start_time": "2022-07-13T19:01:07.679Z"
   },
   {
    "duration": 153,
    "start_time": "2022-07-13T19:01:07.695Z"
   },
   {
    "duration": 15,
    "start_time": "2022-07-13T19:01:07.850Z"
   },
   {
    "duration": 16,
    "start_time": "2022-07-13T19:03:37.226Z"
   },
   {
    "duration": 13,
    "start_time": "2022-07-13T19:05:37.571Z"
   },
   {
    "duration": 15,
    "start_time": "2022-07-13T19:06:42.793Z"
   },
   {
    "duration": 23,
    "start_time": "2022-07-13T19:06:50.786Z"
   },
   {
    "duration": 20,
    "start_time": "2022-07-13T19:06:55.320Z"
   },
   {
    "duration": 16,
    "start_time": "2022-07-13T19:07:30.865Z"
   },
   {
    "duration": 17,
    "start_time": "2022-07-13T19:08:45.216Z"
   },
   {
    "duration": 5,
    "start_time": "2022-07-13T19:10:30.268Z"
   },
   {
    "duration": 6,
    "start_time": "2022-07-13T19:11:22.999Z"
   },
   {
    "duration": 26,
    "start_time": "2022-07-13T19:21:34.535Z"
   },
   {
    "duration": 33,
    "start_time": "2022-07-13T19:21:52.691Z"
   },
   {
    "duration": 20,
    "start_time": "2022-07-13T19:22:10.883Z"
   },
   {
    "duration": 23,
    "start_time": "2022-07-13T19:24:09.817Z"
   },
   {
    "duration": 12,
    "start_time": "2022-07-13T19:26:41.130Z"
   },
   {
    "duration": 128,
    "start_time": "2022-07-13T19:28:10.869Z"
   },
   {
    "duration": 222,
    "start_time": "2022-07-13T19:28:21.442Z"
   },
   {
    "duration": 123,
    "start_time": "2022-07-13T19:29:10.378Z"
   },
   {
    "duration": 171,
    "start_time": "2022-07-13T19:29:17.287Z"
   },
   {
    "duration": 164,
    "start_time": "2022-07-13T19:29:25.229Z"
   },
   {
    "duration": 24,
    "start_time": "2022-07-13T19:29:45.267Z"
   },
   {
    "duration": 154,
    "start_time": "2022-07-13T19:30:40.931Z"
   },
   {
    "duration": 19,
    "start_time": "2022-07-13T19:33:00.013Z"
   },
   {
    "duration": 648,
    "start_time": "2022-07-13T19:42:02.686Z"
   },
   {
    "duration": 26,
    "start_time": "2022-07-13T19:42:03.336Z"
   },
   {
    "duration": 17,
    "start_time": "2022-07-13T19:42:03.363Z"
   },
   {
    "duration": 1903,
    "start_time": "2022-07-13T19:42:03.382Z"
   },
   {
    "duration": 9,
    "start_time": "2022-07-13T19:42:05.286Z"
   },
   {
    "duration": 27,
    "start_time": "2022-07-13T19:42:05.297Z"
   },
   {
    "duration": 3,
    "start_time": "2022-07-13T19:42:05.325Z"
   },
   {
    "duration": 6,
    "start_time": "2022-07-13T19:42:05.329Z"
   },
   {
    "duration": 11,
    "start_time": "2022-07-13T19:42:05.337Z"
   },
   {
    "duration": 6,
    "start_time": "2022-07-13T19:42:05.350Z"
   },
   {
    "duration": 9,
    "start_time": "2022-07-13T19:42:05.358Z"
   },
   {
    "duration": 6,
    "start_time": "2022-07-13T19:42:05.369Z"
   },
   {
    "duration": 6,
    "start_time": "2022-07-13T19:42:05.377Z"
   },
   {
    "duration": 6,
    "start_time": "2022-07-13T19:42:05.384Z"
   },
   {
    "duration": 8,
    "start_time": "2022-07-13T19:42:05.392Z"
   },
   {
    "duration": 14,
    "start_time": "2022-07-13T19:42:05.402Z"
   },
   {
    "duration": 25,
    "start_time": "2022-07-13T19:42:05.417Z"
   },
   {
    "duration": 7,
    "start_time": "2022-07-13T19:42:05.444Z"
   },
   {
    "duration": 7,
    "start_time": "2022-07-13T19:42:05.453Z"
   },
   {
    "duration": 15,
    "start_time": "2022-07-13T19:42:05.461Z"
   },
   {
    "duration": 2,
    "start_time": "2022-07-13T19:42:05.478Z"
   },
   {
    "duration": 8,
    "start_time": "2022-07-13T19:42:05.481Z"
   },
   {
    "duration": 6,
    "start_time": "2022-07-13T19:42:05.490Z"
   },
   {
    "duration": 13,
    "start_time": "2022-07-13T19:42:05.498Z"
   },
   {
    "duration": 3,
    "start_time": "2022-07-13T19:42:05.512Z"
   },
   {
    "duration": 30,
    "start_time": "2022-07-13T19:42:05.516Z"
   },
   {
    "duration": 21,
    "start_time": "2022-07-13T19:42:05.548Z"
   },
   {
    "duration": 6,
    "start_time": "2022-07-13T19:42:05.573Z"
   },
   {
    "duration": 258,
    "start_time": "2022-07-13T19:42:05.580Z"
   },
   {
    "duration": 134,
    "start_time": "2022-07-13T19:42:05.841Z"
   },
   {
    "duration": 2,
    "start_time": "2022-07-13T19:42:05.977Z"
   },
   {
    "duration": 11,
    "start_time": "2022-07-13T19:42:05.981Z"
   },
   {
    "duration": 14,
    "start_time": "2022-07-13T19:42:05.994Z"
   },
   {
    "duration": 157,
    "start_time": "2022-07-13T19:42:06.010Z"
   },
   {
    "duration": 159,
    "start_time": "2022-07-13T19:42:06.169Z"
   },
   {
    "duration": 148,
    "start_time": "2022-07-13T19:42:06.330Z"
   },
   {
    "duration": 5,
    "start_time": "2022-07-13T19:42:06.479Z"
   },
   {
    "duration": 9,
    "start_time": "2022-07-13T19:42:06.485Z"
   },
   {
    "duration": 4,
    "start_time": "2022-07-13T19:42:06.496Z"
   },
   {
    "duration": 5,
    "start_time": "2022-07-13T19:42:06.501Z"
   },
   {
    "duration": 3,
    "start_time": "2022-07-13T19:42:06.508Z"
   },
   {
    "duration": 375,
    "start_time": "2022-07-13T19:42:06.512Z"
   },
   {
    "duration": 4,
    "start_time": "2022-07-13T19:42:06.889Z"
   },
   {
    "duration": 117,
    "start_time": "2022-07-13T19:42:06.894Z"
   },
   {
    "duration": 6,
    "start_time": "2022-07-13T19:42:07.012Z"
   },
   {
    "duration": 148,
    "start_time": "2022-07-13T19:42:07.020Z"
   },
   {
    "duration": 18,
    "start_time": "2022-07-13T19:42:07.170Z"
   },
   {
    "duration": 135,
    "start_time": "2022-07-13T19:42:07.190Z"
   },
   {
    "duration": 22,
    "start_time": "2022-07-13T19:42:07.327Z"
   },
   {
    "duration": 139,
    "start_time": "2022-07-13T19:42:07.350Z"
   },
   {
    "duration": 15,
    "start_time": "2022-07-13T19:42:07.491Z"
   },
   {
    "duration": 115,
    "start_time": "2022-07-13T19:42:07.508Z"
   },
   {
    "duration": 25,
    "start_time": "2022-07-13T19:42:07.625Z"
   },
   {
    "duration": 147,
    "start_time": "2022-07-13T19:42:07.651Z"
   },
   {
    "duration": 14,
    "start_time": "2022-07-13T19:42:07.799Z"
   },
   {
    "duration": 133,
    "start_time": "2022-07-13T19:42:07.814Z"
   },
   {
    "duration": 14,
    "start_time": "2022-07-13T19:42:07.949Z"
   },
   {
    "duration": 142,
    "start_time": "2022-07-13T19:42:07.965Z"
   },
   {
    "duration": 15,
    "start_time": "2022-07-13T19:42:08.109Z"
   },
   {
    "duration": 191,
    "start_time": "2022-07-13T19:42:08.126Z"
   },
   {
    "duration": 132,
    "start_time": "2022-07-13T19:42:08.319Z"
   },
   {
    "duration": 13,
    "start_time": "2022-07-13T19:42:08.453Z"
   },
   {
    "duration": 141,
    "start_time": "2022-07-13T19:42:08.468Z"
   },
   {
    "duration": 15,
    "start_time": "2022-07-13T19:42:08.611Z"
   },
   {
    "duration": 116,
    "start_time": "2022-07-13T19:42:08.628Z"
   },
   {
    "duration": 14,
    "start_time": "2022-07-13T19:42:08.745Z"
   },
   {
    "duration": 161,
    "start_time": "2022-07-13T19:42:08.761Z"
   },
   {
    "duration": 23,
    "start_time": "2022-07-13T19:42:08.923Z"
   },
   {
    "duration": 134,
    "start_time": "2022-07-13T19:42:08.949Z"
   },
   {
    "duration": 141,
    "start_time": "2022-07-13T19:42:09.085Z"
   },
   {
    "duration": 144,
    "start_time": "2022-07-13T19:42:09.227Z"
   },
   {
    "duration": 161,
    "start_time": "2022-07-13T19:42:09.373Z"
   },
   {
    "duration": 20,
    "start_time": "2022-07-13T19:42:09.536Z"
   },
   {
    "duration": 8,
    "start_time": "2022-07-13T19:42:09.558Z"
   },
   {
    "duration": 128,
    "start_time": "2022-07-13T19:42:09.568Z"
   },
   {
    "duration": 218,
    "start_time": "2022-07-13T19:42:09.697Z"
   },
   {
    "duration": 5,
    "start_time": "2022-07-13T19:42:09.916Z"
   },
   {
    "duration": 302,
    "start_time": "2022-07-13T19:42:09.922Z"
   },
   {
    "duration": 5,
    "start_time": "2022-07-13T19:42:10.226Z"
   },
   {
    "duration": 233,
    "start_time": "2022-07-13T19:42:10.232Z"
   },
   {
    "duration": 5,
    "start_time": "2022-07-13T19:42:10.466Z"
   },
   {
    "duration": 209,
    "start_time": "2022-07-13T19:42:10.476Z"
   },
   {
    "duration": 4,
    "start_time": "2022-07-13T19:42:10.687Z"
   },
   {
    "duration": 14,
    "start_time": "2022-07-13T19:42:10.693Z"
   },
   {
    "duration": 208,
    "start_time": "2022-07-13T19:42:10.709Z"
   },
   {
    "duration": 31,
    "start_time": "2022-07-13T19:42:10.919Z"
   },
   {
    "duration": 24,
    "start_time": "2022-07-13T19:42:10.952Z"
   },
   {
    "duration": 10,
    "start_time": "2022-07-13T19:42:10.978Z"
   },
   {
    "duration": 160,
    "start_time": "2022-07-13T19:42:10.989Z"
   },
   {
    "duration": 150,
    "start_time": "2022-07-13T19:42:11.151Z"
   },
   {
    "duration": 159,
    "start_time": "2022-07-13T19:42:11.303Z"
   },
   {
    "duration": 183,
    "start_time": "2022-07-13T19:42:11.463Z"
   },
   {
    "duration": 16,
    "start_time": "2022-07-13T19:42:11.647Z"
   },
   {
    "duration": 2,
    "start_time": "2022-07-13T19:42:11.665Z"
   },
   {
    "duration": 7,
    "start_time": "2022-07-13T19:42:11.668Z"
   },
   {
    "duration": 10,
    "start_time": "2022-07-13T19:42:11.676Z"
   },
   {
    "duration": 8,
    "start_time": "2022-07-13T19:42:11.688Z"
   },
   {
    "duration": 322,
    "start_time": "2022-07-13T19:42:11.697Z"
   },
   {
    "duration": 232,
    "start_time": "2022-07-13T19:42:12.021Z"
   },
   {
    "duration": 206,
    "start_time": "2022-07-13T19:44:07.559Z"
   },
   {
    "duration": 126,
    "start_time": "2022-07-13T19:44:38.454Z"
   },
   {
    "duration": 138,
    "start_time": "2022-07-13T19:44:43.923Z"
   },
   {
    "duration": 160,
    "start_time": "2022-07-13T19:44:47.508Z"
   },
   {
    "duration": 173,
    "start_time": "2022-07-13T19:45:03.596Z"
   },
   {
    "duration": 169,
    "start_time": "2022-07-13T19:45:18.221Z"
   },
   {
    "duration": 166,
    "start_time": "2022-07-13T19:45:30.485Z"
   },
   {
    "duration": 144,
    "start_time": "2022-07-13T19:45:56.677Z"
   },
   {
    "duration": 12,
    "start_time": "2022-07-13T19:53:30.612Z"
   },
   {
    "duration": 341,
    "start_time": "2022-07-13T19:53:31.737Z"
   },
   {
    "duration": 222,
    "start_time": "2022-07-13T19:53:43.352Z"
   },
   {
    "duration": 9,
    "start_time": "2022-07-13T19:53:49.088Z"
   },
   {
    "duration": 394,
    "start_time": "2022-07-13T19:53:49.543Z"
   },
   {
    "duration": 214,
    "start_time": "2022-07-13T19:53:50.601Z"
   },
   {
    "duration": 10,
    "start_time": "2022-07-13T19:55:21.283Z"
   },
   {
    "duration": 336,
    "start_time": "2022-07-13T19:55:21.811Z"
   },
   {
    "duration": 231,
    "start_time": "2022-07-13T19:55:28.492Z"
   },
   {
    "duration": 10,
    "start_time": "2022-07-13T19:55:48.783Z"
   },
   {
    "duration": 323,
    "start_time": "2022-07-13T19:55:49.267Z"
   },
   {
    "duration": 227,
    "start_time": "2022-07-13T19:55:51.929Z"
   },
   {
    "duration": 22,
    "start_time": "2022-07-13T19:56:47.857Z"
   },
   {
    "duration": 241,
    "start_time": "2022-07-13T19:58:16.732Z"
   },
   {
    "duration": 257,
    "start_time": "2022-07-13T19:58:27.653Z"
   },
   {
    "duration": 342,
    "start_time": "2022-07-13T19:58:36.978Z"
   },
   {
    "duration": 319,
    "start_time": "2022-07-13T19:58:58.760Z"
   },
   {
    "duration": 433,
    "start_time": "2022-07-13T20:00:38.362Z"
   },
   {
    "duration": 8,
    "start_time": "2022-07-13T20:01:48.657Z"
   },
   {
    "duration": 427,
    "start_time": "2022-07-13T20:01:49.288Z"
   },
   {
    "duration": 292,
    "start_time": "2022-07-13T20:01:52.628Z"
   },
   {
    "duration": 21,
    "start_time": "2022-07-13T20:03:15.444Z"
   },
   {
    "duration": 14,
    "start_time": "2022-07-13T20:09:51.302Z"
   },
   {
    "duration": 11,
    "start_time": "2022-07-13T20:10:21.215Z"
   },
   {
    "duration": 6,
    "start_time": "2022-07-13T20:11:06.130Z"
   },
   {
    "duration": 38,
    "start_time": "2022-07-13T20:11:47.034Z"
   },
   {
    "duration": 17,
    "start_time": "2022-07-13T20:12:11.583Z"
   },
   {
    "duration": 16,
    "start_time": "2022-07-13T20:12:24.259Z"
   },
   {
    "duration": 636,
    "start_time": "2022-07-13T20:18:42.997Z"
   },
   {
    "duration": 23,
    "start_time": "2022-07-13T20:18:43.634Z"
   },
   {
    "duration": 13,
    "start_time": "2022-07-13T20:18:43.659Z"
   },
   {
    "duration": 1927,
    "start_time": "2022-07-13T20:18:43.674Z"
   },
   {
    "duration": 11,
    "start_time": "2022-07-13T20:18:45.603Z"
   },
   {
    "duration": 23,
    "start_time": "2022-07-13T20:18:45.616Z"
   },
   {
    "duration": 2,
    "start_time": "2022-07-13T20:18:45.640Z"
   },
   {
    "duration": 7,
    "start_time": "2022-07-13T20:18:45.643Z"
   },
   {
    "duration": 7,
    "start_time": "2022-07-13T20:18:45.651Z"
   },
   {
    "duration": 5,
    "start_time": "2022-07-13T20:18:45.660Z"
   },
   {
    "duration": 8,
    "start_time": "2022-07-13T20:18:45.666Z"
   },
   {
    "duration": 6,
    "start_time": "2022-07-13T20:18:45.675Z"
   },
   {
    "duration": 6,
    "start_time": "2022-07-13T20:18:45.683Z"
   },
   {
    "duration": 5,
    "start_time": "2022-07-13T20:18:45.691Z"
   },
   {
    "duration": 3,
    "start_time": "2022-07-13T20:18:45.698Z"
   },
   {
    "duration": 9,
    "start_time": "2022-07-13T20:18:45.702Z"
   },
   {
    "duration": 31,
    "start_time": "2022-07-13T20:18:45.713Z"
   },
   {
    "duration": 8,
    "start_time": "2022-07-13T20:18:45.745Z"
   },
   {
    "duration": 5,
    "start_time": "2022-07-13T20:18:45.754Z"
   },
   {
    "duration": 13,
    "start_time": "2022-07-13T20:18:45.761Z"
   },
   {
    "duration": 3,
    "start_time": "2022-07-13T20:18:45.775Z"
   },
   {
    "duration": 9,
    "start_time": "2022-07-13T20:18:45.779Z"
   },
   {
    "duration": 5,
    "start_time": "2022-07-13T20:18:45.789Z"
   },
   {
    "duration": 10,
    "start_time": "2022-07-13T20:18:45.796Z"
   },
   {
    "duration": 2,
    "start_time": "2022-07-13T20:18:45.808Z"
   },
   {
    "duration": 4,
    "start_time": "2022-07-13T20:18:45.841Z"
   },
   {
    "duration": 17,
    "start_time": "2022-07-13T20:18:45.847Z"
   },
   {
    "duration": 9,
    "start_time": "2022-07-13T20:18:45.868Z"
   },
   {
    "duration": 273,
    "start_time": "2022-07-13T20:18:45.878Z"
   },
   {
    "duration": 131,
    "start_time": "2022-07-13T20:18:46.153Z"
   },
   {
    "duration": 3,
    "start_time": "2022-07-13T20:18:46.286Z"
   },
   {
    "duration": 4,
    "start_time": "2022-07-13T20:18:46.291Z"
   },
   {
    "duration": 10,
    "start_time": "2022-07-13T20:18:46.297Z"
   },
   {
    "duration": 149,
    "start_time": "2022-07-13T20:18:46.309Z"
   },
   {
    "duration": 153,
    "start_time": "2022-07-13T20:18:46.459Z"
   },
   {
    "duration": 141,
    "start_time": "2022-07-13T20:18:46.613Z"
   },
   {
    "duration": 3,
    "start_time": "2022-07-13T20:18:46.756Z"
   },
   {
    "duration": 13,
    "start_time": "2022-07-13T20:18:46.761Z"
   },
   {
    "duration": 7,
    "start_time": "2022-07-13T20:18:46.776Z"
   },
   {
    "duration": 7,
    "start_time": "2022-07-13T20:18:46.784Z"
   },
   {
    "duration": 3,
    "start_time": "2022-07-13T20:18:46.793Z"
   },
   {
    "duration": 359,
    "start_time": "2022-07-13T20:18:46.798Z"
   },
   {
    "duration": 3,
    "start_time": "2022-07-13T20:18:47.159Z"
   },
   {
    "duration": 111,
    "start_time": "2022-07-13T20:18:47.164Z"
   },
   {
    "duration": 6,
    "start_time": "2022-07-13T20:18:47.277Z"
   },
   {
    "duration": 144,
    "start_time": "2022-07-13T20:18:47.285Z"
   },
   {
    "duration": 24,
    "start_time": "2022-07-13T20:18:47.431Z"
   },
   {
    "duration": 139,
    "start_time": "2022-07-13T20:18:47.457Z"
   },
   {
    "duration": 17,
    "start_time": "2022-07-13T20:18:47.598Z"
   },
   {
    "duration": 140,
    "start_time": "2022-07-13T20:18:47.617Z"
   },
   {
    "duration": 16,
    "start_time": "2022-07-13T20:18:47.758Z"
   },
   {
    "duration": 115,
    "start_time": "2022-07-13T20:18:47.776Z"
   },
   {
    "duration": 16,
    "start_time": "2022-07-13T20:18:47.893Z"
   },
   {
    "duration": 153,
    "start_time": "2022-07-13T20:18:47.910Z"
   },
   {
    "duration": 14,
    "start_time": "2022-07-13T20:18:48.065Z"
   },
   {
    "duration": 147,
    "start_time": "2022-07-13T20:18:48.081Z"
   },
   {
    "duration": 21,
    "start_time": "2022-07-13T20:18:48.230Z"
   },
   {
    "duration": 130,
    "start_time": "2022-07-13T20:18:48.252Z"
   },
   {
    "duration": 14,
    "start_time": "2022-07-13T20:18:48.383Z"
   },
   {
    "duration": 211,
    "start_time": "2022-07-13T20:18:48.398Z"
   },
   {
    "duration": 146,
    "start_time": "2022-07-13T20:18:48.611Z"
   },
   {
    "duration": 14,
    "start_time": "2022-07-13T20:18:48.759Z"
   },
   {
    "duration": 134,
    "start_time": "2022-07-13T20:18:48.774Z"
   },
   {
    "duration": 13,
    "start_time": "2022-07-13T20:18:48.910Z"
   },
   {
    "duration": 108,
    "start_time": "2022-07-13T20:18:48.925Z"
   },
   {
    "duration": 13,
    "start_time": "2022-07-13T20:18:49.041Z"
   },
   {
    "duration": 142,
    "start_time": "2022-07-13T20:18:49.056Z"
   },
   {
    "duration": 13,
    "start_time": "2022-07-13T20:18:49.200Z"
   },
   {
    "duration": 121,
    "start_time": "2022-07-13T20:18:49.215Z"
   },
   {
    "duration": 120,
    "start_time": "2022-07-13T20:18:49.341Z"
   },
   {
    "duration": 142,
    "start_time": "2022-07-13T20:18:49.462Z"
   },
   {
    "duration": 176,
    "start_time": "2022-07-13T20:18:49.605Z"
   },
   {
    "duration": 20,
    "start_time": "2022-07-13T20:18:49.782Z"
   },
   {
    "duration": 9,
    "start_time": "2022-07-13T20:18:49.804Z"
   },
   {
    "duration": 128,
    "start_time": "2022-07-13T20:18:49.814Z"
   },
   {
    "duration": 219,
    "start_time": "2022-07-13T20:18:49.943Z"
   },
   {
    "duration": 5,
    "start_time": "2022-07-13T20:18:50.163Z"
   },
   {
    "duration": 280,
    "start_time": "2022-07-13T20:18:50.169Z"
   },
   {
    "duration": 5,
    "start_time": "2022-07-13T20:18:50.450Z"
   },
   {
    "duration": 224,
    "start_time": "2022-07-13T20:18:50.457Z"
   },
   {
    "duration": 5,
    "start_time": "2022-07-13T20:18:50.683Z"
   },
   {
    "duration": 202,
    "start_time": "2022-07-13T20:18:50.693Z"
   },
   {
    "duration": 6,
    "start_time": "2022-07-13T20:18:50.896Z"
   },
   {
    "duration": 10,
    "start_time": "2022-07-13T20:18:50.903Z"
   },
   {
    "duration": 209,
    "start_time": "2022-07-13T20:18:50.914Z"
   },
   {
    "duration": 36,
    "start_time": "2022-07-13T20:18:51.125Z"
   },
   {
    "duration": 24,
    "start_time": "2022-07-13T20:18:51.162Z"
   },
   {
    "duration": 10,
    "start_time": "2022-07-13T20:18:51.188Z"
   },
   {
    "duration": 154,
    "start_time": "2022-07-13T20:18:51.200Z"
   },
   {
    "duration": 145,
    "start_time": "2022-07-13T20:18:51.355Z"
   },
   {
    "duration": 171,
    "start_time": "2022-07-13T20:18:51.502Z"
   },
   {
    "duration": 159,
    "start_time": "2022-07-13T20:18:51.675Z"
   },
   {
    "duration": 180,
    "start_time": "2022-07-13T20:18:51.835Z"
   },
   {
    "duration": 157,
    "start_time": "2022-07-13T20:18:52.017Z"
   },
   {
    "duration": 150,
    "start_time": "2022-07-13T20:18:52.176Z"
   },
   {
    "duration": 29,
    "start_time": "2022-07-13T20:18:52.327Z"
   },
   {
    "duration": 3,
    "start_time": "2022-07-13T20:18:52.357Z"
   },
   {
    "duration": 7,
    "start_time": "2022-07-13T20:18:52.362Z"
   },
   {
    "duration": 11,
    "start_time": "2022-07-13T20:18:52.370Z"
   },
   {
    "duration": 8,
    "start_time": "2022-07-13T20:18:52.382Z"
   },
   {
    "duration": 516,
    "start_time": "2022-07-13T20:18:52.391Z"
   },
   {
    "duration": 239,
    "start_time": "2022-07-13T20:18:52.909Z"
   },
   {
    "duration": 23,
    "start_time": "2022-07-13T20:18:53.149Z"
   }
  ],
  "kernelspec": {
   "display_name": "Python 3 (ipykernel)",
   "language": "python",
   "name": "python3"
  },
  "language_info": {
   "codemirror_mode": {
    "name": "ipython",
    "version": 3
   },
   "file_extension": ".py",
   "mimetype": "text/x-python",
   "name": "python",
   "nbconvert_exporter": "python",
   "pygments_lexer": "ipython3",
   "version": "3.9.12"
  },
  "toc": {
   "base_numbering": 1,
   "nav_menu": {},
   "number_sections": true,
   "sideBar": true,
   "skip_h1_title": true,
   "title_cell": "Table of Contents",
   "title_sidebar": "Contents",
   "toc_cell": false,
   "toc_position": {},
   "toc_section_display": true,
   "toc_window_display": true
  }
 },
 "nbformat": 4,
 "nbformat_minor": 5
}
